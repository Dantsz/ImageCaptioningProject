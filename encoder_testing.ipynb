{
 "cells": [
  {
   "cell_type": "code",
   "execution_count": 1,
   "metadata": {},
   "outputs": [],
   "source": [
    "%reload_ext autoreload\n",
    "%autoreload 2\n",
    "import torch\n",
    "import torch.nn as nn\n",
    "import torch.optim as optim\n",
    "import torch.nn.functional as F\n",
    "from torch.utils.data import DataLoader\n",
    "import torchvision\n",
    "import torchvision.transforms as transforms\n",
    "from adic_components.prototype2 import P2Encoder"
   ]
  },
  {
   "cell_type": "code",
   "execution_count": 2,
   "metadata": {},
   "outputs": [],
   "source": [
    "# Define a simple classifier that maps embeddings to class scores\n",
    "class Classifier(nn.Module):\n",
    "    def __init__(self, d_model: int, input_width: int, input_height: int, num_classes: int):\n",
    "        super(Classifier, self).__init__()\n",
    "        self.h = input_height // 16\n",
    "        self.w = input_width // 16\n",
    "        self.fchead = nn.Linear(d_model * self.h * self.w, num_classes)\n",
    "\n",
    "    def forward(self, x):\n",
    "        x = x.view(x.size(0), -1)  # Flatten the input\n",
    "        return self.fchead(x)\n",
    "\n",
    "# Parameters\n",
    "input_channels = 3\n",
    "input_width = 32\n",
    "input_height = 32\n",
    "d_model = 128\n",
    "num_classes = 10\n"
   ]
  },
  {
   "cell_type": "code",
   "execution_count": 3,
   "metadata": {},
   "outputs": [],
   "source": [
    "import torchvision.transforms as transforms\n",
    "from torch.utils.data import DataLoader\n",
    "import torchvision\n",
    "\n",
    "from adic_components.prototype3_classifier import P3Classifier\n",
    "\n",
    "batch_size = 256\n",
    "\n",
    "# Data transforms for training (with augmentation)\n",
    "train_transform = transforms.Compose([\n",
    "    transforms.RandomResizedCrop(32, scale=(0.8, 1.0)),      # Random crop with resizing\n",
    "    transforms.RandomHorizontalFlip(),                       # Flip horizontally with 50% probability\n",
    "    #transforms.RandomVerticalFlip(p=0.2),                    # Optional: vertical flip with low probability\n",
    "    transforms.ColorJitter(                                   # Randomly change brightness, contrast, etc.\n",
    "        brightness=0.4,\n",
    "        contrast=0.4,\n",
    "        saturation=0.4,\n",
    "        hue=0.1\n",
    "    ),\n",
    "    transforms.RandomAffine(                                 # Random affine transformations\n",
    "        degrees=15,\n",
    "        translate=(0.1, 0.1),\n",
    "        scale=(0.9, 1.1),\n",
    "        shear=10\n",
    "    ),\n",
    "    transforms.RandomPerspective(distortion_scale=0.2, p=0.5),  # Random perspective distortion\n",
    "    transforms.ToTensor(),\n",
    "    transforms.Normalize((0.5, 0.5, 0.5), (0.5, 0.5, 0.5)),\n",
    "    transforms.RandomErasing(p=0.5, scale=(0.02, 0.15), ratio=(0.3, 3.3), value='random')  # Erase a random patch\n",
    "])\n",
    "\n",
    "# Data transforms for testing (no augmentation)\n",
    "test_transform = transforms.Compose([\n",
    "    transforms.ToTensor(),\n",
    "    transforms.Normalize((0.5, 0.5, 0.5), (0.5, 0.5, 0.5))\n",
    "])\n",
    "\n",
    "# Load CIFAR-10 datasets\n",
    "train_dataset = torchvision.datasets.CIFAR10(root='./data', train=True,\n",
    "                                             download=True, transform=train_transform)\n",
    "test_dataset = torchvision.datasets.CIFAR10(root='./data', train=False,\n",
    "                                            download=True, transform=test_transform)\n",
    "\n",
    "train_loader = DataLoader(train_dataset, batch_size=batch_size, shuffle=True, num_workers=2)\n",
    "test_loader = DataLoader(test_dataset, batch_size=batch_size, shuffle=False, num_workers=2)"
   ]
  },
  {
   "cell_type": "code",
   "execution_count": 4,
   "metadata": {},
   "outputs": [
    {
     "data": {
      "text/plain": [
       "P3Classifier(\n",
       "  (p3_encoder): P3Encoder(\n",
       "    (layers): ModuleList(\n",
       "      (0): Sequential(\n",
       "        (0): Conv2d(3, 64, kernel_size=(3, 3), stride=(2, 2), padding=(1, 1), bias=False)\n",
       "        (1): BatchNorm2d(64, eps=1e-05, momentum=0.1, affine=True, track_running_stats=True)\n",
       "        (2): ReLU(inplace=True)\n",
       "      )\n",
       "      (1): Sequential(\n",
       "        (0): P3EncoderBlock(\n",
       "          (conv1): Conv2d(64, 32, kernel_size=(1, 1), stride=(1, 1), bias=False)\n",
       "          (bn1): BatchNorm2d(32, eps=1e-05, momentum=0.1, affine=True, track_running_stats=True)\n",
       "          (conv2): Conv2d(32, 32, kernel_size=(3, 3), stride=(2, 2), padding=(1, 1), bias=False)\n",
       "          (bn2): BatchNorm2d(32, eps=1e-05, momentum=0.1, affine=True, track_running_stats=True)\n",
       "          (conv3): Conv2d(32, 128, kernel_size=(1, 1), stride=(1, 1), bias=False)\n",
       "          (bn3): BatchNorm2d(128, eps=1e-05, momentum=0.1, affine=True, track_running_stats=True)\n",
       "          (se): SqueezeExcitation(\n",
       "            (avgpool): AdaptiveAvgPool2d(output_size=1)\n",
       "            (fc1): Conv2d(128, 16, kernel_size=(1, 1), stride=(1, 1))\n",
       "            (fc2): Conv2d(16, 128, kernel_size=(1, 1), stride=(1, 1))\n",
       "            (activation): ReLU()\n",
       "            (scale_activation): Sigmoid()\n",
       "          )\n",
       "          (act): ReLU(inplace=True)\n",
       "          (downsample_identity): Sequential(\n",
       "            (0): Conv2d(64, 128, kernel_size=(1, 1), stride=(2, 2), bias=False)\n",
       "            (1): BatchNorm2d(128, eps=1e-05, momentum=0.1, affine=True, track_running_stats=True)\n",
       "          )\n",
       "        )\n",
       "        (1): P3EncoderBlock(\n",
       "          (conv1): Conv2d(128, 32, kernel_size=(1, 1), stride=(1, 1), bias=False)\n",
       "          (bn1): BatchNorm2d(32, eps=1e-05, momentum=0.1, affine=True, track_running_stats=True)\n",
       "          (conv2): Conv2d(32, 32, kernel_size=(3, 3), stride=(1, 1), padding=(1, 1), bias=False)\n",
       "          (bn2): BatchNorm2d(32, eps=1e-05, momentum=0.1, affine=True, track_running_stats=True)\n",
       "          (conv3): Conv2d(32, 128, kernel_size=(1, 1), stride=(1, 1), bias=False)\n",
       "          (bn3): BatchNorm2d(128, eps=1e-05, momentum=0.1, affine=True, track_running_stats=True)\n",
       "          (se): SqueezeExcitation(\n",
       "            (avgpool): AdaptiveAvgPool2d(output_size=1)\n",
       "            (fc1): Conv2d(128, 16, kernel_size=(1, 1), stride=(1, 1))\n",
       "            (fc2): Conv2d(16, 128, kernel_size=(1, 1), stride=(1, 1))\n",
       "            (activation): ReLU()\n",
       "            (scale_activation): Sigmoid()\n",
       "          )\n",
       "          (act): ReLU(inplace=True)\n",
       "        )\n",
       "        (2): P3EncoderBlock(\n",
       "          (conv1): Conv2d(128, 32, kernel_size=(1, 1), stride=(1, 1), bias=False)\n",
       "          (bn1): BatchNorm2d(32, eps=1e-05, momentum=0.1, affine=True, track_running_stats=True)\n",
       "          (conv2): Conv2d(32, 32, kernel_size=(3, 3), stride=(1, 1), padding=(1, 1), bias=False)\n",
       "          (bn2): BatchNorm2d(32, eps=1e-05, momentum=0.1, affine=True, track_running_stats=True)\n",
       "          (conv3): Conv2d(32, 128, kernel_size=(1, 1), stride=(1, 1), bias=False)\n",
       "          (bn3): BatchNorm2d(128, eps=1e-05, momentum=0.1, affine=True, track_running_stats=True)\n",
       "          (se): SqueezeExcitation(\n",
       "            (avgpool): AdaptiveAvgPool2d(output_size=1)\n",
       "            (fc1): Conv2d(128, 16, kernel_size=(1, 1), stride=(1, 1))\n",
       "            (fc2): Conv2d(16, 128, kernel_size=(1, 1), stride=(1, 1))\n",
       "            (activation): ReLU()\n",
       "            (scale_activation): Sigmoid()\n",
       "          )\n",
       "          (act): ReLU(inplace=True)\n",
       "        )\n",
       "      )\n",
       "      (2): Sequential(\n",
       "        (0): P3EncoderBlock(\n",
       "          (conv1): Conv2d(128, 64, kernel_size=(1, 1), stride=(1, 1), bias=False)\n",
       "          (bn1): BatchNorm2d(64, eps=1e-05, momentum=0.1, affine=True, track_running_stats=True)\n",
       "          (conv2): Conv2d(64, 64, kernel_size=(3, 3), stride=(2, 2), padding=(1, 1), bias=False)\n",
       "          (bn2): BatchNorm2d(64, eps=1e-05, momentum=0.1, affine=True, track_running_stats=True)\n",
       "          (conv3): Conv2d(64, 256, kernel_size=(1, 1), stride=(1, 1), bias=False)\n",
       "          (bn3): BatchNorm2d(256, eps=1e-05, momentum=0.1, affine=True, track_running_stats=True)\n",
       "          (se): SqueezeExcitation(\n",
       "            (avgpool): AdaptiveAvgPool2d(output_size=1)\n",
       "            (fc1): Conv2d(256, 16, kernel_size=(1, 1), stride=(1, 1))\n",
       "            (fc2): Conv2d(16, 256, kernel_size=(1, 1), stride=(1, 1))\n",
       "            (activation): ReLU()\n",
       "            (scale_activation): Sigmoid()\n",
       "          )\n",
       "          (act): ReLU(inplace=True)\n",
       "          (downsample_identity): Sequential(\n",
       "            (0): Conv2d(128, 256, kernel_size=(1, 1), stride=(2, 2), bias=False)\n",
       "            (1): BatchNorm2d(256, eps=1e-05, momentum=0.1, affine=True, track_running_stats=True)\n",
       "          )\n",
       "        )\n",
       "        (1): P3EncoderBlock(\n",
       "          (conv1): Conv2d(256, 64, kernel_size=(1, 1), stride=(1, 1), bias=False)\n",
       "          (bn1): BatchNorm2d(64, eps=1e-05, momentum=0.1, affine=True, track_running_stats=True)\n",
       "          (conv2): Conv2d(64, 64, kernel_size=(3, 3), stride=(1, 1), padding=(1, 1), bias=False)\n",
       "          (bn2): BatchNorm2d(64, eps=1e-05, momentum=0.1, affine=True, track_running_stats=True)\n",
       "          (conv3): Conv2d(64, 256, kernel_size=(1, 1), stride=(1, 1), bias=False)\n",
       "          (bn3): BatchNorm2d(256, eps=1e-05, momentum=0.1, affine=True, track_running_stats=True)\n",
       "          (se): SqueezeExcitation(\n",
       "            (avgpool): AdaptiveAvgPool2d(output_size=1)\n",
       "            (fc1): Conv2d(256, 16, kernel_size=(1, 1), stride=(1, 1))\n",
       "            (fc2): Conv2d(16, 256, kernel_size=(1, 1), stride=(1, 1))\n",
       "            (activation): ReLU()\n",
       "            (scale_activation): Sigmoid()\n",
       "          )\n",
       "          (act): ReLU(inplace=True)\n",
       "        )\n",
       "        (2): P3EncoderBlock(\n",
       "          (conv1): Conv2d(256, 64, kernel_size=(1, 1), stride=(1, 1), bias=False)\n",
       "          (bn1): BatchNorm2d(64, eps=1e-05, momentum=0.1, affine=True, track_running_stats=True)\n",
       "          (conv2): Conv2d(64, 64, kernel_size=(3, 3), stride=(1, 1), padding=(1, 1), bias=False)\n",
       "          (bn2): BatchNorm2d(64, eps=1e-05, momentum=0.1, affine=True, track_running_stats=True)\n",
       "          (conv3): Conv2d(64, 256, kernel_size=(1, 1), stride=(1, 1), bias=False)\n",
       "          (bn3): BatchNorm2d(256, eps=1e-05, momentum=0.1, affine=True, track_running_stats=True)\n",
       "          (se): SqueezeExcitation(\n",
       "            (avgpool): AdaptiveAvgPool2d(output_size=1)\n",
       "            (fc1): Conv2d(256, 16, kernel_size=(1, 1), stride=(1, 1))\n",
       "            (fc2): Conv2d(16, 256, kernel_size=(1, 1), stride=(1, 1))\n",
       "            (activation): ReLU()\n",
       "            (scale_activation): Sigmoid()\n",
       "          )\n",
       "          (act): ReLU(inplace=True)\n",
       "        )\n",
       "        (3): P3EncoderBlock(\n",
       "          (conv1): Conv2d(256, 64, kernel_size=(1, 1), stride=(1, 1), bias=False)\n",
       "          (bn1): BatchNorm2d(64, eps=1e-05, momentum=0.1, affine=True, track_running_stats=True)\n",
       "          (conv2): Conv2d(64, 64, kernel_size=(3, 3), stride=(1, 1), padding=(1, 1), bias=False)\n",
       "          (bn2): BatchNorm2d(64, eps=1e-05, momentum=0.1, affine=True, track_running_stats=True)\n",
       "          (conv3): Conv2d(64, 256, kernel_size=(1, 1), stride=(1, 1), bias=False)\n",
       "          (bn3): BatchNorm2d(256, eps=1e-05, momentum=0.1, affine=True, track_running_stats=True)\n",
       "          (se): SqueezeExcitation(\n",
       "            (avgpool): AdaptiveAvgPool2d(output_size=1)\n",
       "            (fc1): Conv2d(256, 16, kernel_size=(1, 1), stride=(1, 1))\n",
       "            (fc2): Conv2d(16, 256, kernel_size=(1, 1), stride=(1, 1))\n",
       "            (activation): ReLU()\n",
       "            (scale_activation): Sigmoid()\n",
       "          )\n",
       "          (act): ReLU(inplace=True)\n",
       "        )\n",
       "        (4): P3EncoderBlock(\n",
       "          (conv1): Conv2d(256, 64, kernel_size=(1, 1), stride=(1, 1), bias=False)\n",
       "          (bn1): BatchNorm2d(64, eps=1e-05, momentum=0.1, affine=True, track_running_stats=True)\n",
       "          (conv2): Conv2d(64, 64, kernel_size=(3, 3), stride=(1, 1), padding=(1, 1), bias=False)\n",
       "          (bn2): BatchNorm2d(64, eps=1e-05, momentum=0.1, affine=True, track_running_stats=True)\n",
       "          (conv3): Conv2d(64, 256, kernel_size=(1, 1), stride=(1, 1), bias=False)\n",
       "          (bn3): BatchNorm2d(256, eps=1e-05, momentum=0.1, affine=True, track_running_stats=True)\n",
       "          (se): SqueezeExcitation(\n",
       "            (avgpool): AdaptiveAvgPool2d(output_size=1)\n",
       "            (fc1): Conv2d(256, 16, kernel_size=(1, 1), stride=(1, 1))\n",
       "            (fc2): Conv2d(16, 256, kernel_size=(1, 1), stride=(1, 1))\n",
       "            (activation): ReLU()\n",
       "            (scale_activation): Sigmoid()\n",
       "          )\n",
       "          (act): ReLU(inplace=True)\n",
       "        )\n",
       "        (5): P3EncoderBlock(\n",
       "          (conv1): Conv2d(256, 64, kernel_size=(1, 1), stride=(1, 1), bias=False)\n",
       "          (bn1): BatchNorm2d(64, eps=1e-05, momentum=0.1, affine=True, track_running_stats=True)\n",
       "          (conv2): Conv2d(64, 64, kernel_size=(3, 3), stride=(1, 1), padding=(1, 1), bias=False)\n",
       "          (bn2): BatchNorm2d(64, eps=1e-05, momentum=0.1, affine=True, track_running_stats=True)\n",
       "          (conv3): Conv2d(64, 256, kernel_size=(1, 1), stride=(1, 1), bias=False)\n",
       "          (bn3): BatchNorm2d(256, eps=1e-05, momentum=0.1, affine=True, track_running_stats=True)\n",
       "          (se): SqueezeExcitation(\n",
       "            (avgpool): AdaptiveAvgPool2d(output_size=1)\n",
       "            (fc1): Conv2d(256, 16, kernel_size=(1, 1), stride=(1, 1))\n",
       "            (fc2): Conv2d(16, 256, kernel_size=(1, 1), stride=(1, 1))\n",
       "            (activation): ReLU()\n",
       "            (scale_activation): Sigmoid()\n",
       "          )\n",
       "          (act): ReLU(inplace=True)\n",
       "        )\n",
       "        (6): P3EncoderBlock(\n",
       "          (conv1): Conv2d(256, 64, kernel_size=(1, 1), stride=(1, 1), bias=False)\n",
       "          (bn1): BatchNorm2d(64, eps=1e-05, momentum=0.1, affine=True, track_running_stats=True)\n",
       "          (conv2): Conv2d(64, 64, kernel_size=(3, 3), stride=(1, 1), padding=(1, 1), bias=False)\n",
       "          (bn2): BatchNorm2d(64, eps=1e-05, momentum=0.1, affine=True, track_running_stats=True)\n",
       "          (conv3): Conv2d(64, 256, kernel_size=(1, 1), stride=(1, 1), bias=False)\n",
       "          (bn3): BatchNorm2d(256, eps=1e-05, momentum=0.1, affine=True, track_running_stats=True)\n",
       "          (se): SqueezeExcitation(\n",
       "            (avgpool): AdaptiveAvgPool2d(output_size=1)\n",
       "            (fc1): Conv2d(256, 16, kernel_size=(1, 1), stride=(1, 1))\n",
       "            (fc2): Conv2d(16, 256, kernel_size=(1, 1), stride=(1, 1))\n",
       "            (activation): ReLU()\n",
       "            (scale_activation): Sigmoid()\n",
       "          )\n",
       "          (act): ReLU(inplace=True)\n",
       "        )\n",
       "        (7): P3EncoderBlock(\n",
       "          (conv1): Conv2d(256, 64, kernel_size=(1, 1), stride=(1, 1), bias=False)\n",
       "          (bn1): BatchNorm2d(64, eps=1e-05, momentum=0.1, affine=True, track_running_stats=True)\n",
       "          (conv2): Conv2d(64, 64, kernel_size=(3, 3), stride=(1, 1), padding=(1, 1), bias=False)\n",
       "          (bn2): BatchNorm2d(64, eps=1e-05, momentum=0.1, affine=True, track_running_stats=True)\n",
       "          (conv3): Conv2d(64, 256, kernel_size=(1, 1), stride=(1, 1), bias=False)\n",
       "          (bn3): BatchNorm2d(256, eps=1e-05, momentum=0.1, affine=True, track_running_stats=True)\n",
       "          (se): SqueezeExcitation(\n",
       "            (avgpool): AdaptiveAvgPool2d(output_size=1)\n",
       "            (fc1): Conv2d(256, 16, kernel_size=(1, 1), stride=(1, 1))\n",
       "            (fc2): Conv2d(16, 256, kernel_size=(1, 1), stride=(1, 1))\n",
       "            (activation): ReLU()\n",
       "            (scale_activation): Sigmoid()\n",
       "          )\n",
       "          (act): ReLU(inplace=True)\n",
       "        )\n",
       "      )\n",
       "      (3): Sequential(\n",
       "        (0): P3EncoderBlock(\n",
       "          (conv1): Conv2d(256, 128, kernel_size=(1, 1), stride=(1, 1), bias=False)\n",
       "          (bn1): BatchNorm2d(128, eps=1e-05, momentum=0.1, affine=True, track_running_stats=True)\n",
       "          (conv2): Conv2d(128, 128, kernel_size=(3, 3), stride=(2, 2), padding=(1, 1), bias=False)\n",
       "          (bn2): BatchNorm2d(128, eps=1e-05, momentum=0.1, affine=True, track_running_stats=True)\n",
       "          (conv3): Conv2d(128, 512, kernel_size=(1, 1), stride=(1, 1), bias=False)\n",
       "          (bn3): BatchNorm2d(512, eps=1e-05, momentum=0.1, affine=True, track_running_stats=True)\n",
       "          (se): SqueezeExcitation(\n",
       "            (avgpool): AdaptiveAvgPool2d(output_size=1)\n",
       "            (fc1): Conv2d(512, 16, kernel_size=(1, 1), stride=(1, 1))\n",
       "            (fc2): Conv2d(16, 512, kernel_size=(1, 1), stride=(1, 1))\n",
       "            (activation): ReLU()\n",
       "            (scale_activation): Sigmoid()\n",
       "          )\n",
       "          (act): ReLU(inplace=True)\n",
       "          (downsample_identity): Sequential(\n",
       "            (0): Conv2d(256, 512, kernel_size=(1, 1), stride=(2, 2), bias=False)\n",
       "            (1): BatchNorm2d(512, eps=1e-05, momentum=0.1, affine=True, track_running_stats=True)\n",
       "          )\n",
       "        )\n",
       "        (1): P3EncoderBlock(\n",
       "          (conv1): Conv2d(512, 128, kernel_size=(1, 1), stride=(1, 1), bias=False)\n",
       "          (bn1): BatchNorm2d(128, eps=1e-05, momentum=0.1, affine=True, track_running_stats=True)\n",
       "          (conv2): Conv2d(128, 128, kernel_size=(3, 3), stride=(1, 1), padding=(1, 1), bias=False)\n",
       "          (bn2): BatchNorm2d(128, eps=1e-05, momentum=0.1, affine=True, track_running_stats=True)\n",
       "          (conv3): Conv2d(128, 512, kernel_size=(1, 1), stride=(1, 1), bias=False)\n",
       "          (bn3): BatchNorm2d(512, eps=1e-05, momentum=0.1, affine=True, track_running_stats=True)\n",
       "          (se): SqueezeExcitation(\n",
       "            (avgpool): AdaptiveAvgPool2d(output_size=1)\n",
       "            (fc1): Conv2d(512, 16, kernel_size=(1, 1), stride=(1, 1))\n",
       "            (fc2): Conv2d(16, 512, kernel_size=(1, 1), stride=(1, 1))\n",
       "            (activation): ReLU()\n",
       "            (scale_activation): Sigmoid()\n",
       "          )\n",
       "          (act): ReLU(inplace=True)\n",
       "        )\n",
       "        (2): P3EncoderBlock(\n",
       "          (conv1): Conv2d(512, 128, kernel_size=(1, 1), stride=(1, 1), bias=False)\n",
       "          (bn1): BatchNorm2d(128, eps=1e-05, momentum=0.1, affine=True, track_running_stats=True)\n",
       "          (conv2): Conv2d(128, 128, kernel_size=(3, 3), stride=(1, 1), padding=(1, 1), bias=False)\n",
       "          (bn2): BatchNorm2d(128, eps=1e-05, momentum=0.1, affine=True, track_running_stats=True)\n",
       "          (conv3): Conv2d(128, 512, kernel_size=(1, 1), stride=(1, 1), bias=False)\n",
       "          (bn3): BatchNorm2d(512, eps=1e-05, momentum=0.1, affine=True, track_running_stats=True)\n",
       "          (se): SqueezeExcitation(\n",
       "            (avgpool): AdaptiveAvgPool2d(output_size=1)\n",
       "            (fc1): Conv2d(512, 16, kernel_size=(1, 1), stride=(1, 1))\n",
       "            (fc2): Conv2d(16, 512, kernel_size=(1, 1), stride=(1, 1))\n",
       "            (activation): ReLU()\n",
       "            (scale_activation): Sigmoid()\n",
       "          )\n",
       "          (act): ReLU(inplace=True)\n",
       "        )\n",
       "        (3): P3EncoderBlock(\n",
       "          (conv1): Conv2d(512, 128, kernel_size=(1, 1), stride=(1, 1), bias=False)\n",
       "          (bn1): BatchNorm2d(128, eps=1e-05, momentum=0.1, affine=True, track_running_stats=True)\n",
       "          (conv2): Conv2d(128, 128, kernel_size=(3, 3), stride=(1, 1), padding=(1, 1), bias=False)\n",
       "          (bn2): BatchNorm2d(128, eps=1e-05, momentum=0.1, affine=True, track_running_stats=True)\n",
       "          (conv3): Conv2d(128, 512, kernel_size=(1, 1), stride=(1, 1), bias=False)\n",
       "          (bn3): BatchNorm2d(512, eps=1e-05, momentum=0.1, affine=True, track_running_stats=True)\n",
       "          (se): SqueezeExcitation(\n",
       "            (avgpool): AdaptiveAvgPool2d(output_size=1)\n",
       "            (fc1): Conv2d(512, 16, kernel_size=(1, 1), stride=(1, 1))\n",
       "            (fc2): Conv2d(16, 512, kernel_size=(1, 1), stride=(1, 1))\n",
       "            (activation): ReLU()\n",
       "            (scale_activation): Sigmoid()\n",
       "          )\n",
       "          (act): ReLU(inplace=True)\n",
       "        )\n",
       "        (4): P3EncoderBlock(\n",
       "          (conv1): Conv2d(512, 128, kernel_size=(1, 1), stride=(1, 1), bias=False)\n",
       "          (bn1): BatchNorm2d(128, eps=1e-05, momentum=0.1, affine=True, track_running_stats=True)\n",
       "          (conv2): Conv2d(128, 128, kernel_size=(3, 3), stride=(1, 1), padding=(1, 1), bias=False)\n",
       "          (bn2): BatchNorm2d(128, eps=1e-05, momentum=0.1, affine=True, track_running_stats=True)\n",
       "          (conv3): Conv2d(128, 512, kernel_size=(1, 1), stride=(1, 1), bias=False)\n",
       "          (bn3): BatchNorm2d(512, eps=1e-05, momentum=0.1, affine=True, track_running_stats=True)\n",
       "          (se): SqueezeExcitation(\n",
       "            (avgpool): AdaptiveAvgPool2d(output_size=1)\n",
       "            (fc1): Conv2d(512, 16, kernel_size=(1, 1), stride=(1, 1))\n",
       "            (fc2): Conv2d(16, 512, kernel_size=(1, 1), stride=(1, 1))\n",
       "            (activation): ReLU()\n",
       "            (scale_activation): Sigmoid()\n",
       "          )\n",
       "          (act): ReLU(inplace=True)\n",
       "        )\n",
       "        (5): P3EncoderBlock(\n",
       "          (conv1): Conv2d(512, 128, kernel_size=(1, 1), stride=(1, 1), bias=False)\n",
       "          (bn1): BatchNorm2d(128, eps=1e-05, momentum=0.1, affine=True, track_running_stats=True)\n",
       "          (conv2): Conv2d(128, 128, kernel_size=(3, 3), stride=(1, 1), padding=(1, 1), bias=False)\n",
       "          (bn2): BatchNorm2d(128, eps=1e-05, momentum=0.1, affine=True, track_running_stats=True)\n",
       "          (conv3): Conv2d(128, 512, kernel_size=(1, 1), stride=(1, 1), bias=False)\n",
       "          (bn3): BatchNorm2d(512, eps=1e-05, momentum=0.1, affine=True, track_running_stats=True)\n",
       "          (se): SqueezeExcitation(\n",
       "            (avgpool): AdaptiveAvgPool2d(output_size=1)\n",
       "            (fc1): Conv2d(512, 16, kernel_size=(1, 1), stride=(1, 1))\n",
       "            (fc2): Conv2d(16, 512, kernel_size=(1, 1), stride=(1, 1))\n",
       "            (activation): ReLU()\n",
       "            (scale_activation): Sigmoid()\n",
       "          )\n",
       "          (act): ReLU(inplace=True)\n",
       "        )\n",
       "        (6): P3EncoderBlock(\n",
       "          (conv1): Conv2d(512, 128, kernel_size=(1, 1), stride=(1, 1), bias=False)\n",
       "          (bn1): BatchNorm2d(128, eps=1e-05, momentum=0.1, affine=True, track_running_stats=True)\n",
       "          (conv2): Conv2d(128, 128, kernel_size=(3, 3), stride=(1, 1), padding=(1, 1), bias=False)\n",
       "          (bn2): BatchNorm2d(128, eps=1e-05, momentum=0.1, affine=True, track_running_stats=True)\n",
       "          (conv3): Conv2d(128, 512, kernel_size=(1, 1), stride=(1, 1), bias=False)\n",
       "          (bn3): BatchNorm2d(512, eps=1e-05, momentum=0.1, affine=True, track_running_stats=True)\n",
       "          (se): SqueezeExcitation(\n",
       "            (avgpool): AdaptiveAvgPool2d(output_size=1)\n",
       "            (fc1): Conv2d(512, 16, kernel_size=(1, 1), stride=(1, 1))\n",
       "            (fc2): Conv2d(16, 512, kernel_size=(1, 1), stride=(1, 1))\n",
       "            (activation): ReLU()\n",
       "            (scale_activation): Sigmoid()\n",
       "          )\n",
       "          (act): ReLU(inplace=True)\n",
       "        )\n",
       "        (7): P3EncoderBlock(\n",
       "          (conv1): Conv2d(512, 128, kernel_size=(1, 1), stride=(1, 1), bias=False)\n",
       "          (bn1): BatchNorm2d(128, eps=1e-05, momentum=0.1, affine=True, track_running_stats=True)\n",
       "          (conv2): Conv2d(128, 128, kernel_size=(3, 3), stride=(1, 1), padding=(1, 1), bias=False)\n",
       "          (bn2): BatchNorm2d(128, eps=1e-05, momentum=0.1, affine=True, track_running_stats=True)\n",
       "          (conv3): Conv2d(128, 512, kernel_size=(1, 1), stride=(1, 1), bias=False)\n",
       "          (bn3): BatchNorm2d(512, eps=1e-05, momentum=0.1, affine=True, track_running_stats=True)\n",
       "          (se): SqueezeExcitation(\n",
       "            (avgpool): AdaptiveAvgPool2d(output_size=1)\n",
       "            (fc1): Conv2d(512, 16, kernel_size=(1, 1), stride=(1, 1))\n",
       "            (fc2): Conv2d(16, 512, kernel_size=(1, 1), stride=(1, 1))\n",
       "            (activation): ReLU()\n",
       "            (scale_activation): Sigmoid()\n",
       "          )\n",
       "          (act): ReLU(inplace=True)\n",
       "        )\n",
       "        (8): P3EncoderBlock(\n",
       "          (conv1): Conv2d(512, 128, kernel_size=(1, 1), stride=(1, 1), bias=False)\n",
       "          (bn1): BatchNorm2d(128, eps=1e-05, momentum=0.1, affine=True, track_running_stats=True)\n",
       "          (conv2): Conv2d(128, 128, kernel_size=(3, 3), stride=(1, 1), padding=(1, 1), bias=False)\n",
       "          (bn2): BatchNorm2d(128, eps=1e-05, momentum=0.1, affine=True, track_running_stats=True)\n",
       "          (conv3): Conv2d(128, 512, kernel_size=(1, 1), stride=(1, 1), bias=False)\n",
       "          (bn3): BatchNorm2d(512, eps=1e-05, momentum=0.1, affine=True, track_running_stats=True)\n",
       "          (se): SqueezeExcitation(\n",
       "            (avgpool): AdaptiveAvgPool2d(output_size=1)\n",
       "            (fc1): Conv2d(512, 16, kernel_size=(1, 1), stride=(1, 1))\n",
       "            (fc2): Conv2d(16, 512, kernel_size=(1, 1), stride=(1, 1))\n",
       "            (activation): ReLU()\n",
       "            (scale_activation): Sigmoid()\n",
       "          )\n",
       "          (act): ReLU(inplace=True)\n",
       "        )\n",
       "        (9): P3EncoderBlock(\n",
       "          (conv1): Conv2d(512, 128, kernel_size=(1, 1), stride=(1, 1), bias=False)\n",
       "          (bn1): BatchNorm2d(128, eps=1e-05, momentum=0.1, affine=True, track_running_stats=True)\n",
       "          (conv2): Conv2d(128, 128, kernel_size=(3, 3), stride=(1, 1), padding=(1, 1), bias=False)\n",
       "          (bn2): BatchNorm2d(128, eps=1e-05, momentum=0.1, affine=True, track_running_stats=True)\n",
       "          (conv3): Conv2d(128, 512, kernel_size=(1, 1), stride=(1, 1), bias=False)\n",
       "          (bn3): BatchNorm2d(512, eps=1e-05, momentum=0.1, affine=True, track_running_stats=True)\n",
       "          (se): SqueezeExcitation(\n",
       "            (avgpool): AdaptiveAvgPool2d(output_size=1)\n",
       "            (fc1): Conv2d(512, 16, kernel_size=(1, 1), stride=(1, 1))\n",
       "            (fc2): Conv2d(16, 512, kernel_size=(1, 1), stride=(1, 1))\n",
       "            (activation): ReLU()\n",
       "            (scale_activation): Sigmoid()\n",
       "          )\n",
       "          (act): ReLU(inplace=True)\n",
       "        )\n",
       "        (10): P3EncoderBlock(\n",
       "          (conv1): Conv2d(512, 128, kernel_size=(1, 1), stride=(1, 1), bias=False)\n",
       "          (bn1): BatchNorm2d(128, eps=1e-05, momentum=0.1, affine=True, track_running_stats=True)\n",
       "          (conv2): Conv2d(128, 128, kernel_size=(3, 3), stride=(1, 1), padding=(1, 1), bias=False)\n",
       "          (bn2): BatchNorm2d(128, eps=1e-05, momentum=0.1, affine=True, track_running_stats=True)\n",
       "          (conv3): Conv2d(128, 512, kernel_size=(1, 1), stride=(1, 1), bias=False)\n",
       "          (bn3): BatchNorm2d(512, eps=1e-05, momentum=0.1, affine=True, track_running_stats=True)\n",
       "          (se): SqueezeExcitation(\n",
       "            (avgpool): AdaptiveAvgPool2d(output_size=1)\n",
       "            (fc1): Conv2d(512, 16, kernel_size=(1, 1), stride=(1, 1))\n",
       "            (fc2): Conv2d(16, 512, kernel_size=(1, 1), stride=(1, 1))\n",
       "            (activation): ReLU()\n",
       "            (scale_activation): Sigmoid()\n",
       "          )\n",
       "          (act): ReLU(inplace=True)\n",
       "        )\n",
       "        (11): P3EncoderBlock(\n",
       "          (conv1): Conv2d(512, 128, kernel_size=(1, 1), stride=(1, 1), bias=False)\n",
       "          (bn1): BatchNorm2d(128, eps=1e-05, momentum=0.1, affine=True, track_running_stats=True)\n",
       "          (conv2): Conv2d(128, 128, kernel_size=(3, 3), stride=(1, 1), padding=(1, 1), bias=False)\n",
       "          (bn2): BatchNorm2d(128, eps=1e-05, momentum=0.1, affine=True, track_running_stats=True)\n",
       "          (conv3): Conv2d(128, 512, kernel_size=(1, 1), stride=(1, 1), bias=False)\n",
       "          (bn3): BatchNorm2d(512, eps=1e-05, momentum=0.1, affine=True, track_running_stats=True)\n",
       "          (se): SqueezeExcitation(\n",
       "            (avgpool): AdaptiveAvgPool2d(output_size=1)\n",
       "            (fc1): Conv2d(512, 16, kernel_size=(1, 1), stride=(1, 1))\n",
       "            (fc2): Conv2d(16, 512, kernel_size=(1, 1), stride=(1, 1))\n",
       "            (activation): ReLU()\n",
       "            (scale_activation): Sigmoid()\n",
       "          )\n",
       "          (act): ReLU(inplace=True)\n",
       "        )\n",
       "        (12): P3EncoderBlock(\n",
       "          (conv1): Conv2d(512, 128, kernel_size=(1, 1), stride=(1, 1), bias=False)\n",
       "          (bn1): BatchNorm2d(128, eps=1e-05, momentum=0.1, affine=True, track_running_stats=True)\n",
       "          (conv2): Conv2d(128, 128, kernel_size=(3, 3), stride=(1, 1), padding=(1, 1), bias=False)\n",
       "          (bn2): BatchNorm2d(128, eps=1e-05, momentum=0.1, affine=True, track_running_stats=True)\n",
       "          (conv3): Conv2d(128, 512, kernel_size=(1, 1), stride=(1, 1), bias=False)\n",
       "          (bn3): BatchNorm2d(512, eps=1e-05, momentum=0.1, affine=True, track_running_stats=True)\n",
       "          (se): SqueezeExcitation(\n",
       "            (avgpool): AdaptiveAvgPool2d(output_size=1)\n",
       "            (fc1): Conv2d(512, 16, kernel_size=(1, 1), stride=(1, 1))\n",
       "            (fc2): Conv2d(16, 512, kernel_size=(1, 1), stride=(1, 1))\n",
       "            (activation): ReLU()\n",
       "            (scale_activation): Sigmoid()\n",
       "          )\n",
       "          (act): ReLU(inplace=True)\n",
       "        )\n",
       "        (13): P3EncoderBlock(\n",
       "          (conv1): Conv2d(512, 128, kernel_size=(1, 1), stride=(1, 1), bias=False)\n",
       "          (bn1): BatchNorm2d(128, eps=1e-05, momentum=0.1, affine=True, track_running_stats=True)\n",
       "          (conv2): Conv2d(128, 128, kernel_size=(3, 3), stride=(1, 1), padding=(1, 1), bias=False)\n",
       "          (bn2): BatchNorm2d(128, eps=1e-05, momentum=0.1, affine=True, track_running_stats=True)\n",
       "          (conv3): Conv2d(128, 512, kernel_size=(1, 1), stride=(1, 1), bias=False)\n",
       "          (bn3): BatchNorm2d(512, eps=1e-05, momentum=0.1, affine=True, track_running_stats=True)\n",
       "          (se): SqueezeExcitation(\n",
       "            (avgpool): AdaptiveAvgPool2d(output_size=1)\n",
       "            (fc1): Conv2d(512, 16, kernel_size=(1, 1), stride=(1, 1))\n",
       "            (fc2): Conv2d(16, 512, kernel_size=(1, 1), stride=(1, 1))\n",
       "            (activation): ReLU()\n",
       "            (scale_activation): Sigmoid()\n",
       "          )\n",
       "          (act): ReLU(inplace=True)\n",
       "        )\n",
       "        (14): P3EncoderBlock(\n",
       "          (conv1): Conv2d(512, 128, kernel_size=(1, 1), stride=(1, 1), bias=False)\n",
       "          (bn1): BatchNorm2d(128, eps=1e-05, momentum=0.1, affine=True, track_running_stats=True)\n",
       "          (conv2): Conv2d(128, 128, kernel_size=(3, 3), stride=(1, 1), padding=(1, 1), bias=False)\n",
       "          (bn2): BatchNorm2d(128, eps=1e-05, momentum=0.1, affine=True, track_running_stats=True)\n",
       "          (conv3): Conv2d(128, 512, kernel_size=(1, 1), stride=(1, 1), bias=False)\n",
       "          (bn3): BatchNorm2d(512, eps=1e-05, momentum=0.1, affine=True, track_running_stats=True)\n",
       "          (se): SqueezeExcitation(\n",
       "            (avgpool): AdaptiveAvgPool2d(output_size=1)\n",
       "            (fc1): Conv2d(512, 16, kernel_size=(1, 1), stride=(1, 1))\n",
       "            (fc2): Conv2d(16, 512, kernel_size=(1, 1), stride=(1, 1))\n",
       "            (activation): ReLU()\n",
       "            (scale_activation): Sigmoid()\n",
       "          )\n",
       "          (act): ReLU(inplace=True)\n",
       "        )\n",
       "        (15): P3EncoderBlock(\n",
       "          (conv1): Conv2d(512, 128, kernel_size=(1, 1), stride=(1, 1), bias=False)\n",
       "          (bn1): BatchNorm2d(128, eps=1e-05, momentum=0.1, affine=True, track_running_stats=True)\n",
       "          (conv2): Conv2d(128, 128, kernel_size=(3, 3), stride=(1, 1), padding=(1, 1), bias=False)\n",
       "          (bn2): BatchNorm2d(128, eps=1e-05, momentum=0.1, affine=True, track_running_stats=True)\n",
       "          (conv3): Conv2d(128, 512, kernel_size=(1, 1), stride=(1, 1), bias=False)\n",
       "          (bn3): BatchNorm2d(512, eps=1e-05, momentum=0.1, affine=True, track_running_stats=True)\n",
       "          (se): SqueezeExcitation(\n",
       "            (avgpool): AdaptiveAvgPool2d(output_size=1)\n",
       "            (fc1): Conv2d(512, 16, kernel_size=(1, 1), stride=(1, 1))\n",
       "            (fc2): Conv2d(16, 512, kernel_size=(1, 1), stride=(1, 1))\n",
       "            (activation): ReLU()\n",
       "            (scale_activation): Sigmoid()\n",
       "          )\n",
       "          (act): ReLU(inplace=True)\n",
       "        )\n",
       "        (16): P3EncoderBlock(\n",
       "          (conv1): Conv2d(512, 128, kernel_size=(1, 1), stride=(1, 1), bias=False)\n",
       "          (bn1): BatchNorm2d(128, eps=1e-05, momentum=0.1, affine=True, track_running_stats=True)\n",
       "          (conv2): Conv2d(128, 128, kernel_size=(3, 3), stride=(1, 1), padding=(1, 1), bias=False)\n",
       "          (bn2): BatchNorm2d(128, eps=1e-05, momentum=0.1, affine=True, track_running_stats=True)\n",
       "          (conv3): Conv2d(128, 512, kernel_size=(1, 1), stride=(1, 1), bias=False)\n",
       "          (bn3): BatchNorm2d(512, eps=1e-05, momentum=0.1, affine=True, track_running_stats=True)\n",
       "          (se): SqueezeExcitation(\n",
       "            (avgpool): AdaptiveAvgPool2d(output_size=1)\n",
       "            (fc1): Conv2d(512, 16, kernel_size=(1, 1), stride=(1, 1))\n",
       "            (fc2): Conv2d(16, 512, kernel_size=(1, 1), stride=(1, 1))\n",
       "            (activation): ReLU()\n",
       "            (scale_activation): Sigmoid()\n",
       "          )\n",
       "          (act): ReLU(inplace=True)\n",
       "        )\n",
       "        (17): P3EncoderBlock(\n",
       "          (conv1): Conv2d(512, 128, kernel_size=(1, 1), stride=(1, 1), bias=False)\n",
       "          (bn1): BatchNorm2d(128, eps=1e-05, momentum=0.1, affine=True, track_running_stats=True)\n",
       "          (conv2): Conv2d(128, 128, kernel_size=(3, 3), stride=(1, 1), padding=(1, 1), bias=False)\n",
       "          (bn2): BatchNorm2d(128, eps=1e-05, momentum=0.1, affine=True, track_running_stats=True)\n",
       "          (conv3): Conv2d(128, 512, kernel_size=(1, 1), stride=(1, 1), bias=False)\n",
       "          (bn3): BatchNorm2d(512, eps=1e-05, momentum=0.1, affine=True, track_running_stats=True)\n",
       "          (se): SqueezeExcitation(\n",
       "            (avgpool): AdaptiveAvgPool2d(output_size=1)\n",
       "            (fc1): Conv2d(512, 16, kernel_size=(1, 1), stride=(1, 1))\n",
       "            (fc2): Conv2d(16, 512, kernel_size=(1, 1), stride=(1, 1))\n",
       "            (activation): ReLU()\n",
       "            (scale_activation): Sigmoid()\n",
       "          )\n",
       "          (act): ReLU(inplace=True)\n",
       "        )\n",
       "        (18): P3EncoderBlock(\n",
       "          (conv1): Conv2d(512, 128, kernel_size=(1, 1), stride=(1, 1), bias=False)\n",
       "          (bn1): BatchNorm2d(128, eps=1e-05, momentum=0.1, affine=True, track_running_stats=True)\n",
       "          (conv2): Conv2d(128, 128, kernel_size=(3, 3), stride=(1, 1), padding=(1, 1), bias=False)\n",
       "          (bn2): BatchNorm2d(128, eps=1e-05, momentum=0.1, affine=True, track_running_stats=True)\n",
       "          (conv3): Conv2d(128, 512, kernel_size=(1, 1), stride=(1, 1), bias=False)\n",
       "          (bn3): BatchNorm2d(512, eps=1e-05, momentum=0.1, affine=True, track_running_stats=True)\n",
       "          (se): SqueezeExcitation(\n",
       "            (avgpool): AdaptiveAvgPool2d(output_size=1)\n",
       "            (fc1): Conv2d(512, 16, kernel_size=(1, 1), stride=(1, 1))\n",
       "            (fc2): Conv2d(16, 512, kernel_size=(1, 1), stride=(1, 1))\n",
       "            (activation): ReLU()\n",
       "            (scale_activation): Sigmoid()\n",
       "          )\n",
       "          (act): ReLU(inplace=True)\n",
       "        )\n",
       "        (19): P3EncoderBlock(\n",
       "          (conv1): Conv2d(512, 128, kernel_size=(1, 1), stride=(1, 1), bias=False)\n",
       "          (bn1): BatchNorm2d(128, eps=1e-05, momentum=0.1, affine=True, track_running_stats=True)\n",
       "          (conv2): Conv2d(128, 128, kernel_size=(3, 3), stride=(1, 1), padding=(1, 1), bias=False)\n",
       "          (bn2): BatchNorm2d(128, eps=1e-05, momentum=0.1, affine=True, track_running_stats=True)\n",
       "          (conv3): Conv2d(128, 512, kernel_size=(1, 1), stride=(1, 1), bias=False)\n",
       "          (bn3): BatchNorm2d(512, eps=1e-05, momentum=0.1, affine=True, track_running_stats=True)\n",
       "          (se): SqueezeExcitation(\n",
       "            (avgpool): AdaptiveAvgPool2d(output_size=1)\n",
       "            (fc1): Conv2d(512, 16, kernel_size=(1, 1), stride=(1, 1))\n",
       "            (fc2): Conv2d(16, 512, kernel_size=(1, 1), stride=(1, 1))\n",
       "            (activation): ReLU()\n",
       "            (scale_activation): Sigmoid()\n",
       "          )\n",
       "          (act): ReLU(inplace=True)\n",
       "        )\n",
       "        (20): P3EncoderBlock(\n",
       "          (conv1): Conv2d(512, 128, kernel_size=(1, 1), stride=(1, 1), bias=False)\n",
       "          (bn1): BatchNorm2d(128, eps=1e-05, momentum=0.1, affine=True, track_running_stats=True)\n",
       "          (conv2): Conv2d(128, 128, kernel_size=(3, 3), stride=(1, 1), padding=(1, 1), bias=False)\n",
       "          (bn2): BatchNorm2d(128, eps=1e-05, momentum=0.1, affine=True, track_running_stats=True)\n",
       "          (conv3): Conv2d(128, 512, kernel_size=(1, 1), stride=(1, 1), bias=False)\n",
       "          (bn3): BatchNorm2d(512, eps=1e-05, momentum=0.1, affine=True, track_running_stats=True)\n",
       "          (se): SqueezeExcitation(\n",
       "            (avgpool): AdaptiveAvgPool2d(output_size=1)\n",
       "            (fc1): Conv2d(512, 16, kernel_size=(1, 1), stride=(1, 1))\n",
       "            (fc2): Conv2d(16, 512, kernel_size=(1, 1), stride=(1, 1))\n",
       "            (activation): ReLU()\n",
       "            (scale_activation): Sigmoid()\n",
       "          )\n",
       "          (act): ReLU(inplace=True)\n",
       "        )\n",
       "        (21): P3EncoderBlock(\n",
       "          (conv1): Conv2d(512, 128, kernel_size=(1, 1), stride=(1, 1), bias=False)\n",
       "          (bn1): BatchNorm2d(128, eps=1e-05, momentum=0.1, affine=True, track_running_stats=True)\n",
       "          (conv2): Conv2d(128, 128, kernel_size=(3, 3), stride=(1, 1), padding=(1, 1), bias=False)\n",
       "          (bn2): BatchNorm2d(128, eps=1e-05, momentum=0.1, affine=True, track_running_stats=True)\n",
       "          (conv3): Conv2d(128, 512, kernel_size=(1, 1), stride=(1, 1), bias=False)\n",
       "          (bn3): BatchNorm2d(512, eps=1e-05, momentum=0.1, affine=True, track_running_stats=True)\n",
       "          (se): SqueezeExcitation(\n",
       "            (avgpool): AdaptiveAvgPool2d(output_size=1)\n",
       "            (fc1): Conv2d(512, 16, kernel_size=(1, 1), stride=(1, 1))\n",
       "            (fc2): Conv2d(16, 512, kernel_size=(1, 1), stride=(1, 1))\n",
       "            (activation): ReLU()\n",
       "            (scale_activation): Sigmoid()\n",
       "          )\n",
       "          (act): ReLU(inplace=True)\n",
       "        )\n",
       "        (22): P3EncoderBlock(\n",
       "          (conv1): Conv2d(512, 128, kernel_size=(1, 1), stride=(1, 1), bias=False)\n",
       "          (bn1): BatchNorm2d(128, eps=1e-05, momentum=0.1, affine=True, track_running_stats=True)\n",
       "          (conv2): Conv2d(128, 128, kernel_size=(3, 3), stride=(1, 1), padding=(1, 1), bias=False)\n",
       "          (bn2): BatchNorm2d(128, eps=1e-05, momentum=0.1, affine=True, track_running_stats=True)\n",
       "          (conv3): Conv2d(128, 512, kernel_size=(1, 1), stride=(1, 1), bias=False)\n",
       "          (bn3): BatchNorm2d(512, eps=1e-05, momentum=0.1, affine=True, track_running_stats=True)\n",
       "          (se): SqueezeExcitation(\n",
       "            (avgpool): AdaptiveAvgPool2d(output_size=1)\n",
       "            (fc1): Conv2d(512, 16, kernel_size=(1, 1), stride=(1, 1))\n",
       "            (fc2): Conv2d(16, 512, kernel_size=(1, 1), stride=(1, 1))\n",
       "            (activation): ReLU()\n",
       "            (scale_activation): Sigmoid()\n",
       "          )\n",
       "          (act): ReLU(inplace=True)\n",
       "        )\n",
       "      )\n",
       "      (4): Sequential(\n",
       "        (0): P3EncoderBlock(\n",
       "          (conv1): Conv2d(512, 192, kernel_size=(1, 1), stride=(1, 1), bias=False)\n",
       "          (bn1): BatchNorm2d(192, eps=1e-05, momentum=0.1, affine=True, track_running_stats=True)\n",
       "          (conv2): Conv2d(192, 192, kernel_size=(3, 3), stride=(2, 2), padding=(1, 1), bias=False)\n",
       "          (bn2): BatchNorm2d(192, eps=1e-05, momentum=0.1, affine=True, track_running_stats=True)\n",
       "          (conv3): Conv2d(192, 768, kernel_size=(1, 1), stride=(1, 1), bias=False)\n",
       "          (bn3): BatchNorm2d(768, eps=1e-05, momentum=0.1, affine=True, track_running_stats=True)\n",
       "          (se): SqueezeExcitation(\n",
       "            (avgpool): AdaptiveAvgPool2d(output_size=1)\n",
       "            (fc1): Conv2d(768, 16, kernel_size=(1, 1), stride=(1, 1))\n",
       "            (fc2): Conv2d(16, 768, kernel_size=(1, 1), stride=(1, 1))\n",
       "            (activation): ReLU()\n",
       "            (scale_activation): Sigmoid()\n",
       "          )\n",
       "          (act): ReLU(inplace=True)\n",
       "          (downsample_identity): Sequential(\n",
       "            (0): Conv2d(512, 768, kernel_size=(1, 1), stride=(2, 2), bias=False)\n",
       "            (1): BatchNorm2d(768, eps=1e-05, momentum=0.1, affine=True, track_running_stats=True)\n",
       "          )\n",
       "        )\n",
       "        (1): P3EncoderBlock(\n",
       "          (conv1): Conv2d(768, 192, kernel_size=(1, 1), stride=(1, 1), bias=False)\n",
       "          (bn1): BatchNorm2d(192, eps=1e-05, momentum=0.1, affine=True, track_running_stats=True)\n",
       "          (conv2): Conv2d(192, 192, kernel_size=(3, 3), stride=(1, 1), padding=(1, 1), bias=False)\n",
       "          (bn2): BatchNorm2d(192, eps=1e-05, momentum=0.1, affine=True, track_running_stats=True)\n",
       "          (conv3): Conv2d(192, 768, kernel_size=(1, 1), stride=(1, 1), bias=False)\n",
       "          (bn3): BatchNorm2d(768, eps=1e-05, momentum=0.1, affine=True, track_running_stats=True)\n",
       "          (se): SqueezeExcitation(\n",
       "            (avgpool): AdaptiveAvgPool2d(output_size=1)\n",
       "            (fc1): Conv2d(768, 16, kernel_size=(1, 1), stride=(1, 1))\n",
       "            (fc2): Conv2d(16, 768, kernel_size=(1, 1), stride=(1, 1))\n",
       "            (activation): ReLU()\n",
       "            (scale_activation): Sigmoid()\n",
       "          )\n",
       "          (act): ReLU(inplace=True)\n",
       "        )\n",
       "        (2): P3EncoderBlock(\n",
       "          (conv1): Conv2d(768, 192, kernel_size=(1, 1), stride=(1, 1), bias=False)\n",
       "          (bn1): BatchNorm2d(192, eps=1e-05, momentum=0.1, affine=True, track_running_stats=True)\n",
       "          (conv2): Conv2d(192, 192, kernel_size=(3, 3), stride=(1, 1), padding=(1, 1), bias=False)\n",
       "          (bn2): BatchNorm2d(192, eps=1e-05, momentum=0.1, affine=True, track_running_stats=True)\n",
       "          (conv3): Conv2d(192, 768, kernel_size=(1, 1), stride=(1, 1), bias=False)\n",
       "          (bn3): BatchNorm2d(768, eps=1e-05, momentum=0.1, affine=True, track_running_stats=True)\n",
       "          (se): SqueezeExcitation(\n",
       "            (avgpool): AdaptiveAvgPool2d(output_size=1)\n",
       "            (fc1): Conv2d(768, 16, kernel_size=(1, 1), stride=(1, 1))\n",
       "            (fc2): Conv2d(16, 768, kernel_size=(1, 1), stride=(1, 1))\n",
       "            (activation): ReLU()\n",
       "            (scale_activation): Sigmoid()\n",
       "          )\n",
       "          (act): ReLU(inplace=True)\n",
       "        )\n",
       "      )\n",
       "    )\n",
       "    (norm): DyT(C=768, alpha=1.0000, gamma=Tensor(shape=(768,)), beta=Tensor(shape=(768,)))\n",
       "    (positional_encoding): P3Learned2DPositionalEncoding()\n",
       "  )\n",
       "  (classifier): Sequential(\n",
       "    (0): Linear(in_features=768, out_features=512, bias=True)\n",
       "    (1): ReLU()\n",
       "    (2): Dropout(p=0.25, inplace=False)\n",
       "    (3): Linear(in_features=512, out_features=10, bias=True)\n",
       "  )\n",
       ")"
      ]
     },
     "execution_count": 4,
     "metadata": {},
     "output_type": "execute_result"
    }
   ],
   "source": [
    "# Create model instances\n",
    "classifier_p3 = P3Classifier(input_channels, input_width, input_height, num_classes)\n",
    "\n",
    "# Move model to GPU if available\n",
    "device = torch.device(\"cuda\" if torch.cuda.is_available() else \"cpu\")\n",
    "classifier_p3.to(device)"
   ]
  },
  {
   "cell_type": "code",
   "execution_count": 5,
   "metadata": {},
   "outputs": [
    {
     "data": {
      "text/plain": [
       "ResNet(\n",
       "  (conv1): Conv2d(3, 64, kernel_size=(7, 7), stride=(2, 2), padding=(3, 3), bias=False)\n",
       "  (bn1): BatchNorm2d(64, eps=1e-05, momentum=0.1, affine=True, track_running_stats=True)\n",
       "  (relu): ReLU(inplace=True)\n",
       "  (maxpool): MaxPool2d(kernel_size=3, stride=2, padding=1, dilation=1, ceil_mode=False)\n",
       "  (layer1): Sequential(\n",
       "    (0): Bottleneck(\n",
       "      (conv1): Conv2d(64, 64, kernel_size=(1, 1), stride=(1, 1), bias=False)\n",
       "      (bn1): BatchNorm2d(64, eps=1e-05, momentum=0.1, affine=True, track_running_stats=True)\n",
       "      (conv2): Conv2d(64, 64, kernel_size=(3, 3), stride=(1, 1), padding=(1, 1), bias=False)\n",
       "      (bn2): BatchNorm2d(64, eps=1e-05, momentum=0.1, affine=True, track_running_stats=True)\n",
       "      (conv3): Conv2d(64, 256, kernel_size=(1, 1), stride=(1, 1), bias=False)\n",
       "      (bn3): BatchNorm2d(256, eps=1e-05, momentum=0.1, affine=True, track_running_stats=True)\n",
       "      (relu): ReLU(inplace=True)\n",
       "      (downsample): Sequential(\n",
       "        (0): Conv2d(64, 256, kernel_size=(1, 1), stride=(1, 1), bias=False)\n",
       "        (1): BatchNorm2d(256, eps=1e-05, momentum=0.1, affine=True, track_running_stats=True)\n",
       "      )\n",
       "    )\n",
       "    (1): Bottleneck(\n",
       "      (conv1): Conv2d(256, 64, kernel_size=(1, 1), stride=(1, 1), bias=False)\n",
       "      (bn1): BatchNorm2d(64, eps=1e-05, momentum=0.1, affine=True, track_running_stats=True)\n",
       "      (conv2): Conv2d(64, 64, kernel_size=(3, 3), stride=(1, 1), padding=(1, 1), bias=False)\n",
       "      (bn2): BatchNorm2d(64, eps=1e-05, momentum=0.1, affine=True, track_running_stats=True)\n",
       "      (conv3): Conv2d(64, 256, kernel_size=(1, 1), stride=(1, 1), bias=False)\n",
       "      (bn3): BatchNorm2d(256, eps=1e-05, momentum=0.1, affine=True, track_running_stats=True)\n",
       "      (relu): ReLU(inplace=True)\n",
       "    )\n",
       "    (2): Bottleneck(\n",
       "      (conv1): Conv2d(256, 64, kernel_size=(1, 1), stride=(1, 1), bias=False)\n",
       "      (bn1): BatchNorm2d(64, eps=1e-05, momentum=0.1, affine=True, track_running_stats=True)\n",
       "      (conv2): Conv2d(64, 64, kernel_size=(3, 3), stride=(1, 1), padding=(1, 1), bias=False)\n",
       "      (bn2): BatchNorm2d(64, eps=1e-05, momentum=0.1, affine=True, track_running_stats=True)\n",
       "      (conv3): Conv2d(64, 256, kernel_size=(1, 1), stride=(1, 1), bias=False)\n",
       "      (bn3): BatchNorm2d(256, eps=1e-05, momentum=0.1, affine=True, track_running_stats=True)\n",
       "      (relu): ReLU(inplace=True)\n",
       "    )\n",
       "  )\n",
       "  (layer2): Sequential(\n",
       "    (0): Bottleneck(\n",
       "      (conv1): Conv2d(256, 128, kernel_size=(1, 1), stride=(1, 1), bias=False)\n",
       "      (bn1): BatchNorm2d(128, eps=1e-05, momentum=0.1, affine=True, track_running_stats=True)\n",
       "      (conv2): Conv2d(128, 128, kernel_size=(3, 3), stride=(2, 2), padding=(1, 1), bias=False)\n",
       "      (bn2): BatchNorm2d(128, eps=1e-05, momentum=0.1, affine=True, track_running_stats=True)\n",
       "      (conv3): Conv2d(128, 512, kernel_size=(1, 1), stride=(1, 1), bias=False)\n",
       "      (bn3): BatchNorm2d(512, eps=1e-05, momentum=0.1, affine=True, track_running_stats=True)\n",
       "      (relu): ReLU(inplace=True)\n",
       "      (downsample): Sequential(\n",
       "        (0): Conv2d(256, 512, kernel_size=(1, 1), stride=(2, 2), bias=False)\n",
       "        (1): BatchNorm2d(512, eps=1e-05, momentum=0.1, affine=True, track_running_stats=True)\n",
       "      )\n",
       "    )\n",
       "    (1): Bottleneck(\n",
       "      (conv1): Conv2d(512, 128, kernel_size=(1, 1), stride=(1, 1), bias=False)\n",
       "      (bn1): BatchNorm2d(128, eps=1e-05, momentum=0.1, affine=True, track_running_stats=True)\n",
       "      (conv2): Conv2d(128, 128, kernel_size=(3, 3), stride=(1, 1), padding=(1, 1), bias=False)\n",
       "      (bn2): BatchNorm2d(128, eps=1e-05, momentum=0.1, affine=True, track_running_stats=True)\n",
       "      (conv3): Conv2d(128, 512, kernel_size=(1, 1), stride=(1, 1), bias=False)\n",
       "      (bn3): BatchNorm2d(512, eps=1e-05, momentum=0.1, affine=True, track_running_stats=True)\n",
       "      (relu): ReLU(inplace=True)\n",
       "    )\n",
       "    (2): Bottleneck(\n",
       "      (conv1): Conv2d(512, 128, kernel_size=(1, 1), stride=(1, 1), bias=False)\n",
       "      (bn1): BatchNorm2d(128, eps=1e-05, momentum=0.1, affine=True, track_running_stats=True)\n",
       "      (conv2): Conv2d(128, 128, kernel_size=(3, 3), stride=(1, 1), padding=(1, 1), bias=False)\n",
       "      (bn2): BatchNorm2d(128, eps=1e-05, momentum=0.1, affine=True, track_running_stats=True)\n",
       "      (conv3): Conv2d(128, 512, kernel_size=(1, 1), stride=(1, 1), bias=False)\n",
       "      (bn3): BatchNorm2d(512, eps=1e-05, momentum=0.1, affine=True, track_running_stats=True)\n",
       "      (relu): ReLU(inplace=True)\n",
       "    )\n",
       "    (3): Bottleneck(\n",
       "      (conv1): Conv2d(512, 128, kernel_size=(1, 1), stride=(1, 1), bias=False)\n",
       "      (bn1): BatchNorm2d(128, eps=1e-05, momentum=0.1, affine=True, track_running_stats=True)\n",
       "      (conv2): Conv2d(128, 128, kernel_size=(3, 3), stride=(1, 1), padding=(1, 1), bias=False)\n",
       "      (bn2): BatchNorm2d(128, eps=1e-05, momentum=0.1, affine=True, track_running_stats=True)\n",
       "      (conv3): Conv2d(128, 512, kernel_size=(1, 1), stride=(1, 1), bias=False)\n",
       "      (bn3): BatchNorm2d(512, eps=1e-05, momentum=0.1, affine=True, track_running_stats=True)\n",
       "      (relu): ReLU(inplace=True)\n",
       "    )\n",
       "  )\n",
       "  (layer3): Sequential(\n",
       "    (0): Bottleneck(\n",
       "      (conv1): Conv2d(512, 256, kernel_size=(1, 1), stride=(1, 1), bias=False)\n",
       "      (bn1): BatchNorm2d(256, eps=1e-05, momentum=0.1, affine=True, track_running_stats=True)\n",
       "      (conv2): Conv2d(256, 256, kernel_size=(3, 3), stride=(2, 2), padding=(1, 1), bias=False)\n",
       "      (bn2): BatchNorm2d(256, eps=1e-05, momentum=0.1, affine=True, track_running_stats=True)\n",
       "      (conv3): Conv2d(256, 1024, kernel_size=(1, 1), stride=(1, 1), bias=False)\n",
       "      (bn3): BatchNorm2d(1024, eps=1e-05, momentum=0.1, affine=True, track_running_stats=True)\n",
       "      (relu): ReLU(inplace=True)\n",
       "      (downsample): Sequential(\n",
       "        (0): Conv2d(512, 1024, kernel_size=(1, 1), stride=(2, 2), bias=False)\n",
       "        (1): BatchNorm2d(1024, eps=1e-05, momentum=0.1, affine=True, track_running_stats=True)\n",
       "      )\n",
       "    )\n",
       "    (1): Bottleneck(\n",
       "      (conv1): Conv2d(1024, 256, kernel_size=(1, 1), stride=(1, 1), bias=False)\n",
       "      (bn1): BatchNorm2d(256, eps=1e-05, momentum=0.1, affine=True, track_running_stats=True)\n",
       "      (conv2): Conv2d(256, 256, kernel_size=(3, 3), stride=(1, 1), padding=(1, 1), bias=False)\n",
       "      (bn2): BatchNorm2d(256, eps=1e-05, momentum=0.1, affine=True, track_running_stats=True)\n",
       "      (conv3): Conv2d(256, 1024, kernel_size=(1, 1), stride=(1, 1), bias=False)\n",
       "      (bn3): BatchNorm2d(1024, eps=1e-05, momentum=0.1, affine=True, track_running_stats=True)\n",
       "      (relu): ReLU(inplace=True)\n",
       "    )\n",
       "    (2): Bottleneck(\n",
       "      (conv1): Conv2d(1024, 256, kernel_size=(1, 1), stride=(1, 1), bias=False)\n",
       "      (bn1): BatchNorm2d(256, eps=1e-05, momentum=0.1, affine=True, track_running_stats=True)\n",
       "      (conv2): Conv2d(256, 256, kernel_size=(3, 3), stride=(1, 1), padding=(1, 1), bias=False)\n",
       "      (bn2): BatchNorm2d(256, eps=1e-05, momentum=0.1, affine=True, track_running_stats=True)\n",
       "      (conv3): Conv2d(256, 1024, kernel_size=(1, 1), stride=(1, 1), bias=False)\n",
       "      (bn3): BatchNorm2d(1024, eps=1e-05, momentum=0.1, affine=True, track_running_stats=True)\n",
       "      (relu): ReLU(inplace=True)\n",
       "    )\n",
       "    (3): Bottleneck(\n",
       "      (conv1): Conv2d(1024, 256, kernel_size=(1, 1), stride=(1, 1), bias=False)\n",
       "      (bn1): BatchNorm2d(256, eps=1e-05, momentum=0.1, affine=True, track_running_stats=True)\n",
       "      (conv2): Conv2d(256, 256, kernel_size=(3, 3), stride=(1, 1), padding=(1, 1), bias=False)\n",
       "      (bn2): BatchNorm2d(256, eps=1e-05, momentum=0.1, affine=True, track_running_stats=True)\n",
       "      (conv3): Conv2d(256, 1024, kernel_size=(1, 1), stride=(1, 1), bias=False)\n",
       "      (bn3): BatchNorm2d(1024, eps=1e-05, momentum=0.1, affine=True, track_running_stats=True)\n",
       "      (relu): ReLU(inplace=True)\n",
       "    )\n",
       "    (4): Bottleneck(\n",
       "      (conv1): Conv2d(1024, 256, kernel_size=(1, 1), stride=(1, 1), bias=False)\n",
       "      (bn1): BatchNorm2d(256, eps=1e-05, momentum=0.1, affine=True, track_running_stats=True)\n",
       "      (conv2): Conv2d(256, 256, kernel_size=(3, 3), stride=(1, 1), padding=(1, 1), bias=False)\n",
       "      (bn2): BatchNorm2d(256, eps=1e-05, momentum=0.1, affine=True, track_running_stats=True)\n",
       "      (conv3): Conv2d(256, 1024, kernel_size=(1, 1), stride=(1, 1), bias=False)\n",
       "      (bn3): BatchNorm2d(1024, eps=1e-05, momentum=0.1, affine=True, track_running_stats=True)\n",
       "      (relu): ReLU(inplace=True)\n",
       "    )\n",
       "    (5): Bottleneck(\n",
       "      (conv1): Conv2d(1024, 256, kernel_size=(1, 1), stride=(1, 1), bias=False)\n",
       "      (bn1): BatchNorm2d(256, eps=1e-05, momentum=0.1, affine=True, track_running_stats=True)\n",
       "      (conv2): Conv2d(256, 256, kernel_size=(3, 3), stride=(1, 1), padding=(1, 1), bias=False)\n",
       "      (bn2): BatchNorm2d(256, eps=1e-05, momentum=0.1, affine=True, track_running_stats=True)\n",
       "      (conv3): Conv2d(256, 1024, kernel_size=(1, 1), stride=(1, 1), bias=False)\n",
       "      (bn3): BatchNorm2d(1024, eps=1e-05, momentum=0.1, affine=True, track_running_stats=True)\n",
       "      (relu): ReLU(inplace=True)\n",
       "    )\n",
       "    (6): Bottleneck(\n",
       "      (conv1): Conv2d(1024, 256, kernel_size=(1, 1), stride=(1, 1), bias=False)\n",
       "      (bn1): BatchNorm2d(256, eps=1e-05, momentum=0.1, affine=True, track_running_stats=True)\n",
       "      (conv2): Conv2d(256, 256, kernel_size=(3, 3), stride=(1, 1), padding=(1, 1), bias=False)\n",
       "      (bn2): BatchNorm2d(256, eps=1e-05, momentum=0.1, affine=True, track_running_stats=True)\n",
       "      (conv3): Conv2d(256, 1024, kernel_size=(1, 1), stride=(1, 1), bias=False)\n",
       "      (bn3): BatchNorm2d(1024, eps=1e-05, momentum=0.1, affine=True, track_running_stats=True)\n",
       "      (relu): ReLU(inplace=True)\n",
       "    )\n",
       "    (7): Bottleneck(\n",
       "      (conv1): Conv2d(1024, 256, kernel_size=(1, 1), stride=(1, 1), bias=False)\n",
       "      (bn1): BatchNorm2d(256, eps=1e-05, momentum=0.1, affine=True, track_running_stats=True)\n",
       "      (conv2): Conv2d(256, 256, kernel_size=(3, 3), stride=(1, 1), padding=(1, 1), bias=False)\n",
       "      (bn2): BatchNorm2d(256, eps=1e-05, momentum=0.1, affine=True, track_running_stats=True)\n",
       "      (conv3): Conv2d(256, 1024, kernel_size=(1, 1), stride=(1, 1), bias=False)\n",
       "      (bn3): BatchNorm2d(1024, eps=1e-05, momentum=0.1, affine=True, track_running_stats=True)\n",
       "      (relu): ReLU(inplace=True)\n",
       "    )\n",
       "    (8): Bottleneck(\n",
       "      (conv1): Conv2d(1024, 256, kernel_size=(1, 1), stride=(1, 1), bias=False)\n",
       "      (bn1): BatchNorm2d(256, eps=1e-05, momentum=0.1, affine=True, track_running_stats=True)\n",
       "      (conv2): Conv2d(256, 256, kernel_size=(3, 3), stride=(1, 1), padding=(1, 1), bias=False)\n",
       "      (bn2): BatchNorm2d(256, eps=1e-05, momentum=0.1, affine=True, track_running_stats=True)\n",
       "      (conv3): Conv2d(256, 1024, kernel_size=(1, 1), stride=(1, 1), bias=False)\n",
       "      (bn3): BatchNorm2d(1024, eps=1e-05, momentum=0.1, affine=True, track_running_stats=True)\n",
       "      (relu): ReLU(inplace=True)\n",
       "    )\n",
       "    (9): Bottleneck(\n",
       "      (conv1): Conv2d(1024, 256, kernel_size=(1, 1), stride=(1, 1), bias=False)\n",
       "      (bn1): BatchNorm2d(256, eps=1e-05, momentum=0.1, affine=True, track_running_stats=True)\n",
       "      (conv2): Conv2d(256, 256, kernel_size=(3, 3), stride=(1, 1), padding=(1, 1), bias=False)\n",
       "      (bn2): BatchNorm2d(256, eps=1e-05, momentum=0.1, affine=True, track_running_stats=True)\n",
       "      (conv3): Conv2d(256, 1024, kernel_size=(1, 1), stride=(1, 1), bias=False)\n",
       "      (bn3): BatchNorm2d(1024, eps=1e-05, momentum=0.1, affine=True, track_running_stats=True)\n",
       "      (relu): ReLU(inplace=True)\n",
       "    )\n",
       "    (10): Bottleneck(\n",
       "      (conv1): Conv2d(1024, 256, kernel_size=(1, 1), stride=(1, 1), bias=False)\n",
       "      (bn1): BatchNorm2d(256, eps=1e-05, momentum=0.1, affine=True, track_running_stats=True)\n",
       "      (conv2): Conv2d(256, 256, kernel_size=(3, 3), stride=(1, 1), padding=(1, 1), bias=False)\n",
       "      (bn2): BatchNorm2d(256, eps=1e-05, momentum=0.1, affine=True, track_running_stats=True)\n",
       "      (conv3): Conv2d(256, 1024, kernel_size=(1, 1), stride=(1, 1), bias=False)\n",
       "      (bn3): BatchNorm2d(1024, eps=1e-05, momentum=0.1, affine=True, track_running_stats=True)\n",
       "      (relu): ReLU(inplace=True)\n",
       "    )\n",
       "    (11): Bottleneck(\n",
       "      (conv1): Conv2d(1024, 256, kernel_size=(1, 1), stride=(1, 1), bias=False)\n",
       "      (bn1): BatchNorm2d(256, eps=1e-05, momentum=0.1, affine=True, track_running_stats=True)\n",
       "      (conv2): Conv2d(256, 256, kernel_size=(3, 3), stride=(1, 1), padding=(1, 1), bias=False)\n",
       "      (bn2): BatchNorm2d(256, eps=1e-05, momentum=0.1, affine=True, track_running_stats=True)\n",
       "      (conv3): Conv2d(256, 1024, kernel_size=(1, 1), stride=(1, 1), bias=False)\n",
       "      (bn3): BatchNorm2d(1024, eps=1e-05, momentum=0.1, affine=True, track_running_stats=True)\n",
       "      (relu): ReLU(inplace=True)\n",
       "    )\n",
       "    (12): Bottleneck(\n",
       "      (conv1): Conv2d(1024, 256, kernel_size=(1, 1), stride=(1, 1), bias=False)\n",
       "      (bn1): BatchNorm2d(256, eps=1e-05, momentum=0.1, affine=True, track_running_stats=True)\n",
       "      (conv2): Conv2d(256, 256, kernel_size=(3, 3), stride=(1, 1), padding=(1, 1), bias=False)\n",
       "      (bn2): BatchNorm2d(256, eps=1e-05, momentum=0.1, affine=True, track_running_stats=True)\n",
       "      (conv3): Conv2d(256, 1024, kernel_size=(1, 1), stride=(1, 1), bias=False)\n",
       "      (bn3): BatchNorm2d(1024, eps=1e-05, momentum=0.1, affine=True, track_running_stats=True)\n",
       "      (relu): ReLU(inplace=True)\n",
       "    )\n",
       "    (13): Bottleneck(\n",
       "      (conv1): Conv2d(1024, 256, kernel_size=(1, 1), stride=(1, 1), bias=False)\n",
       "      (bn1): BatchNorm2d(256, eps=1e-05, momentum=0.1, affine=True, track_running_stats=True)\n",
       "      (conv2): Conv2d(256, 256, kernel_size=(3, 3), stride=(1, 1), padding=(1, 1), bias=False)\n",
       "      (bn2): BatchNorm2d(256, eps=1e-05, momentum=0.1, affine=True, track_running_stats=True)\n",
       "      (conv3): Conv2d(256, 1024, kernel_size=(1, 1), stride=(1, 1), bias=False)\n",
       "      (bn3): BatchNorm2d(1024, eps=1e-05, momentum=0.1, affine=True, track_running_stats=True)\n",
       "      (relu): ReLU(inplace=True)\n",
       "    )\n",
       "    (14): Bottleneck(\n",
       "      (conv1): Conv2d(1024, 256, kernel_size=(1, 1), stride=(1, 1), bias=False)\n",
       "      (bn1): BatchNorm2d(256, eps=1e-05, momentum=0.1, affine=True, track_running_stats=True)\n",
       "      (conv2): Conv2d(256, 256, kernel_size=(3, 3), stride=(1, 1), padding=(1, 1), bias=False)\n",
       "      (bn2): BatchNorm2d(256, eps=1e-05, momentum=0.1, affine=True, track_running_stats=True)\n",
       "      (conv3): Conv2d(256, 1024, kernel_size=(1, 1), stride=(1, 1), bias=False)\n",
       "      (bn3): BatchNorm2d(1024, eps=1e-05, momentum=0.1, affine=True, track_running_stats=True)\n",
       "      (relu): ReLU(inplace=True)\n",
       "    )\n",
       "    (15): Bottleneck(\n",
       "      (conv1): Conv2d(1024, 256, kernel_size=(1, 1), stride=(1, 1), bias=False)\n",
       "      (bn1): BatchNorm2d(256, eps=1e-05, momentum=0.1, affine=True, track_running_stats=True)\n",
       "      (conv2): Conv2d(256, 256, kernel_size=(3, 3), stride=(1, 1), padding=(1, 1), bias=False)\n",
       "      (bn2): BatchNorm2d(256, eps=1e-05, momentum=0.1, affine=True, track_running_stats=True)\n",
       "      (conv3): Conv2d(256, 1024, kernel_size=(1, 1), stride=(1, 1), bias=False)\n",
       "      (bn3): BatchNorm2d(1024, eps=1e-05, momentum=0.1, affine=True, track_running_stats=True)\n",
       "      (relu): ReLU(inplace=True)\n",
       "    )\n",
       "    (16): Bottleneck(\n",
       "      (conv1): Conv2d(1024, 256, kernel_size=(1, 1), stride=(1, 1), bias=False)\n",
       "      (bn1): BatchNorm2d(256, eps=1e-05, momentum=0.1, affine=True, track_running_stats=True)\n",
       "      (conv2): Conv2d(256, 256, kernel_size=(3, 3), stride=(1, 1), padding=(1, 1), bias=False)\n",
       "      (bn2): BatchNorm2d(256, eps=1e-05, momentum=0.1, affine=True, track_running_stats=True)\n",
       "      (conv3): Conv2d(256, 1024, kernel_size=(1, 1), stride=(1, 1), bias=False)\n",
       "      (bn3): BatchNorm2d(1024, eps=1e-05, momentum=0.1, affine=True, track_running_stats=True)\n",
       "      (relu): ReLU(inplace=True)\n",
       "    )\n",
       "    (17): Bottleneck(\n",
       "      (conv1): Conv2d(1024, 256, kernel_size=(1, 1), stride=(1, 1), bias=False)\n",
       "      (bn1): BatchNorm2d(256, eps=1e-05, momentum=0.1, affine=True, track_running_stats=True)\n",
       "      (conv2): Conv2d(256, 256, kernel_size=(3, 3), stride=(1, 1), padding=(1, 1), bias=False)\n",
       "      (bn2): BatchNorm2d(256, eps=1e-05, momentum=0.1, affine=True, track_running_stats=True)\n",
       "      (conv3): Conv2d(256, 1024, kernel_size=(1, 1), stride=(1, 1), bias=False)\n",
       "      (bn3): BatchNorm2d(1024, eps=1e-05, momentum=0.1, affine=True, track_running_stats=True)\n",
       "      (relu): ReLU(inplace=True)\n",
       "    )\n",
       "    (18): Bottleneck(\n",
       "      (conv1): Conv2d(1024, 256, kernel_size=(1, 1), stride=(1, 1), bias=False)\n",
       "      (bn1): BatchNorm2d(256, eps=1e-05, momentum=0.1, affine=True, track_running_stats=True)\n",
       "      (conv2): Conv2d(256, 256, kernel_size=(3, 3), stride=(1, 1), padding=(1, 1), bias=False)\n",
       "      (bn2): BatchNorm2d(256, eps=1e-05, momentum=0.1, affine=True, track_running_stats=True)\n",
       "      (conv3): Conv2d(256, 1024, kernel_size=(1, 1), stride=(1, 1), bias=False)\n",
       "      (bn3): BatchNorm2d(1024, eps=1e-05, momentum=0.1, affine=True, track_running_stats=True)\n",
       "      (relu): ReLU(inplace=True)\n",
       "    )\n",
       "    (19): Bottleneck(\n",
       "      (conv1): Conv2d(1024, 256, kernel_size=(1, 1), stride=(1, 1), bias=False)\n",
       "      (bn1): BatchNorm2d(256, eps=1e-05, momentum=0.1, affine=True, track_running_stats=True)\n",
       "      (conv2): Conv2d(256, 256, kernel_size=(3, 3), stride=(1, 1), padding=(1, 1), bias=False)\n",
       "      (bn2): BatchNorm2d(256, eps=1e-05, momentum=0.1, affine=True, track_running_stats=True)\n",
       "      (conv3): Conv2d(256, 1024, kernel_size=(1, 1), stride=(1, 1), bias=False)\n",
       "      (bn3): BatchNorm2d(1024, eps=1e-05, momentum=0.1, affine=True, track_running_stats=True)\n",
       "      (relu): ReLU(inplace=True)\n",
       "    )\n",
       "    (20): Bottleneck(\n",
       "      (conv1): Conv2d(1024, 256, kernel_size=(1, 1), stride=(1, 1), bias=False)\n",
       "      (bn1): BatchNorm2d(256, eps=1e-05, momentum=0.1, affine=True, track_running_stats=True)\n",
       "      (conv2): Conv2d(256, 256, kernel_size=(3, 3), stride=(1, 1), padding=(1, 1), bias=False)\n",
       "      (bn2): BatchNorm2d(256, eps=1e-05, momentum=0.1, affine=True, track_running_stats=True)\n",
       "      (conv3): Conv2d(256, 1024, kernel_size=(1, 1), stride=(1, 1), bias=False)\n",
       "      (bn3): BatchNorm2d(1024, eps=1e-05, momentum=0.1, affine=True, track_running_stats=True)\n",
       "      (relu): ReLU(inplace=True)\n",
       "    )\n",
       "    (21): Bottleneck(\n",
       "      (conv1): Conv2d(1024, 256, kernel_size=(1, 1), stride=(1, 1), bias=False)\n",
       "      (bn1): BatchNorm2d(256, eps=1e-05, momentum=0.1, affine=True, track_running_stats=True)\n",
       "      (conv2): Conv2d(256, 256, kernel_size=(3, 3), stride=(1, 1), padding=(1, 1), bias=False)\n",
       "      (bn2): BatchNorm2d(256, eps=1e-05, momentum=0.1, affine=True, track_running_stats=True)\n",
       "      (conv3): Conv2d(256, 1024, kernel_size=(1, 1), stride=(1, 1), bias=False)\n",
       "      (bn3): BatchNorm2d(1024, eps=1e-05, momentum=0.1, affine=True, track_running_stats=True)\n",
       "      (relu): ReLU(inplace=True)\n",
       "    )\n",
       "    (22): Bottleneck(\n",
       "      (conv1): Conv2d(1024, 256, kernel_size=(1, 1), stride=(1, 1), bias=False)\n",
       "      (bn1): BatchNorm2d(256, eps=1e-05, momentum=0.1, affine=True, track_running_stats=True)\n",
       "      (conv2): Conv2d(256, 256, kernel_size=(3, 3), stride=(1, 1), padding=(1, 1), bias=False)\n",
       "      (bn2): BatchNorm2d(256, eps=1e-05, momentum=0.1, affine=True, track_running_stats=True)\n",
       "      (conv3): Conv2d(256, 1024, kernel_size=(1, 1), stride=(1, 1), bias=False)\n",
       "      (bn3): BatchNorm2d(1024, eps=1e-05, momentum=0.1, affine=True, track_running_stats=True)\n",
       "      (relu): ReLU(inplace=True)\n",
       "    )\n",
       "  )\n",
       "  (layer4): Sequential(\n",
       "    (0): Bottleneck(\n",
       "      (conv1): Conv2d(1024, 512, kernel_size=(1, 1), stride=(1, 1), bias=False)\n",
       "      (bn1): BatchNorm2d(512, eps=1e-05, momentum=0.1, affine=True, track_running_stats=True)\n",
       "      (conv2): Conv2d(512, 512, kernel_size=(3, 3), stride=(2, 2), padding=(1, 1), bias=False)\n",
       "      (bn2): BatchNorm2d(512, eps=1e-05, momentum=0.1, affine=True, track_running_stats=True)\n",
       "      (conv3): Conv2d(512, 2048, kernel_size=(1, 1), stride=(1, 1), bias=False)\n",
       "      (bn3): BatchNorm2d(2048, eps=1e-05, momentum=0.1, affine=True, track_running_stats=True)\n",
       "      (relu): ReLU(inplace=True)\n",
       "      (downsample): Sequential(\n",
       "        (0): Conv2d(1024, 2048, kernel_size=(1, 1), stride=(2, 2), bias=False)\n",
       "        (1): BatchNorm2d(2048, eps=1e-05, momentum=0.1, affine=True, track_running_stats=True)\n",
       "      )\n",
       "    )\n",
       "    (1): Bottleneck(\n",
       "      (conv1): Conv2d(2048, 512, kernel_size=(1, 1), stride=(1, 1), bias=False)\n",
       "      (bn1): BatchNorm2d(512, eps=1e-05, momentum=0.1, affine=True, track_running_stats=True)\n",
       "      (conv2): Conv2d(512, 512, kernel_size=(3, 3), stride=(1, 1), padding=(1, 1), bias=False)\n",
       "      (bn2): BatchNorm2d(512, eps=1e-05, momentum=0.1, affine=True, track_running_stats=True)\n",
       "      (conv3): Conv2d(512, 2048, kernel_size=(1, 1), stride=(1, 1), bias=False)\n",
       "      (bn3): BatchNorm2d(2048, eps=1e-05, momentum=0.1, affine=True, track_running_stats=True)\n",
       "      (relu): ReLU(inplace=True)\n",
       "    )\n",
       "    (2): Bottleneck(\n",
       "      (conv1): Conv2d(2048, 512, kernel_size=(1, 1), stride=(1, 1), bias=False)\n",
       "      (bn1): BatchNorm2d(512, eps=1e-05, momentum=0.1, affine=True, track_running_stats=True)\n",
       "      (conv2): Conv2d(512, 512, kernel_size=(3, 3), stride=(1, 1), padding=(1, 1), bias=False)\n",
       "      (bn2): BatchNorm2d(512, eps=1e-05, momentum=0.1, affine=True, track_running_stats=True)\n",
       "      (conv3): Conv2d(512, 2048, kernel_size=(1, 1), stride=(1, 1), bias=False)\n",
       "      (bn3): BatchNorm2d(2048, eps=1e-05, momentum=0.1, affine=True, track_running_stats=True)\n",
       "      (relu): ReLU(inplace=True)\n",
       "    )\n",
       "  )\n",
       "  (avgpool): AdaptiveAvgPool2d(output_size=(1, 1))\n",
       "  (fc): Linear(in_features=2048, out_features=10, bias=True)\n",
       ")"
      ]
     },
     "execution_count": 5,
     "metadata": {},
     "output_type": "execute_result"
    }
   ],
   "source": [
    "import torchvision.models as models\n",
    "\n",
    "classifier_resnet101 = models.resnet101(weights=None).to(device)\n",
    "classifier_resnet101.fc = nn.Linear(classifier_resnet101.fc.in_features, 10).to(device)\n",
    "classifier_resnet101"
   ]
  },
  {
   "cell_type": "code",
   "execution_count": 8,
   "metadata": {},
   "outputs": [],
   "source": [
    "# Evaluation on the test set\n",
    "def test_model(classifier, label: str):\n",
    "    classifier.eval()\n",
    "    correct = 0\n",
    "    total = 0\n",
    "    with torch.no_grad():\n",
    "        for images, labels in test_loader:\n",
    "            images, labels = images.to(device), labels.to(device)\n",
    "            outputs = classifier(images)\n",
    "            _, predicted = torch.max(outputs, 1)\n",
    "            total += labels.size(0)\n",
    "            correct += (predicted == labels).sum().item()\n",
    "\n",
    "    print(f'{label} Test Accuracy: {100 * correct / total:.2f}%')\n",
    "\n",
    "def train_model(classifier, optimizer, images, labels, criterion):\n",
    "    optimizer.zero_grad()\n",
    "    outputs = classifier(images)\n",
    "    loss = criterion(outputs, labels)\n",
    "    loss.backward()\n",
    "    optimizer.step()\n",
    "    return loss.item()"
   ]
  },
  {
   "cell_type": "code",
   "execution_count": 7,
   "metadata": {},
   "outputs": [
    {
     "name": "stderr",
     "output_type": "stream",
     "text": [
      "                                                                                                       \r"
     ]
    },
    {
     "name": "stdout",
     "output_type": "stream",
     "text": [
      "Epoch [1/300] Loss P3: 2.1219 Loss ResNet101: 2.2419\n",
      "Prototype3 Encoder Test Accuracy: 26.28%\n",
      "ResNet101 Test Accuracy: 30.98%\n"
     ]
    },
    {
     "name": "stderr",
     "output_type": "stream",
     "text": [
      "                                                                                                       \r"
     ]
    },
    {
     "name": "stdout",
     "output_type": "stream",
     "text": [
      "Epoch [2/300] Loss P3: 1.9068 Loss ResNet101: 1.9833\n",
      "Prototype3 Encoder Test Accuracy: 27.91%\n",
      "ResNet101 Test Accuracy: 35.51%\n"
     ]
    },
    {
     "name": "stderr",
     "output_type": "stream",
     "text": [
      "                                                                                                       \r"
     ]
    },
    {
     "name": "stdout",
     "output_type": "stream",
     "text": [
      "Epoch [3/300] Loss P3: 1.8096 Loss ResNet101: 1.8937\n",
      "Prototype3 Encoder Test Accuracy: 39.82%\n",
      "ResNet101 Test Accuracy: 35.65%\n"
     ]
    },
    {
     "name": "stderr",
     "output_type": "stream",
     "text": [
      "                                                                                                       \r"
     ]
    },
    {
     "name": "stdout",
     "output_type": "stream",
     "text": [
      "Epoch [4/300] Loss P3: 1.7258 Loss ResNet101: 1.9030\n",
      "Prototype3 Encoder Test Accuracy: 42.23%\n",
      "ResNet101 Test Accuracy: 42.29%\n"
     ]
    },
    {
     "name": "stderr",
     "output_type": "stream",
     "text": [
      "                                                                                                       \r"
     ]
    },
    {
     "name": "stdout",
     "output_type": "stream",
     "text": [
      "Epoch [5/300] Loss P3: 1.6511 Loss ResNet101: 1.7927\n",
      "Prototype3 Encoder Test Accuracy: 48.67%\n",
      "ResNet101 Test Accuracy: 45.18%\n"
     ]
    },
    {
     "name": "stderr",
     "output_type": "stream",
     "text": [
      "                                                                                                       \r"
     ]
    },
    {
     "name": "stdout",
     "output_type": "stream",
     "text": [
      "Epoch [6/300] Loss P3: 1.5774 Loss ResNet101: 1.7535\n",
      "Prototype3 Encoder Test Accuracy: 51.09%\n",
      "ResNet101 Test Accuracy: 45.00%\n"
     ]
    },
    {
     "name": "stderr",
     "output_type": "stream",
     "text": [
      "                                                                                                       \r"
     ]
    },
    {
     "name": "stdout",
     "output_type": "stream",
     "text": [
      "Epoch [7/300] Loss P3: 1.5105 Loss ResNet101: 1.7347\n",
      "Prototype3 Encoder Test Accuracy: 55.13%\n",
      "ResNet101 Test Accuracy: 44.58%\n"
     ]
    },
    {
     "name": "stderr",
     "output_type": "stream",
     "text": [
      "                                                                                                       \r"
     ]
    },
    {
     "name": "stdout",
     "output_type": "stream",
     "text": [
      "Epoch [8/300] Loss P3: 1.4575 Loss ResNet101: 1.6873\n",
      "Prototype3 Encoder Test Accuracy: 58.51%\n",
      "ResNet101 Test Accuracy: 50.60%\n"
     ]
    },
    {
     "name": "stderr",
     "output_type": "stream",
     "text": [
      "                                                                                                       \r"
     ]
    },
    {
     "name": "stdout",
     "output_type": "stream",
     "text": [
      "Epoch [9/300] Loss P3: 1.4085 Loss ResNet101: 1.7101\n",
      "Prototype3 Encoder Test Accuracy: 60.41%\n",
      "ResNet101 Test Accuracy: 46.03%\n"
     ]
    },
    {
     "name": "stderr",
     "output_type": "stream",
     "text": [
      "                                                                                                        \r"
     ]
    },
    {
     "name": "stdout",
     "output_type": "stream",
     "text": [
      "Epoch [10/300] Loss P3: 1.3646 Loss ResNet101: 1.7697\n",
      "Prototype3 Encoder Test Accuracy: 60.48%\n",
      "ResNet101 Test Accuracy: 45.25%\n"
     ]
    },
    {
     "name": "stderr",
     "output_type": "stream",
     "text": [
      "                                                                                                        \r"
     ]
    },
    {
     "name": "stdout",
     "output_type": "stream",
     "text": [
      "Epoch [11/300] Loss P3: 1.3191 Loss ResNet101: 1.8279\n",
      "Prototype3 Encoder Test Accuracy: 62.87%\n",
      "ResNet101 Test Accuracy: 38.21%\n"
     ]
    },
    {
     "name": "stderr",
     "output_type": "stream",
     "text": [
      "                                                                                                        \r"
     ]
    },
    {
     "name": "stdout",
     "output_type": "stream",
     "text": [
      "Epoch [12/300] Loss P3: 1.2896 Loss ResNet101: 1.7082\n",
      "Prototype3 Encoder Test Accuracy: 62.03%\n",
      "ResNet101 Test Accuracy: 46.86%\n"
     ]
    },
    {
     "name": "stderr",
     "output_type": "stream",
     "text": [
      "                                                                                                        \r"
     ]
    },
    {
     "name": "stdout",
     "output_type": "stream",
     "text": [
      "Epoch [13/300] Loss P3: 1.2537 Loss ResNet101: 1.5981\n",
      "Prototype3 Encoder Test Accuracy: 65.98%\n",
      "ResNet101 Test Accuracy: 50.73%\n"
     ]
    },
    {
     "name": "stderr",
     "output_type": "stream",
     "text": [
      "                                                                                                        \r"
     ]
    },
    {
     "name": "stdout",
     "output_type": "stream",
     "text": [
      "Epoch [14/300] Loss P3: 1.2222 Loss ResNet101: 1.5675\n",
      "Prototype3 Encoder Test Accuracy: 64.59%\n",
      "ResNet101 Test Accuracy: 54.55%\n"
     ]
    },
    {
     "name": "stderr",
     "output_type": "stream",
     "text": [
      "                                                                                                        "
     ]
    },
    {
     "name": "stdout",
     "output_type": "stream",
     "text": [
      "Epoch [15/300] Loss P3: 1.2053 Loss ResNet101: 1.6198\n"
     ]
    },
    {
     "name": "stderr",
     "output_type": "stream",
     "text": [
      "\r"
     ]
    },
    {
     "name": "stdout",
     "output_type": "stream",
     "text": [
      "Prototype3 Encoder Test Accuracy: 68.04%\n",
      "ResNet101 Test Accuracy: 47.44%\n"
     ]
    },
    {
     "name": "stderr",
     "output_type": "stream",
     "text": [
      "                                                                                                        \r"
     ]
    },
    {
     "name": "stdout",
     "output_type": "stream",
     "text": [
      "Epoch [16/300] Loss P3: 1.1797 Loss ResNet101: 1.5913\n",
      "Prototype3 Encoder Test Accuracy: 67.00%\n",
      "ResNet101 Test Accuracy: 55.26%\n"
     ]
    },
    {
     "name": "stderr",
     "output_type": "stream",
     "text": [
      "                                                                                                        \r"
     ]
    },
    {
     "name": "stdout",
     "output_type": "stream",
     "text": [
      "Epoch [17/300] Loss P3: 1.1501 Loss ResNet101: 1.4910\n",
      "Prototype3 Encoder Test Accuracy: 70.64%\n",
      "ResNet101 Test Accuracy: 54.43%\n"
     ]
    },
    {
     "name": "stderr",
     "output_type": "stream",
     "text": [
      "                                                                                                        \r"
     ]
    },
    {
     "name": "stdout",
     "output_type": "stream",
     "text": [
      "Epoch [18/300] Loss P3: 1.1257 Loss ResNet101: 1.5011\n",
      "Prototype3 Encoder Test Accuracy: 68.15%\n",
      "ResNet101 Test Accuracy: 51.79%\n"
     ]
    },
    {
     "name": "stderr",
     "output_type": "stream",
     "text": [
      "                                                                                                        \r"
     ]
    },
    {
     "name": "stdout",
     "output_type": "stream",
     "text": [
      "Epoch [19/300] Loss P3: 1.0995 Loss ResNet101: 1.4509\n",
      "Prototype3 Encoder Test Accuracy: 71.20%\n",
      "ResNet101 Test Accuracy: 59.61%\n"
     ]
    },
    {
     "name": "stderr",
     "output_type": "stream",
     "text": [
      "                                                                                                        \r"
     ]
    },
    {
     "name": "stdout",
     "output_type": "stream",
     "text": [
      "Epoch [20/300] Loss P3: 1.0796 Loss ResNet101: 1.4334\n",
      "Prototype3 Encoder Test Accuracy: 71.93%\n",
      "ResNet101 Test Accuracy: 57.64%\n"
     ]
    },
    {
     "name": "stderr",
     "output_type": "stream",
     "text": [
      "                                                                                                        \r"
     ]
    },
    {
     "name": "stdout",
     "output_type": "stream",
     "text": [
      "Epoch [21/300] Loss P3: 1.0584 Loss ResNet101: 1.4465\n",
      "Prototype3 Encoder Test Accuracy: 73.31%\n",
      "ResNet101 Test Accuracy: 59.23%\n"
     ]
    },
    {
     "name": "stderr",
     "output_type": "stream",
     "text": [
      "                                                                                                        \r"
     ]
    },
    {
     "name": "stdout",
     "output_type": "stream",
     "text": [
      "Epoch [22/300] Loss P3: 1.0434 Loss ResNet101: 1.3695\n",
      "Prototype3 Encoder Test Accuracy: 73.11%\n",
      "ResNet101 Test Accuracy: 61.50%\n"
     ]
    },
    {
     "name": "stderr",
     "output_type": "stream",
     "text": [
      "                                                                                                        \r"
     ]
    },
    {
     "name": "stdout",
     "output_type": "stream",
     "text": [
      "Epoch [23/300] Loss P3: 1.0373 Loss ResNet101: 1.3209\n",
      "Prototype3 Encoder Test Accuracy: 74.29%\n",
      "ResNet101 Test Accuracy: 61.81%\n"
     ]
    },
    {
     "name": "stderr",
     "output_type": "stream",
     "text": [
      "                                                                                                        \r"
     ]
    },
    {
     "name": "stdout",
     "output_type": "stream",
     "text": [
      "Epoch [24/300] Loss P3: 1.0145 Loss ResNet101: 1.3044\n",
      "Prototype3 Encoder Test Accuracy: 73.86%\n",
      "ResNet101 Test Accuracy: 64.78%\n"
     ]
    },
    {
     "name": "stderr",
     "output_type": "stream",
     "text": [
      "                                                                                                        \r"
     ]
    },
    {
     "name": "stdout",
     "output_type": "stream",
     "text": [
      "Epoch [25/300] Loss P3: 0.9962 Loss ResNet101: 1.2851\n",
      "Prototype3 Encoder Test Accuracy: 74.84%\n",
      "ResNet101 Test Accuracy: 63.39%\n"
     ]
    },
    {
     "name": "stderr",
     "output_type": "stream",
     "text": [
      "                                                                                                        \r"
     ]
    },
    {
     "name": "stdout",
     "output_type": "stream",
     "text": [
      "Epoch [26/300] Loss P3: 0.9815 Loss ResNet101: 1.3019\n",
      "Prototype3 Encoder Test Accuracy: 75.56%\n",
      "ResNet101 Test Accuracy: 63.19%\n"
     ]
    },
    {
     "name": "stderr",
     "output_type": "stream",
     "text": [
      "                                                                                                        \r"
     ]
    },
    {
     "name": "stdout",
     "output_type": "stream",
     "text": [
      "Epoch [27/300] Loss P3: 0.9743 Loss ResNet101: 1.2296\n",
      "Prototype3 Encoder Test Accuracy: 76.57%\n",
      "ResNet101 Test Accuracy: 65.91%\n"
     ]
    },
    {
     "name": "stderr",
     "output_type": "stream",
     "text": [
      "                                                                                                        \r"
     ]
    },
    {
     "name": "stdout",
     "output_type": "stream",
     "text": [
      "Epoch [28/300] Loss P3: 0.9547 Loss ResNet101: 1.2595\n",
      "Prototype3 Encoder Test Accuracy: 75.33%\n",
      "ResNet101 Test Accuracy: 65.67%\n"
     ]
    },
    {
     "name": "stderr",
     "output_type": "stream",
     "text": [
      "                                                                                                        \r"
     ]
    },
    {
     "name": "stdout",
     "output_type": "stream",
     "text": [
      "Epoch [29/300] Loss P3: 0.9444 Loss ResNet101: 1.3189\n",
      "Prototype3 Encoder Test Accuracy: 75.42%\n",
      "ResNet101 Test Accuracy: 66.14%\n"
     ]
    },
    {
     "name": "stderr",
     "output_type": "stream",
     "text": [
      "                                                                                                        \r"
     ]
    },
    {
     "name": "stdout",
     "output_type": "stream",
     "text": [
      "Epoch [30/300] Loss P3: 0.9389 Loss ResNet101: 1.2253\n",
      "Prototype3 Encoder Test Accuracy: 75.23%\n",
      "ResNet101 Test Accuracy: 69.77%\n"
     ]
    },
    {
     "name": "stderr",
     "output_type": "stream",
     "text": [
      "                                                                                                        \r"
     ]
    },
    {
     "name": "stdout",
     "output_type": "stream",
     "text": [
      "Epoch [31/300] Loss P3: 0.9245 Loss ResNet101: 1.2200\n",
      "Prototype3 Encoder Test Accuracy: 77.81%\n",
      "ResNet101 Test Accuracy: 67.37%\n"
     ]
    },
    {
     "name": "stderr",
     "output_type": "stream",
     "text": [
      "                                                                                                        \r"
     ]
    },
    {
     "name": "stdout",
     "output_type": "stream",
     "text": [
      "Epoch [32/300] Loss P3: 0.9123 Loss ResNet101: 1.2093\n",
      "Prototype3 Encoder Test Accuracy: 77.29%\n",
      "ResNet101 Test Accuracy: 66.30%\n"
     ]
    },
    {
     "name": "stderr",
     "output_type": "stream",
     "text": [
      "                                                                                                        \r"
     ]
    },
    {
     "name": "stdout",
     "output_type": "stream",
     "text": [
      "Epoch [33/300] Loss P3: 0.8901 Loss ResNet101: 1.2028\n",
      "Prototype3 Encoder Test Accuracy: 76.69%\n",
      "ResNet101 Test Accuracy: 67.80%\n"
     ]
    },
    {
     "name": "stderr",
     "output_type": "stream",
     "text": [
      "                                                                                                        \r"
     ]
    },
    {
     "name": "stdout",
     "output_type": "stream",
     "text": [
      "Epoch [34/300] Loss P3: 0.8962 Loss ResNet101: 1.1645\n",
      "Prototype3 Encoder Test Accuracy: 78.00%\n",
      "ResNet101 Test Accuracy: 70.56%\n"
     ]
    },
    {
     "name": "stderr",
     "output_type": "stream",
     "text": [
      "                                                                                                        \r"
     ]
    },
    {
     "name": "stdout",
     "output_type": "stream",
     "text": [
      "Epoch [35/300] Loss P3: 0.8745 Loss ResNet101: 1.1256\n",
      "Prototype3 Encoder Test Accuracy: 77.92%\n",
      "ResNet101 Test Accuracy: 70.27%\n"
     ]
    },
    {
     "name": "stderr",
     "output_type": "stream",
     "text": [
      "                                                                                                        \r"
     ]
    },
    {
     "name": "stdout",
     "output_type": "stream",
     "text": [
      "Epoch [36/300] Loss P3: 0.8609 Loss ResNet101: 1.1171\n",
      "Prototype3 Encoder Test Accuracy: 78.67%\n",
      "ResNet101 Test Accuracy: 70.97%\n"
     ]
    },
    {
     "name": "stderr",
     "output_type": "stream",
     "text": [
      "                                                                                                        \r"
     ]
    },
    {
     "name": "stdout",
     "output_type": "stream",
     "text": [
      "Epoch [37/300] Loss P3: 0.8562 Loss ResNet101: 1.0981\n",
      "Prototype3 Encoder Test Accuracy: 79.12%\n",
      "ResNet101 Test Accuracy: 73.25%\n"
     ]
    },
    {
     "name": "stderr",
     "output_type": "stream",
     "text": [
      "                                                                                                        \r"
     ]
    },
    {
     "name": "stdout",
     "output_type": "stream",
     "text": [
      "Epoch [38/300] Loss P3: 0.8468 Loss ResNet101: 1.0858\n",
      "Prototype3 Encoder Test Accuracy: 76.94%\n",
      "ResNet101 Test Accuracy: 71.40%\n"
     ]
    },
    {
     "name": "stderr",
     "output_type": "stream",
     "text": [
      "                                                                                                        \r"
     ]
    },
    {
     "name": "stdout",
     "output_type": "stream",
     "text": [
      "Epoch [39/300] Loss P3: 0.8392 Loss ResNet101: 1.0637\n",
      "Prototype3 Encoder Test Accuracy: 78.76%\n",
      "ResNet101 Test Accuracy: 73.83%\n"
     ]
    },
    {
     "name": "stderr",
     "output_type": "stream",
     "text": [
      "                                                                                                        \r"
     ]
    },
    {
     "name": "stdout",
     "output_type": "stream",
     "text": [
      "Epoch [40/300] Loss P3: 0.8383 Loss ResNet101: 1.1608\n",
      "Prototype3 Encoder Test Accuracy: 79.82%\n",
      "ResNet101 Test Accuracy: 67.63%\n"
     ]
    },
    {
     "name": "stderr",
     "output_type": "stream",
     "text": [
      "                                                                                                        \r"
     ]
    },
    {
     "name": "stdout",
     "output_type": "stream",
     "text": [
      "Epoch [41/300] Loss P3: 0.8186 Loss ResNet101: 1.3106\n",
      "Prototype3 Encoder Test Accuracy: 79.76%\n",
      "ResNet101 Test Accuracy: 69.78%\n"
     ]
    },
    {
     "name": "stderr",
     "output_type": "stream",
     "text": [
      "                                                                                                        \r"
     ]
    },
    {
     "name": "stdout",
     "output_type": "stream",
     "text": [
      "Epoch [42/300] Loss P3: 0.8179 Loss ResNet101: 1.1677\n",
      "Prototype3 Encoder Test Accuracy: 80.23%\n",
      "ResNet101 Test Accuracy: 71.33%\n"
     ]
    },
    {
     "name": "stderr",
     "output_type": "stream",
     "text": [
      "                                                                                                        \r"
     ]
    },
    {
     "name": "stdout",
     "output_type": "stream",
     "text": [
      "Epoch [43/300] Loss P3: 0.8052 Loss ResNet101: 1.3867\n",
      "Prototype3 Encoder Test Accuracy: 79.62%\n",
      "ResNet101 Test Accuracy: 49.58%\n"
     ]
    },
    {
     "name": "stderr",
     "output_type": "stream",
     "text": [
      "                                                                                                        \r"
     ]
    },
    {
     "name": "stdout",
     "output_type": "stream",
     "text": [
      "Epoch [44/300] Loss P3: 0.8035 Loss ResNet101: 1.3377\n",
      "Prototype3 Encoder Test Accuracy: 76.42%\n",
      "ResNet101 Test Accuracy: 70.17%\n"
     ]
    },
    {
     "name": "stderr",
     "output_type": "stream",
     "text": [
      "                                                                                                        \r"
     ]
    },
    {
     "name": "stdout",
     "output_type": "stream",
     "text": [
      "Epoch [45/300] Loss P3: 0.7919 Loss ResNet101: 1.1613\n",
      "Prototype3 Encoder Test Accuracy: 79.15%\n",
      "ResNet101 Test Accuracy: 70.14%\n"
     ]
    },
    {
     "name": "stderr",
     "output_type": "stream",
     "text": [
      "                                                                                                        \r"
     ]
    },
    {
     "name": "stdout",
     "output_type": "stream",
     "text": [
      "Epoch [46/300] Loss P3: 0.7858 Loss ResNet101: 1.0795\n",
      "Prototype3 Encoder Test Accuracy: 80.10%\n",
      "ResNet101 Test Accuracy: 72.65%\n"
     ]
    },
    {
     "name": "stderr",
     "output_type": "stream",
     "text": [
      "                                                                                                        \r"
     ]
    },
    {
     "name": "stdout",
     "output_type": "stream",
     "text": [
      "Epoch [47/300] Loss P3: 0.7810 Loss ResNet101: 1.1440\n",
      "Prototype3 Encoder Test Accuracy: 80.60%\n",
      "ResNet101 Test Accuracy: 71.05%\n"
     ]
    },
    {
     "name": "stderr",
     "output_type": "stream",
     "text": [
      "                                                                                                        \r"
     ]
    },
    {
     "name": "stdout",
     "output_type": "stream",
     "text": [
      "Epoch [48/300] Loss P3: 0.7731 Loss ResNet101: 1.0419\n",
      "Prototype3 Encoder Test Accuracy: 81.06%\n",
      "ResNet101 Test Accuracy: 72.11%\n"
     ]
    },
    {
     "name": "stderr",
     "output_type": "stream",
     "text": [
      "                                                                                                        \r"
     ]
    },
    {
     "name": "stdout",
     "output_type": "stream",
     "text": [
      "Epoch [49/300] Loss P3: 0.7609 Loss ResNet101: 0.9868\n",
      "Prototype3 Encoder Test Accuracy: 81.19%\n",
      "ResNet101 Test Accuracy: 75.31%\n"
     ]
    },
    {
     "name": "stderr",
     "output_type": "stream",
     "text": [
      "                                                                                                        \r"
     ]
    },
    {
     "name": "stdout",
     "output_type": "stream",
     "text": [
      "Epoch [50/300] Loss P3: 0.7497 Loss ResNet101: 0.9863\n",
      "Prototype3 Encoder Test Accuracy: 80.08%\n",
      "ResNet101 Test Accuracy: 54.11%\n"
     ]
    },
    {
     "name": "stderr",
     "output_type": "stream",
     "text": [
      "                                                                                                        \r"
     ]
    },
    {
     "name": "stdout",
     "output_type": "stream",
     "text": [
      "Epoch [51/300] Loss P3: 0.7499 Loss ResNet101: 1.2628\n",
      "Prototype3 Encoder Test Accuracy: 81.78%\n",
      "ResNet101 Test Accuracy: 73.10%\n"
     ]
    },
    {
     "name": "stderr",
     "output_type": "stream",
     "text": [
      "                                                                                                        \r"
     ]
    },
    {
     "name": "stdout",
     "output_type": "stream",
     "text": [
      "Epoch [52/300] Loss P3: 0.7356 Loss ResNet101: 1.2120\n",
      "Prototype3 Encoder Test Accuracy: 81.33%\n",
      "ResNet101 Test Accuracy: 68.84%\n"
     ]
    },
    {
     "name": "stderr",
     "output_type": "stream",
     "text": [
      "                                                                                                        \r"
     ]
    },
    {
     "name": "stdout",
     "output_type": "stream",
     "text": [
      "Epoch [53/300] Loss P3: 0.7291 Loss ResNet101: 1.0977\n",
      "Prototype3 Encoder Test Accuracy: 81.94%\n",
      "ResNet101 Test Accuracy: 72.40%\n"
     ]
    },
    {
     "name": "stderr",
     "output_type": "stream",
     "text": [
      "                                                                                                        \r"
     ]
    },
    {
     "name": "stdout",
     "output_type": "stream",
     "text": [
      "Epoch [54/300] Loss P3: 0.7215 Loss ResNet101: 1.0181\n",
      "Prototype3 Encoder Test Accuracy: 80.43%\n",
      "ResNet101 Test Accuracy: 73.40%\n"
     ]
    },
    {
     "name": "stderr",
     "output_type": "stream",
     "text": [
      "                                                                                                        \r"
     ]
    },
    {
     "name": "stdout",
     "output_type": "stream",
     "text": [
      "Epoch [55/300] Loss P3: 0.7144 Loss ResNet101: 0.9810\n",
      "Prototype3 Encoder Test Accuracy: 81.98%\n",
      "ResNet101 Test Accuracy: 75.18%\n"
     ]
    },
    {
     "name": "stderr",
     "output_type": "stream",
     "text": [
      "                                                                                                        \r"
     ]
    },
    {
     "name": "stdout",
     "output_type": "stream",
     "text": [
      "Epoch [56/300] Loss P3: 0.7060 Loss ResNet101: 0.9603\n",
      "Prototype3 Encoder Test Accuracy: 82.00%\n",
      "ResNet101 Test Accuracy: 75.99%\n"
     ]
    },
    {
     "name": "stderr",
     "output_type": "stream",
     "text": [
      "                                                                                                        \r"
     ]
    },
    {
     "name": "stdout",
     "output_type": "stream",
     "text": [
      "Epoch [57/300] Loss P3: 0.6942 Loss ResNet101: 0.9506\n",
      "Prototype3 Encoder Test Accuracy: 81.83%\n",
      "ResNet101 Test Accuracy: 69.14%\n"
     ]
    },
    {
     "name": "stderr",
     "output_type": "stream",
     "text": [
      "                                                                                                        \r"
     ]
    },
    {
     "name": "stdout",
     "output_type": "stream",
     "text": [
      "Epoch [58/300] Loss P3: 0.6913 Loss ResNet101: 1.0959\n",
      "Prototype3 Encoder Test Accuracy: 83.06%\n",
      "ResNet101 Test Accuracy: 71.51%\n"
     ]
    },
    {
     "name": "stderr",
     "output_type": "stream",
     "text": [
      "                                                                                                        \r"
     ]
    },
    {
     "name": "stdout",
     "output_type": "stream",
     "text": [
      "Epoch [59/300] Loss P3: 0.6863 Loss ResNet101: 0.9482\n",
      "Prototype3 Encoder Test Accuracy: 81.53%\n",
      "ResNet101 Test Accuracy: 74.42%\n"
     ]
    },
    {
     "name": "stderr",
     "output_type": "stream",
     "text": [
      "                                                                                                        \r"
     ]
    },
    {
     "name": "stdout",
     "output_type": "stream",
     "text": [
      "Epoch [60/300] Loss P3: 0.6725 Loss ResNet101: 1.0121\n",
      "Prototype3 Encoder Test Accuracy: 82.66%\n",
      "ResNet101 Test Accuracy: 77.11%\n"
     ]
    },
    {
     "name": "stderr",
     "output_type": "stream",
     "text": [
      "                                                                                                        \r"
     ]
    },
    {
     "name": "stdout",
     "output_type": "stream",
     "text": [
      "Epoch [61/300] Loss P3: 0.6688 Loss ResNet101: 0.9453\n",
      "Prototype3 Encoder Test Accuracy: 82.28%\n",
      "ResNet101 Test Accuracy: 75.96%\n"
     ]
    },
    {
     "name": "stderr",
     "output_type": "stream",
     "text": [
      "                                                                                                        \r"
     ]
    },
    {
     "name": "stdout",
     "output_type": "stream",
     "text": [
      "Epoch [62/300] Loss P3: 0.6541 Loss ResNet101: 0.9006\n",
      "Prototype3 Encoder Test Accuracy: 82.73%\n",
      "ResNet101 Test Accuracy: 77.56%\n"
     ]
    },
    {
     "name": "stderr",
     "output_type": "stream",
     "text": [
      "                                                                                                        \r"
     ]
    },
    {
     "name": "stdout",
     "output_type": "stream",
     "text": [
      "Epoch [63/300] Loss P3: 0.6520 Loss ResNet101: 0.8868\n",
      "Prototype3 Encoder Test Accuracy: 82.92%\n",
      "ResNet101 Test Accuracy: 77.44%\n"
     ]
    },
    {
     "name": "stderr",
     "output_type": "stream",
     "text": [
      "                                                                                                        \r"
     ]
    },
    {
     "name": "stdout",
     "output_type": "stream",
     "text": [
      "Epoch [64/300] Loss P3: 0.6412 Loss ResNet101: 0.8653\n",
      "Prototype3 Encoder Test Accuracy: 82.49%\n",
      "ResNet101 Test Accuracy: 77.29%\n"
     ]
    },
    {
     "name": "stderr",
     "output_type": "stream",
     "text": [
      "                                                                                                        \r"
     ]
    },
    {
     "name": "stdout",
     "output_type": "stream",
     "text": [
      "Epoch [65/300] Loss P3: 0.6434 Loss ResNet101: 0.8543\n",
      "Prototype3 Encoder Test Accuracy: 83.66%\n",
      "ResNet101 Test Accuracy: 78.78%\n"
     ]
    },
    {
     "name": "stderr",
     "output_type": "stream",
     "text": [
      "                                                                                                        \r"
     ]
    },
    {
     "name": "stdout",
     "output_type": "stream",
     "text": [
      "Epoch [66/300] Loss P3: 0.6340 Loss ResNet101: 0.8462\n",
      "Prototype3 Encoder Test Accuracy: 81.76%\n",
      "ResNet101 Test Accuracy: 77.16%\n"
     ]
    },
    {
     "name": "stderr",
     "output_type": "stream",
     "text": [
      "                                                                                                        \r"
     ]
    },
    {
     "name": "stdout",
     "output_type": "stream",
     "text": [
      "Epoch [67/300] Loss P3: 0.6308 Loss ResNet101: 0.8383\n",
      "Prototype3 Encoder Test Accuracy: 82.61%\n",
      "ResNet101 Test Accuracy: 78.85%\n"
     ]
    },
    {
     "name": "stderr",
     "output_type": "stream",
     "text": [
      "                                                                                                        \r"
     ]
    },
    {
     "name": "stdout",
     "output_type": "stream",
     "text": [
      "Epoch [68/300] Loss P3: 0.6249 Loss ResNet101: 0.8352\n",
      "Prototype3 Encoder Test Accuracy: 83.27%\n",
      "ResNet101 Test Accuracy: 79.11%\n"
     ]
    },
    {
     "name": "stderr",
     "output_type": "stream",
     "text": [
      "                                                                                                        \r"
     ]
    },
    {
     "name": "stdout",
     "output_type": "stream",
     "text": [
      "Epoch [69/300] Loss P3: 0.6091 Loss ResNet101: 0.8102\n",
      "Prototype3 Encoder Test Accuracy: 83.57%\n",
      "ResNet101 Test Accuracy: 79.70%\n"
     ]
    },
    {
     "name": "stderr",
     "output_type": "stream",
     "text": [
      "                                                                                                        \r"
     ]
    },
    {
     "name": "stdout",
     "output_type": "stream",
     "text": [
      "Epoch [70/300] Loss P3: 0.6143 Loss ResNet101: 0.8137\n",
      "Prototype3 Encoder Test Accuracy: 82.66%\n",
      "ResNet101 Test Accuracy: 78.30%\n"
     ]
    },
    {
     "name": "stderr",
     "output_type": "stream",
     "text": [
      "                                                                                                        \r"
     ]
    },
    {
     "name": "stdout",
     "output_type": "stream",
     "text": [
      "Epoch [71/300] Loss P3: 0.6138 Loss ResNet101: 0.8057\n",
      "Prototype3 Encoder Test Accuracy: 82.48%\n",
      "ResNet101 Test Accuracy: 78.44%\n"
     ]
    },
    {
     "name": "stderr",
     "output_type": "stream",
     "text": [
      "                                                                                                        \r"
     ]
    },
    {
     "name": "stdout",
     "output_type": "stream",
     "text": [
      "Epoch [72/300] Loss P3: 0.6003 Loss ResNet101: 0.8014\n",
      "Prototype3 Encoder Test Accuracy: 83.52%\n",
      "ResNet101 Test Accuracy: 79.73%\n"
     ]
    },
    {
     "name": "stderr",
     "output_type": "stream",
     "text": [
      "                                                                                                        \r"
     ]
    },
    {
     "name": "stdout",
     "output_type": "stream",
     "text": [
      "Epoch [73/300] Loss P3: 0.6016 Loss ResNet101: 0.7946\n",
      "Prototype3 Encoder Test Accuracy: 83.53%\n",
      "ResNet101 Test Accuracy: 79.59%\n"
     ]
    },
    {
     "name": "stderr",
     "output_type": "stream",
     "text": [
      "                                                                                                        \r"
     ]
    },
    {
     "name": "stdout",
     "output_type": "stream",
     "text": [
      "Epoch [74/300] Loss P3: 0.6007 Loss ResNet101: 0.7855\n",
      "Prototype3 Encoder Test Accuracy: 83.57%\n",
      "ResNet101 Test Accuracy: 80.37%\n"
     ]
    },
    {
     "name": "stderr",
     "output_type": "stream",
     "text": [
      "                                                                                                        \r"
     ]
    },
    {
     "name": "stdout",
     "output_type": "stream",
     "text": [
      "Epoch [75/300] Loss P3: 0.5842 Loss ResNet101: 0.7755\n",
      "Prototype3 Encoder Test Accuracy: 83.74%\n",
      "ResNet101 Test Accuracy: 80.24%\n"
     ]
    },
    {
     "name": "stderr",
     "output_type": "stream",
     "text": [
      "                                                                                                        \r"
     ]
    },
    {
     "name": "stdout",
     "output_type": "stream",
     "text": [
      "Epoch [76/300] Loss P3: 0.5878 Loss ResNet101: 0.7723\n",
      "Prototype3 Encoder Test Accuracy: 84.24%\n",
      "ResNet101 Test Accuracy: 80.04%\n"
     ]
    },
    {
     "name": "stderr",
     "output_type": "stream",
     "text": [
      "                                                                                                        \r"
     ]
    },
    {
     "name": "stdout",
     "output_type": "stream",
     "text": [
      "Epoch [77/300] Loss P3: 0.5821 Loss ResNet101: 0.7654\n",
      "Prototype3 Encoder Test Accuracy: 83.66%\n",
      "ResNet101 Test Accuracy: 79.69%\n"
     ]
    },
    {
     "name": "stderr",
     "output_type": "stream",
     "text": [
      "                                                                                                        \r"
     ]
    },
    {
     "name": "stdout",
     "output_type": "stream",
     "text": [
      "Epoch [78/300] Loss P3: 0.5774 Loss ResNet101: 0.7594\n",
      "Prototype3 Encoder Test Accuracy: 84.25%\n",
      "ResNet101 Test Accuracy: 80.45%\n"
     ]
    },
    {
     "name": "stderr",
     "output_type": "stream",
     "text": [
      "                                                                                                        \r"
     ]
    },
    {
     "name": "stdout",
     "output_type": "stream",
     "text": [
      "Epoch [79/300] Loss P3: 0.5725 Loss ResNet101: 0.7523\n",
      "Prototype3 Encoder Test Accuracy: 83.86%\n",
      "ResNet101 Test Accuracy: 80.34%\n"
     ]
    },
    {
     "name": "stderr",
     "output_type": "stream",
     "text": [
      "                                                                                                        \r"
     ]
    },
    {
     "name": "stdout",
     "output_type": "stream",
     "text": [
      "Epoch [80/300] Loss P3: 0.5716 Loss ResNet101: 0.7434\n",
      "Prototype3 Encoder Test Accuracy: 84.18%\n",
      "ResNet101 Test Accuracy: 80.22%\n"
     ]
    },
    {
     "name": "stderr",
     "output_type": "stream",
     "text": [
      "                                                                                                        \r"
     ]
    },
    {
     "name": "stdout",
     "output_type": "stream",
     "text": [
      "Epoch [81/300] Loss P3: 0.5627 Loss ResNet101: 0.7312\n",
      "Prototype3 Encoder Test Accuracy: 84.47%\n",
      "ResNet101 Test Accuracy: 81.21%\n"
     ]
    },
    {
     "name": "stderr",
     "output_type": "stream",
     "text": [
      "                                                                                                        \r"
     ]
    },
    {
     "name": "stdout",
     "output_type": "stream",
     "text": [
      "Epoch [82/300] Loss P3: 0.5632 Loss ResNet101: 0.7314\n",
      "Prototype3 Encoder Test Accuracy: 84.58%\n",
      "ResNet101 Test Accuracy: 81.43%\n"
     ]
    },
    {
     "name": "stderr",
     "output_type": "stream",
     "text": [
      "                                                                                                        \r"
     ]
    },
    {
     "name": "stdout",
     "output_type": "stream",
     "text": [
      "Epoch [83/300] Loss P3: 0.5545 Loss ResNet101: 0.7167\n",
      "Prototype3 Encoder Test Accuracy: 84.76%\n",
      "ResNet101 Test Accuracy: 80.31%\n"
     ]
    },
    {
     "name": "stderr",
     "output_type": "stream",
     "text": [
      "                                                                                                        \r"
     ]
    },
    {
     "name": "stdout",
     "output_type": "stream",
     "text": [
      "Epoch [84/300] Loss P3: 0.5562 Loss ResNet101: 0.7175\n",
      "Prototype3 Encoder Test Accuracy: 84.18%\n",
      "ResNet101 Test Accuracy: 81.11%\n"
     ]
    },
    {
     "name": "stderr",
     "output_type": "stream",
     "text": [
      "                                                                                                        \r"
     ]
    },
    {
     "name": "stdout",
     "output_type": "stream",
     "text": [
      "Epoch [85/300] Loss P3: 0.5518 Loss ResNet101: 0.7067\n",
      "Prototype3 Encoder Test Accuracy: 84.54%\n",
      "ResNet101 Test Accuracy: 81.03%\n"
     ]
    },
    {
     "name": "stderr",
     "output_type": "stream",
     "text": [
      "                                                                                                        \r"
     ]
    },
    {
     "name": "stdout",
     "output_type": "stream",
     "text": [
      "Epoch [86/300] Loss P3: 0.5450 Loss ResNet101: 0.7072\n",
      "Prototype3 Encoder Test Accuracy: 84.80%\n",
      "ResNet101 Test Accuracy: 80.81%\n"
     ]
    },
    {
     "name": "stderr",
     "output_type": "stream",
     "text": [
      "                                                                                                        \r"
     ]
    },
    {
     "name": "stdout",
     "output_type": "stream",
     "text": [
      "Epoch [87/300] Loss P3: 0.5466 Loss ResNet101: 0.7099\n",
      "Prototype3 Encoder Test Accuracy: 84.15%\n",
      "ResNet101 Test Accuracy: 81.58%\n"
     ]
    },
    {
     "name": "stderr",
     "output_type": "stream",
     "text": [
      "                                                                                                        \r"
     ]
    },
    {
     "name": "stdout",
     "output_type": "stream",
     "text": [
      "Epoch [88/300] Loss P3: 0.5402 Loss ResNet101: 0.6925\n",
      "Prototype3 Encoder Test Accuracy: 84.22%\n",
      "ResNet101 Test Accuracy: 79.04%\n"
     ]
    },
    {
     "name": "stderr",
     "output_type": "stream",
     "text": [
      "                                                                                                        \r"
     ]
    },
    {
     "name": "stdout",
     "output_type": "stream",
     "text": [
      "Epoch [89/300] Loss P3: 0.5288 Loss ResNet101: 0.6899\n",
      "Prototype3 Encoder Test Accuracy: 85.25%\n",
      "ResNet101 Test Accuracy: 81.00%\n"
     ]
    },
    {
     "name": "stderr",
     "output_type": "stream",
     "text": [
      "                                                                                                        \r"
     ]
    },
    {
     "name": "stdout",
     "output_type": "stream",
     "text": [
      "Epoch [90/300] Loss P3: 0.5361 Loss ResNet101: 0.6799\n",
      "Prototype3 Encoder Test Accuracy: 85.36%\n",
      "ResNet101 Test Accuracy: 81.90%\n"
     ]
    },
    {
     "name": "stderr",
     "output_type": "stream",
     "text": [
      "                                                                                                        \r"
     ]
    },
    {
     "name": "stdout",
     "output_type": "stream",
     "text": [
      "Epoch [91/300] Loss P3: 0.5313 Loss ResNet101: 0.6800\n",
      "Prototype3 Encoder Test Accuracy: 85.20%\n",
      "ResNet101 Test Accuracy: 81.53%\n"
     ]
    },
    {
     "name": "stderr",
     "output_type": "stream",
     "text": [
      "                                                                                                        \r"
     ]
    },
    {
     "name": "stdout",
     "output_type": "stream",
     "text": [
      "Epoch [92/300] Loss P3: 0.5319 Loss ResNet101: 0.6723\n",
      "Prototype3 Encoder Test Accuracy: 84.43%\n",
      "ResNet101 Test Accuracy: 81.52%\n"
     ]
    },
    {
     "name": "stderr",
     "output_type": "stream",
     "text": [
      "                                                                                                        \r"
     ]
    },
    {
     "name": "stdout",
     "output_type": "stream",
     "text": [
      "Epoch [93/300] Loss P3: 0.5230 Loss ResNet101: 0.6753\n",
      "Prototype3 Encoder Test Accuracy: 84.89%\n",
      "ResNet101 Test Accuracy: 81.97%\n"
     ]
    },
    {
     "name": "stderr",
     "output_type": "stream",
     "text": [
      "                                                                                                        \r"
     ]
    },
    {
     "name": "stdout",
     "output_type": "stream",
     "text": [
      "Epoch [94/300] Loss P3: 0.5227 Loss ResNet101: 0.6594\n",
      "Prototype3 Encoder Test Accuracy: 84.81%\n",
      "ResNet101 Test Accuracy: 81.47%\n"
     ]
    },
    {
     "name": "stderr",
     "output_type": "stream",
     "text": [
      "                                                                                                        \r"
     ]
    },
    {
     "name": "stdout",
     "output_type": "stream",
     "text": [
      "Epoch [95/300] Loss P3: 0.5146 Loss ResNet101: 0.6532\n",
      "Prototype3 Encoder Test Accuracy: 84.68%\n",
      "ResNet101 Test Accuracy: 82.22%\n"
     ]
    },
    {
     "name": "stderr",
     "output_type": "stream",
     "text": [
      "                                                                                                        \r"
     ]
    },
    {
     "name": "stdout",
     "output_type": "stream",
     "text": [
      "Epoch [96/300] Loss P3: 0.5212 Loss ResNet101: 0.6535\n",
      "Prototype3 Encoder Test Accuracy: 84.95%\n",
      "ResNet101 Test Accuracy: 82.16%\n"
     ]
    },
    {
     "name": "stderr",
     "output_type": "stream",
     "text": [
      "                                                                                                        \r"
     ]
    },
    {
     "name": "stdout",
     "output_type": "stream",
     "text": [
      "Epoch [97/300] Loss P3: 0.5227 Loss ResNet101: 0.6447\n",
      "Prototype3 Encoder Test Accuracy: 84.96%\n",
      "ResNet101 Test Accuracy: 82.29%\n"
     ]
    },
    {
     "name": "stderr",
     "output_type": "stream",
     "text": [
      "                                                                                                        \r"
     ]
    },
    {
     "name": "stdout",
     "output_type": "stream",
     "text": [
      "Epoch [98/300] Loss P3: 0.5114 Loss ResNet101: 0.6418\n",
      "Prototype3 Encoder Test Accuracy: 85.26%\n",
      "ResNet101 Test Accuracy: 82.67%\n"
     ]
    },
    {
     "name": "stderr",
     "output_type": "stream",
     "text": [
      "                                                                                                        \r"
     ]
    },
    {
     "name": "stdout",
     "output_type": "stream",
     "text": [
      "Epoch [99/300] Loss P3: 0.5023 Loss ResNet101: 0.6355\n",
      "Prototype3 Encoder Test Accuracy: 84.92%\n",
      "ResNet101 Test Accuracy: 82.16%\n"
     ]
    },
    {
     "name": "stderr",
     "output_type": "stream",
     "text": [
      "                                                                                                         \r"
     ]
    },
    {
     "name": "stdout",
     "output_type": "stream",
     "text": [
      "Epoch [100/300] Loss P3: 0.4980 Loss ResNet101: 0.6278\n",
      "Prototype3 Encoder Test Accuracy: 85.24%\n",
      "ResNet101 Test Accuracy: 81.99%\n"
     ]
    },
    {
     "name": "stderr",
     "output_type": "stream",
     "text": [
      "                                                                                                         \r"
     ]
    },
    {
     "name": "stdout",
     "output_type": "stream",
     "text": [
      "Epoch [101/300] Loss P3: 0.4946 Loss ResNet101: 0.6284\n",
      "Prototype3 Encoder Test Accuracy: 84.96%\n",
      "ResNet101 Test Accuracy: 82.42%\n"
     ]
    },
    {
     "name": "stderr",
     "output_type": "stream",
     "text": [
      "                                                                                                         \r"
     ]
    },
    {
     "name": "stdout",
     "output_type": "stream",
     "text": [
      "Epoch [102/300] Loss P3: 0.4983 Loss ResNet101: 0.6311\n",
      "Prototype3 Encoder Test Accuracy: 85.10%\n",
      "ResNet101 Test Accuracy: 82.78%\n"
     ]
    },
    {
     "name": "stderr",
     "output_type": "stream",
     "text": [
      "                                                                                                         \r"
     ]
    },
    {
     "name": "stdout",
     "output_type": "stream",
     "text": [
      "Epoch [103/300] Loss P3: 0.4958 Loss ResNet101: 0.9476\n",
      "Prototype3 Encoder Test Accuracy: 85.44%\n",
      "ResNet101 Test Accuracy: 79.54%\n"
     ]
    },
    {
     "name": "stderr",
     "output_type": "stream",
     "text": [
      "                                                                                                         \r"
     ]
    },
    {
     "name": "stdout",
     "output_type": "stream",
     "text": [
      "Epoch [104/300] Loss P3: 0.4881 Loss ResNet101: 0.7558\n",
      "Prototype3 Encoder Test Accuracy: 85.20%\n",
      "ResNet101 Test Accuracy: 81.33%\n"
     ]
    },
    {
     "name": "stderr",
     "output_type": "stream",
     "text": [
      "                                                                                                         \r"
     ]
    },
    {
     "name": "stdout",
     "output_type": "stream",
     "text": [
      "Epoch [105/300] Loss P3: 0.4818 Loss ResNet101: 0.6720\n",
      "Prototype3 Encoder Test Accuracy: 85.69%\n",
      "ResNet101 Test Accuracy: 82.20%\n"
     ]
    },
    {
     "name": "stderr",
     "output_type": "stream",
     "text": [
      "                                                                                                         \r"
     ]
    },
    {
     "name": "stdout",
     "output_type": "stream",
     "text": [
      "Epoch [106/300] Loss P3: 0.4890 Loss ResNet101: 0.7129\n",
      "Prototype3 Encoder Test Accuracy: 85.77%\n",
      "ResNet101 Test Accuracy: 77.67%\n"
     ]
    },
    {
     "name": "stderr",
     "output_type": "stream",
     "text": [
      "                                                                                                         \r"
     ]
    },
    {
     "name": "stdout",
     "output_type": "stream",
     "text": [
      "Epoch [107/300] Loss P3: 0.4843 Loss ResNet101: 0.7316\n",
      "Prototype3 Encoder Test Accuracy: 85.62%\n",
      "ResNet101 Test Accuracy: 82.18%\n"
     ]
    },
    {
     "name": "stderr",
     "output_type": "stream",
     "text": [
      "                                                                                                         \r"
     ]
    },
    {
     "name": "stdout",
     "output_type": "stream",
     "text": [
      "Epoch [108/300] Loss P3: 0.4792 Loss ResNet101: 0.6398\n",
      "Prototype3 Encoder Test Accuracy: 85.20%\n",
      "ResNet101 Test Accuracy: 82.79%\n"
     ]
    },
    {
     "name": "stderr",
     "output_type": "stream",
     "text": [
      "                                                                                                         \r"
     ]
    },
    {
     "name": "stdout",
     "output_type": "stream",
     "text": [
      "Epoch [109/300] Loss P3: 0.4767 Loss ResNet101: 0.6220\n",
      "Prototype3 Encoder Test Accuracy: 85.39%\n",
      "ResNet101 Test Accuracy: 83.28%\n"
     ]
    },
    {
     "name": "stderr",
     "output_type": "stream",
     "text": [
      "                                                                                                         \r"
     ]
    },
    {
     "name": "stdout",
     "output_type": "stream",
     "text": [
      "Epoch [110/300] Loss P3: 0.4754 Loss ResNet101: 0.6034\n",
      "Prototype3 Encoder Test Accuracy: 85.75%\n",
      "ResNet101 Test Accuracy: 83.67%\n"
     ]
    },
    {
     "name": "stderr",
     "output_type": "stream",
     "text": [
      "                                                                                                         \r"
     ]
    },
    {
     "name": "stdout",
     "output_type": "stream",
     "text": [
      "Epoch [111/300] Loss P3: 0.4707 Loss ResNet101: 0.6052\n",
      "Prototype3 Encoder Test Accuracy: 85.76%\n",
      "ResNet101 Test Accuracy: 82.73%\n"
     ]
    },
    {
     "name": "stderr",
     "output_type": "stream",
     "text": [
      "                                                                                                         \r"
     ]
    },
    {
     "name": "stdout",
     "output_type": "stream",
     "text": [
      "Epoch [112/300] Loss P3: 0.4921 Loss ResNet101: 0.5851\n",
      "Prototype3 Encoder Test Accuracy: 83.23%\n",
      "ResNet101 Test Accuracy: 83.19%\n"
     ]
    },
    {
     "name": "stderr",
     "output_type": "stream",
     "text": [
      "                                                                                                         \r"
     ]
    },
    {
     "name": "stdout",
     "output_type": "stream",
     "text": [
      "Epoch [113/300] Loss P3: 0.5310 Loss ResNet101: 0.5826\n",
      "Prototype3 Encoder Test Accuracy: 85.66%\n",
      "ResNet101 Test Accuracy: 83.43%\n"
     ]
    },
    {
     "name": "stderr",
     "output_type": "stream",
     "text": [
      "                                                                                                         \r"
     ]
    },
    {
     "name": "stdout",
     "output_type": "stream",
     "text": [
      "Epoch [114/300] Loss P3: 0.4731 Loss ResNet101: 0.5766\n",
      "Prototype3 Encoder Test Accuracy: 85.88%\n",
      "ResNet101 Test Accuracy: 83.26%\n"
     ]
    },
    {
     "name": "stderr",
     "output_type": "stream",
     "text": [
      "                                                                                                         \r"
     ]
    },
    {
     "name": "stdout",
     "output_type": "stream",
     "text": [
      "Epoch [115/300] Loss P3: 0.4683 Loss ResNet101: 0.5770\n",
      "Prototype3 Encoder Test Accuracy: 85.41%\n",
      "ResNet101 Test Accuracy: 82.84%\n"
     ]
    },
    {
     "name": "stderr",
     "output_type": "stream",
     "text": [
      "                                                                                                         \r"
     ]
    },
    {
     "name": "stdout",
     "output_type": "stream",
     "text": [
      "Epoch [116/300] Loss P3: 0.4809 Loss ResNet101: 0.5794\n",
      "Prototype3 Encoder Test Accuracy: 86.24%\n",
      "ResNet101 Test Accuracy: 83.69%\n"
     ]
    },
    {
     "name": "stderr",
     "output_type": "stream",
     "text": [
      "                                                                                                         \r"
     ]
    },
    {
     "name": "stdout",
     "output_type": "stream",
     "text": [
      "Epoch [117/300] Loss P3: 0.4597 Loss ResNet101: 0.5667\n",
      "Prototype3 Encoder Test Accuracy: 85.57%\n",
      "ResNet101 Test Accuracy: 83.72%\n"
     ]
    },
    {
     "name": "stderr",
     "output_type": "stream",
     "text": [
      "                                                                                                         \r"
     ]
    },
    {
     "name": "stdout",
     "output_type": "stream",
     "text": [
      "Epoch [118/300] Loss P3: 0.4530 Loss ResNet101: 1.0379\n",
      "Prototype3 Encoder Test Accuracy: 86.07%\n",
      "ResNet101 Test Accuracy: 65.65%\n"
     ]
    },
    {
     "name": "stderr",
     "output_type": "stream",
     "text": [
      "                                                                                                         \r"
     ]
    },
    {
     "name": "stdout",
     "output_type": "stream",
     "text": [
      "Epoch [119/300] Loss P3: 0.4466 Loss ResNet101: 1.0032\n",
      "Prototype3 Encoder Test Accuracy: 86.37%\n",
      "ResNet101 Test Accuracy: 77.07%\n"
     ]
    },
    {
     "name": "stderr",
     "output_type": "stream",
     "text": [
      "                                                                                                         \r"
     ]
    },
    {
     "name": "stdout",
     "output_type": "stream",
     "text": [
      "Epoch [120/300] Loss P3: 0.4453 Loss ResNet101: 0.7870\n",
      "Prototype3 Encoder Test Accuracy: 85.78%\n",
      "ResNet101 Test Accuracy: 77.02%\n"
     ]
    },
    {
     "name": "stderr",
     "output_type": "stream",
     "text": [
      "                                                                                                         \r"
     ]
    },
    {
     "name": "stdout",
     "output_type": "stream",
     "text": [
      "Epoch [121/300] Loss P3: 0.4468 Loss ResNet101: 0.7289\n",
      "Prototype3 Encoder Test Accuracy: 85.71%\n",
      "ResNet101 Test Accuracy: 81.47%\n"
     ]
    },
    {
     "name": "stderr",
     "output_type": "stream",
     "text": [
      "                                                                                                         \r"
     ]
    },
    {
     "name": "stdout",
     "output_type": "stream",
     "text": [
      "Epoch [122/300] Loss P3: 0.4450 Loss ResNet101: 0.6437\n",
      "Prototype3 Encoder Test Accuracy: 85.62%\n",
      "ResNet101 Test Accuracy: 82.94%\n"
     ]
    },
    {
     "name": "stderr",
     "output_type": "stream",
     "text": [
      "                                                                                                         \r"
     ]
    },
    {
     "name": "stdout",
     "output_type": "stream",
     "text": [
      "Epoch [123/300] Loss P3: 0.4427 Loss ResNet101: 0.6512\n",
      "Prototype3 Encoder Test Accuracy: 85.45%\n",
      "ResNet101 Test Accuracy: 82.51%\n"
     ]
    },
    {
     "name": "stderr",
     "output_type": "stream",
     "text": [
      "                                                                                                         \r"
     ]
    },
    {
     "name": "stdout",
     "output_type": "stream",
     "text": [
      "Epoch [124/300] Loss P3: 0.4429 Loss ResNet101: 0.6014\n",
      "Prototype3 Encoder Test Accuracy: 85.94%\n",
      "ResNet101 Test Accuracy: 83.26%\n"
     ]
    },
    {
     "name": "stderr",
     "output_type": "stream",
     "text": [
      "                                                                                                         \r"
     ]
    },
    {
     "name": "stdout",
     "output_type": "stream",
     "text": [
      "Epoch [125/300] Loss P3: 0.4362 Loss ResNet101: 0.5883\n",
      "Prototype3 Encoder Test Accuracy: 86.09%\n",
      "ResNet101 Test Accuracy: 82.99%\n"
     ]
    },
    {
     "name": "stderr",
     "output_type": "stream",
     "text": [
      "                                                                                                         \r"
     ]
    },
    {
     "name": "stdout",
     "output_type": "stream",
     "text": [
      "Epoch [126/300] Loss P3: 0.4380 Loss ResNet101: 0.6164\n",
      "Prototype3 Encoder Test Accuracy: 85.72%\n",
      "ResNet101 Test Accuracy: 82.90%\n"
     ]
    },
    {
     "name": "stderr",
     "output_type": "stream",
     "text": [
      "                                                                                                         \r"
     ]
    },
    {
     "name": "stdout",
     "output_type": "stream",
     "text": [
      "Epoch [127/300] Loss P3: 0.4255 Loss ResNet101: 0.5882\n",
      "Prototype3 Encoder Test Accuracy: 85.47%\n",
      "ResNet101 Test Accuracy: 83.04%\n"
     ]
    },
    {
     "name": "stderr",
     "output_type": "stream",
     "text": [
      "                                                                                                         \r"
     ]
    },
    {
     "name": "stdout",
     "output_type": "stream",
     "text": [
      "Epoch [128/300] Loss P3: 0.4298 Loss ResNet101: 0.5682\n",
      "Prototype3 Encoder Test Accuracy: 86.00%\n",
      "ResNet101 Test Accuracy: 83.20%\n"
     ]
    },
    {
     "name": "stderr",
     "output_type": "stream",
     "text": [
      "                                                                                                         \r"
     ]
    },
    {
     "name": "stdout",
     "output_type": "stream",
     "text": [
      "Epoch [129/300] Loss P3: 0.4250 Loss ResNet101: 0.5500\n",
      "Prototype3 Encoder Test Accuracy: 85.80%\n",
      "ResNet101 Test Accuracy: 82.96%\n"
     ]
    },
    {
     "name": "stderr",
     "output_type": "stream",
     "text": [
      "                                                                                                         \r"
     ]
    },
    {
     "name": "stdout",
     "output_type": "stream",
     "text": [
      "Epoch [130/300] Loss P3: 0.4245 Loss ResNet101: 0.5530\n",
      "Prototype3 Encoder Test Accuracy: 86.02%\n",
      "ResNet101 Test Accuracy: 82.86%\n"
     ]
    },
    {
     "name": "stderr",
     "output_type": "stream",
     "text": [
      "                                                                                                         \r"
     ]
    },
    {
     "name": "stdout",
     "output_type": "stream",
     "text": [
      "Epoch [131/300] Loss P3: 0.4227 Loss ResNet101: 0.5382\n",
      "Prototype3 Encoder Test Accuracy: 85.33%\n",
      "ResNet101 Test Accuracy: 83.27%\n"
     ]
    },
    {
     "name": "stderr",
     "output_type": "stream",
     "text": [
      "                                                                                                         \r"
     ]
    },
    {
     "name": "stdout",
     "output_type": "stream",
     "text": [
      "Epoch [132/300] Loss P3: 0.4190 Loss ResNet101: 0.5320\n",
      "Prototype3 Encoder Test Accuracy: 85.88%\n",
      "ResNet101 Test Accuracy: 84.07%\n"
     ]
    },
    {
     "name": "stderr",
     "output_type": "stream",
     "text": [
      "                                                                                                         \r"
     ]
    },
    {
     "name": "stdout",
     "output_type": "stream",
     "text": [
      "Epoch [133/300] Loss P3: 0.4189 Loss ResNet101: 0.5347\n",
      "Prototype3 Encoder Test Accuracy: 85.99%\n",
      "ResNet101 Test Accuracy: 83.95%\n"
     ]
    },
    {
     "name": "stderr",
     "output_type": "stream",
     "text": [
      "                                                                                                         \r"
     ]
    },
    {
     "name": "stdout",
     "output_type": "stream",
     "text": [
      "Epoch [134/300] Loss P3: 0.4213 Loss ResNet101: 0.5324\n",
      "Prototype3 Encoder Test Accuracy: 86.06%\n",
      "ResNet101 Test Accuracy: 83.69%\n"
     ]
    },
    {
     "name": "stderr",
     "output_type": "stream",
     "text": [
      "                                                                                                         \r"
     ]
    },
    {
     "name": "stdout",
     "output_type": "stream",
     "text": [
      "Epoch [135/300] Loss P3: 0.4527 Loss ResNet101: 0.5234\n",
      "Prototype3 Encoder Test Accuracy: 86.12%\n",
      "ResNet101 Test Accuracy: 83.71%\n"
     ]
    },
    {
     "name": "stderr",
     "output_type": "stream",
     "text": [
      "                                                                                                         \r"
     ]
    },
    {
     "name": "stdout",
     "output_type": "stream",
     "text": [
      "Epoch [136/300] Loss P3: 0.4186 Loss ResNet101: 0.5252\n",
      "Prototype3 Encoder Test Accuracy: 85.96%\n",
      "ResNet101 Test Accuracy: 83.63%\n"
     ]
    },
    {
     "name": "stderr",
     "output_type": "stream",
     "text": [
      "                                                                                                         \r"
     ]
    },
    {
     "name": "stdout",
     "output_type": "stream",
     "text": [
      "Epoch [137/300] Loss P3: 0.4115 Loss ResNet101: 0.5129\n",
      "Prototype3 Encoder Test Accuracy: 85.86%\n",
      "ResNet101 Test Accuracy: 84.19%\n"
     ]
    },
    {
     "name": "stderr",
     "output_type": "stream",
     "text": [
      "                                                                                                         \r"
     ]
    },
    {
     "name": "stdout",
     "output_type": "stream",
     "text": [
      "Epoch [138/300] Loss P3: 0.4089 Loss ResNet101: 0.5167\n",
      "Prototype3 Encoder Test Accuracy: 86.08%\n",
      "ResNet101 Test Accuracy: 83.97%\n"
     ]
    },
    {
     "name": "stderr",
     "output_type": "stream",
     "text": [
      "                                                                                                         \r"
     ]
    },
    {
     "name": "stdout",
     "output_type": "stream",
     "text": [
      "Epoch [139/300] Loss P3: 0.4119 Loss ResNet101: 0.5185\n",
      "Prototype3 Encoder Test Accuracy: 85.94%\n",
      "ResNet101 Test Accuracy: 83.41%\n"
     ]
    },
    {
     "name": "stderr",
     "output_type": "stream",
     "text": [
      "                                                                                                         \r"
     ]
    },
    {
     "name": "stdout",
     "output_type": "stream",
     "text": [
      "Epoch [140/300] Loss P3: 0.4023 Loss ResNet101: 0.5101\n",
      "Prototype3 Encoder Test Accuracy: 85.64%\n",
      "ResNet101 Test Accuracy: 84.06%\n"
     ]
    },
    {
     "name": "stderr",
     "output_type": "stream",
     "text": [
      "                                                                                                         \r"
     ]
    },
    {
     "name": "stdout",
     "output_type": "stream",
     "text": [
      "Epoch [141/300] Loss P3: 0.4019 Loss ResNet101: 0.5053\n",
      "Prototype3 Encoder Test Accuracy: 85.99%\n",
      "ResNet101 Test Accuracy: 83.59%\n"
     ]
    },
    {
     "name": "stderr",
     "output_type": "stream",
     "text": [
      "                                                                                                         \r"
     ]
    },
    {
     "name": "stdout",
     "output_type": "stream",
     "text": [
      "Epoch [142/300] Loss P3: 0.3957 Loss ResNet101: 0.5017\n",
      "Prototype3 Encoder Test Accuracy: 85.69%\n",
      "ResNet101 Test Accuracy: 83.72%\n"
     ]
    },
    {
     "name": "stderr",
     "output_type": "stream",
     "text": [
      "                                                                                                         \r"
     ]
    },
    {
     "name": "stdout",
     "output_type": "stream",
     "text": [
      "Epoch [143/300] Loss P3: 0.3946 Loss ResNet101: 0.5021\n",
      "Prototype3 Encoder Test Accuracy: 86.24%\n",
      "ResNet101 Test Accuracy: 84.38%\n"
     ]
    },
    {
     "name": "stderr",
     "output_type": "stream",
     "text": [
      "                                                                                                         \r"
     ]
    },
    {
     "name": "stdout",
     "output_type": "stream",
     "text": [
      "Epoch [144/300] Loss P3: 0.3954 Loss ResNet101: 0.4985\n",
      "Prototype3 Encoder Test Accuracy: 85.95%\n",
      "ResNet101 Test Accuracy: 84.37%\n"
     ]
    },
    {
     "name": "stderr",
     "output_type": "stream",
     "text": [
      "                                                                                                         \r"
     ]
    },
    {
     "name": "stdout",
     "output_type": "stream",
     "text": [
      "Epoch [145/300] Loss P3: 0.3924 Loss ResNet101: 0.4950\n",
      "Prototype3 Encoder Test Accuracy: 86.57%\n",
      "ResNet101 Test Accuracy: 84.02%\n"
     ]
    },
    {
     "name": "stderr",
     "output_type": "stream",
     "text": [
      "                                                                                                         \r"
     ]
    },
    {
     "name": "stdout",
     "output_type": "stream",
     "text": [
      "Epoch [146/300] Loss P3: 0.3903 Loss ResNet101: 0.4924\n",
      "Prototype3 Encoder Test Accuracy: 86.11%\n",
      "ResNet101 Test Accuracy: 84.82%\n"
     ]
    },
    {
     "name": "stderr",
     "output_type": "stream",
     "text": [
      "                                                                                                         \r"
     ]
    },
    {
     "name": "stdout",
     "output_type": "stream",
     "text": [
      "Epoch [147/300] Loss P3: 0.3883 Loss ResNet101: 0.4857\n",
      "Prototype3 Encoder Test Accuracy: 86.35%\n",
      "ResNet101 Test Accuracy: 84.04%\n"
     ]
    },
    {
     "name": "stderr",
     "output_type": "stream",
     "text": [
      "                                                                                                         \r"
     ]
    },
    {
     "name": "stdout",
     "output_type": "stream",
     "text": [
      "Epoch [148/300] Loss P3: 0.3844 Loss ResNet101: 0.4807\n",
      "Prototype3 Encoder Test Accuracy: 86.07%\n",
      "ResNet101 Test Accuracy: 84.12%\n"
     ]
    },
    {
     "name": "stderr",
     "output_type": "stream",
     "text": [
      "                                                                                                         \r"
     ]
    },
    {
     "name": "stdout",
     "output_type": "stream",
     "text": [
      "Epoch [149/300] Loss P3: 0.3846 Loss ResNet101: 0.4869\n",
      "Prototype3 Encoder Test Accuracy: 86.62%\n",
      "ResNet101 Test Accuracy: 84.72%\n"
     ]
    },
    {
     "name": "stderr",
     "output_type": "stream",
     "text": [
      "                                                                                                         \r"
     ]
    },
    {
     "name": "stdout",
     "output_type": "stream",
     "text": [
      "Epoch [150/300] Loss P3: 0.3836 Loss ResNet101: 0.4785\n",
      "Prototype3 Encoder Test Accuracy: 86.15%\n",
      "ResNet101 Test Accuracy: 84.47%\n"
     ]
    },
    {
     "name": "stderr",
     "output_type": "stream",
     "text": [
      "                                                                                                         \r"
     ]
    },
    {
     "name": "stdout",
     "output_type": "stream",
     "text": [
      "Epoch [151/300] Loss P3: 0.3798 Loss ResNet101: 0.4759\n",
      "Prototype3 Encoder Test Accuracy: 86.14%\n",
      "ResNet101 Test Accuracy: 84.64%\n"
     ]
    },
    {
     "name": "stderr",
     "output_type": "stream",
     "text": [
      "                                                                                                         \r"
     ]
    },
    {
     "name": "stdout",
     "output_type": "stream",
     "text": [
      "Epoch [152/300] Loss P3: 0.3784 Loss ResNet101: 0.4731\n",
      "Prototype3 Encoder Test Accuracy: 86.43%\n",
      "ResNet101 Test Accuracy: 84.12%\n"
     ]
    },
    {
     "name": "stderr",
     "output_type": "stream",
     "text": [
      "                                                                                                         \r"
     ]
    },
    {
     "name": "stdout",
     "output_type": "stream",
     "text": [
      "Epoch [153/300] Loss P3: 0.3809 Loss ResNet101: 0.4710\n",
      "Prototype3 Encoder Test Accuracy: 86.72%\n",
      "ResNet101 Test Accuracy: 84.07%\n"
     ]
    },
    {
     "name": "stderr",
     "output_type": "stream",
     "text": [
      "                                                                                                         \r"
     ]
    },
    {
     "name": "stdout",
     "output_type": "stream",
     "text": [
      "Epoch [154/300] Loss P3: 0.3779 Loss ResNet101: 0.4667\n",
      "Prototype3 Encoder Test Accuracy: 86.51%\n",
      "ResNet101 Test Accuracy: 84.73%\n"
     ]
    },
    {
     "name": "stderr",
     "output_type": "stream",
     "text": [
      "                                                                                                         \r"
     ]
    },
    {
     "name": "stdout",
     "output_type": "stream",
     "text": [
      "Epoch [155/300] Loss P3: 0.3705 Loss ResNet101: 0.4610\n",
      "Prototype3 Encoder Test Accuracy: 86.48%\n",
      "ResNet101 Test Accuracy: 84.23%\n"
     ]
    },
    {
     "name": "stderr",
     "output_type": "stream",
     "text": [
      "                                                                                                         \r"
     ]
    },
    {
     "name": "stdout",
     "output_type": "stream",
     "text": [
      "Epoch [156/300] Loss P3: 0.3733 Loss ResNet101: 0.4655\n",
      "Prototype3 Encoder Test Accuracy: 86.53%\n",
      "ResNet101 Test Accuracy: 84.12%\n"
     ]
    },
    {
     "name": "stderr",
     "output_type": "stream",
     "text": [
      "                                                                                                         \r"
     ]
    },
    {
     "name": "stdout",
     "output_type": "stream",
     "text": [
      "Epoch [157/300] Loss P3: 0.3718 Loss ResNet101: 0.4532\n",
      "Prototype3 Encoder Test Accuracy: 86.44%\n",
      "ResNet101 Test Accuracy: 84.12%\n"
     ]
    },
    {
     "name": "stderr",
     "output_type": "stream",
     "text": [
      "                                                                                                         \r"
     ]
    },
    {
     "name": "stdout",
     "output_type": "stream",
     "text": [
      "Epoch [158/300] Loss P3: 0.3670 Loss ResNet101: 0.4509\n",
      "Prototype3 Encoder Test Accuracy: 86.31%\n",
      "ResNet101 Test Accuracy: 84.56%\n"
     ]
    },
    {
     "name": "stderr",
     "output_type": "stream",
     "text": [
      "                                                                                                         \r"
     ]
    },
    {
     "name": "stdout",
     "output_type": "stream",
     "text": [
      "Epoch [159/300] Loss P3: 0.3703 Loss ResNet101: 0.4577\n",
      "Prototype3 Encoder Test Accuracy: 86.49%\n",
      "ResNet101 Test Accuracy: 84.12%\n"
     ]
    },
    {
     "name": "stderr",
     "output_type": "stream",
     "text": [
      "                                                                                                         \r"
     ]
    },
    {
     "name": "stdout",
     "output_type": "stream",
     "text": [
      "Epoch [160/300] Loss P3: 0.3555 Loss ResNet101: 0.4484\n",
      "Prototype3 Encoder Test Accuracy: 86.27%\n",
      "ResNet101 Test Accuracy: 84.11%\n"
     ]
    },
    {
     "name": "stderr",
     "output_type": "stream",
     "text": [
      "                                                                                                         \r"
     ]
    },
    {
     "name": "stdout",
     "output_type": "stream",
     "text": [
      "Epoch [161/300] Loss P3: 0.3638 Loss ResNet101: 0.4442\n",
      "Prototype3 Encoder Test Accuracy: 86.57%\n",
      "ResNet101 Test Accuracy: 84.69%\n"
     ]
    },
    {
     "name": "stderr",
     "output_type": "stream",
     "text": [
      "                                                                                                         \r"
     ]
    },
    {
     "name": "stdout",
     "output_type": "stream",
     "text": [
      "Epoch [162/300] Loss P3: 0.3608 Loss ResNet101: 0.4378\n",
      "Prototype3 Encoder Test Accuracy: 86.40%\n",
      "ResNet101 Test Accuracy: 84.68%\n"
     ]
    },
    {
     "name": "stderr",
     "output_type": "stream",
     "text": [
      "                                                                                                         \r"
     ]
    },
    {
     "name": "stdout",
     "output_type": "stream",
     "text": [
      "Epoch [163/300] Loss P3: 0.3562 Loss ResNet101: 0.4359\n",
      "Prototype3 Encoder Test Accuracy: 86.46%\n",
      "ResNet101 Test Accuracy: 84.03%\n"
     ]
    },
    {
     "name": "stderr",
     "output_type": "stream",
     "text": [
      "                                                                                                         \r"
     ]
    },
    {
     "name": "stdout",
     "output_type": "stream",
     "text": [
      "Epoch [164/300] Loss P3: 0.3564 Loss ResNet101: 0.4309\n",
      "Prototype3 Encoder Test Accuracy: 86.56%\n",
      "ResNet101 Test Accuracy: 84.36%\n"
     ]
    },
    {
     "name": "stderr",
     "output_type": "stream",
     "text": [
      "                                                                                                         \r"
     ]
    },
    {
     "name": "stdout",
     "output_type": "stream",
     "text": [
      "Epoch [165/300] Loss P3: 0.3574 Loss ResNet101: 0.4379\n",
      "Prototype3 Encoder Test Accuracy: 86.79%\n",
      "ResNet101 Test Accuracy: 84.65%\n"
     ]
    },
    {
     "name": "stderr",
     "output_type": "stream",
     "text": [
      "                                                                                                         \r"
     ]
    },
    {
     "name": "stdout",
     "output_type": "stream",
     "text": [
      "Epoch [166/300] Loss P3: 0.3509 Loss ResNet101: 0.4298\n",
      "Prototype3 Encoder Test Accuracy: 86.95%\n",
      "ResNet101 Test Accuracy: 84.65%\n"
     ]
    },
    {
     "name": "stderr",
     "output_type": "stream",
     "text": [
      "                                                                                                         \r"
     ]
    },
    {
     "name": "stdout",
     "output_type": "stream",
     "text": [
      "Epoch [167/300] Loss P3: 0.3481 Loss ResNet101: 0.4274\n",
      "Prototype3 Encoder Test Accuracy: 86.72%\n",
      "ResNet101 Test Accuracy: 84.50%\n"
     ]
    },
    {
     "name": "stderr",
     "output_type": "stream",
     "text": [
      "                                                                                                         \r"
     ]
    },
    {
     "name": "stdout",
     "output_type": "stream",
     "text": [
      "Epoch [168/300] Loss P3: 0.3499 Loss ResNet101: 0.4223\n",
      "Prototype3 Encoder Test Accuracy: 86.51%\n",
      "ResNet101 Test Accuracy: 84.52%\n"
     ]
    },
    {
     "name": "stderr",
     "output_type": "stream",
     "text": [
      "                                                                                                         \r"
     ]
    },
    {
     "name": "stdout",
     "output_type": "stream",
     "text": [
      "Epoch [169/300] Loss P3: 0.3464 Loss ResNet101: 0.4244\n",
      "Prototype3 Encoder Test Accuracy: 86.74%\n",
      "ResNet101 Test Accuracy: 84.30%\n"
     ]
    },
    {
     "name": "stderr",
     "output_type": "stream",
     "text": [
      "                                                                                                         \r"
     ]
    },
    {
     "name": "stdout",
     "output_type": "stream",
     "text": [
      "Epoch [170/300] Loss P3: 0.3495 Loss ResNet101: 0.4197\n",
      "Prototype3 Encoder Test Accuracy: 86.47%\n",
      "ResNet101 Test Accuracy: 83.13%\n"
     ]
    },
    {
     "name": "stderr",
     "output_type": "stream",
     "text": [
      "                                                                                                         \r"
     ]
    },
    {
     "name": "stdout",
     "output_type": "stream",
     "text": [
      "Epoch [171/300] Loss P3: 0.3463 Loss ResNet101: 0.4217\n",
      "Prototype3 Encoder Test Accuracy: 86.70%\n",
      "ResNet101 Test Accuracy: 84.30%\n"
     ]
    },
    {
     "name": "stderr",
     "output_type": "stream",
     "text": [
      "                                                                                                         \r"
     ]
    },
    {
     "name": "stdout",
     "output_type": "stream",
     "text": [
      "Epoch [172/300] Loss P3: 0.3414 Loss ResNet101: 0.4097\n",
      "Prototype3 Encoder Test Accuracy: 87.07%\n",
      "ResNet101 Test Accuracy: 84.92%\n"
     ]
    },
    {
     "name": "stderr",
     "output_type": "stream",
     "text": [
      "                                                                                                         \r"
     ]
    },
    {
     "name": "stdout",
     "output_type": "stream",
     "text": [
      "Epoch [173/300] Loss P3: 0.3455 Loss ResNet101: 0.4124\n",
      "Prototype3 Encoder Test Accuracy: 87.15%\n",
      "ResNet101 Test Accuracy: 84.62%\n"
     ]
    },
    {
     "name": "stderr",
     "output_type": "stream",
     "text": [
      "                                                                                                         \r"
     ]
    },
    {
     "name": "stdout",
     "output_type": "stream",
     "text": [
      "Epoch [174/300] Loss P3: 0.3379 Loss ResNet101: 0.4150\n",
      "Prototype3 Encoder Test Accuracy: 86.42%\n",
      "ResNet101 Test Accuracy: 84.59%\n"
     ]
    },
    {
     "name": "stderr",
     "output_type": "stream",
     "text": [
      "                                                                                                         \r"
     ]
    },
    {
     "name": "stdout",
     "output_type": "stream",
     "text": [
      "Epoch [175/300] Loss P3: 0.3372 Loss ResNet101: 0.4076\n",
      "Prototype3 Encoder Test Accuracy: 86.83%\n",
      "ResNet101 Test Accuracy: 83.88%\n"
     ]
    },
    {
     "name": "stderr",
     "output_type": "stream",
     "text": [
      "                                                                                                         \r"
     ]
    },
    {
     "name": "stdout",
     "output_type": "stream",
     "text": [
      "Epoch [176/300] Loss P3: 0.3340 Loss ResNet101: 0.4038\n",
      "Prototype3 Encoder Test Accuracy: 86.71%\n",
      "ResNet101 Test Accuracy: 84.76%\n"
     ]
    },
    {
     "name": "stderr",
     "output_type": "stream",
     "text": [
      "                                                                                                         \r"
     ]
    },
    {
     "name": "stdout",
     "output_type": "stream",
     "text": [
      "Epoch [177/300] Loss P3: 0.3323 Loss ResNet101: 0.3956\n",
      "Prototype3 Encoder Test Accuracy: 86.77%\n",
      "ResNet101 Test Accuracy: 84.72%\n"
     ]
    },
    {
     "name": "stderr",
     "output_type": "stream",
     "text": [
      "                                                                                                         \r"
     ]
    },
    {
     "name": "stdout",
     "output_type": "stream",
     "text": [
      "Epoch [178/300] Loss P3: 0.3322 Loss ResNet101: 0.3965\n",
      "Prototype3 Encoder Test Accuracy: 87.04%\n",
      "ResNet101 Test Accuracy: 84.77%\n"
     ]
    },
    {
     "name": "stderr",
     "output_type": "stream",
     "text": [
      "                                                                                                         \r"
     ]
    },
    {
     "name": "stdout",
     "output_type": "stream",
     "text": [
      "Epoch [179/300] Loss P3: 0.3273 Loss ResNet101: 0.3884\n",
      "Prototype3 Encoder Test Accuracy: 86.88%\n",
      "ResNet101 Test Accuracy: 84.34%\n"
     ]
    },
    {
     "name": "stderr",
     "output_type": "stream",
     "text": [
      "                                                                                                         \r"
     ]
    },
    {
     "name": "stdout",
     "output_type": "stream",
     "text": [
      "Epoch [180/300] Loss P3: 0.3260 Loss ResNet101: 0.3938\n",
      "Prototype3 Encoder Test Accuracy: 86.79%\n",
      "ResNet101 Test Accuracy: 84.54%\n"
     ]
    },
    {
     "name": "stderr",
     "output_type": "stream",
     "text": [
      "                                                                                                         \r"
     ]
    },
    {
     "name": "stdout",
     "output_type": "stream",
     "text": [
      "Epoch [181/300] Loss P3: 0.3311 Loss ResNet101: 0.3876\n",
      "Prototype3 Encoder Test Accuracy: 86.48%\n",
      "ResNet101 Test Accuracy: 84.56%\n"
     ]
    },
    {
     "name": "stderr",
     "output_type": "stream",
     "text": [
      "                                                                                                         \r"
     ]
    },
    {
     "name": "stdout",
     "output_type": "stream",
     "text": [
      "Epoch [182/300] Loss P3: 0.3308 Loss ResNet101: 0.3908\n",
      "Prototype3 Encoder Test Accuracy: 86.78%\n",
      "ResNet101 Test Accuracy: 84.77%\n"
     ]
    },
    {
     "name": "stderr",
     "output_type": "stream",
     "text": [
      "                                                                                                         \r"
     ]
    },
    {
     "name": "stdout",
     "output_type": "stream",
     "text": [
      "Epoch [183/300] Loss P3: 0.3197 Loss ResNet101: 0.3779\n",
      "Prototype3 Encoder Test Accuracy: 86.44%\n",
      "ResNet101 Test Accuracy: 84.40%\n"
     ]
    },
    {
     "name": "stderr",
     "output_type": "stream",
     "text": [
      "                                                                                                         \r"
     ]
    },
    {
     "name": "stdout",
     "output_type": "stream",
     "text": [
      "Epoch [184/300] Loss P3: 0.3184 Loss ResNet101: 0.4112\n",
      "Prototype3 Encoder Test Accuracy: 87.11%\n",
      "ResNet101 Test Accuracy: 81.09%\n"
     ]
    },
    {
     "name": "stderr",
     "output_type": "stream",
     "text": [
      "                                                                                                         \r"
     ]
    },
    {
     "name": "stdout",
     "output_type": "stream",
     "text": [
      "Epoch [185/300] Loss P3: 0.3207 Loss ResNet101: 0.4049\n",
      "Prototype3 Encoder Test Accuracy: 86.80%\n",
      "ResNet101 Test Accuracy: 84.73%\n"
     ]
    },
    {
     "name": "stderr",
     "output_type": "stream",
     "text": [
      "                                                                                                         \r"
     ]
    },
    {
     "name": "stdout",
     "output_type": "stream",
     "text": [
      "Epoch [186/300] Loss P3: 0.3272 Loss ResNet101: 0.3835\n",
      "Prototype3 Encoder Test Accuracy: 86.79%\n",
      "ResNet101 Test Accuracy: 84.49%\n"
     ]
    },
    {
     "name": "stderr",
     "output_type": "stream",
     "text": [
      "                                                                                                         \r"
     ]
    },
    {
     "name": "stdout",
     "output_type": "stream",
     "text": [
      "Epoch [187/300] Loss P3: 0.3164 Loss ResNet101: 0.3790\n",
      "Prototype3 Encoder Test Accuracy: 86.71%\n",
      "ResNet101 Test Accuracy: 83.76%\n"
     ]
    },
    {
     "name": "stderr",
     "output_type": "stream",
     "text": [
      "                                                                                                         \r"
     ]
    },
    {
     "name": "stdout",
     "output_type": "stream",
     "text": [
      "Epoch [188/300] Loss P3: 0.3160 Loss ResNet101: 0.3844\n",
      "Prototype3 Encoder Test Accuracy: 87.03%\n",
      "ResNet101 Test Accuracy: 85.01%\n"
     ]
    },
    {
     "name": "stderr",
     "output_type": "stream",
     "text": [
      "                                                                                                         \r"
     ]
    },
    {
     "name": "stdout",
     "output_type": "stream",
     "text": [
      "Epoch [189/300] Loss P3: 0.3110 Loss ResNet101: 0.3641\n",
      "Prototype3 Encoder Test Accuracy: 86.61%\n",
      "ResNet101 Test Accuracy: 85.35%\n"
     ]
    },
    {
     "name": "stderr",
     "output_type": "stream",
     "text": [
      "                                                                                                         \r"
     ]
    },
    {
     "name": "stdout",
     "output_type": "stream",
     "text": [
      "Epoch [190/300] Loss P3: 0.3175 Loss ResNet101: 0.3651\n",
      "Prototype3 Encoder Test Accuracy: 86.87%\n",
      "ResNet101 Test Accuracy: 85.21%\n"
     ]
    },
    {
     "name": "stderr",
     "output_type": "stream",
     "text": [
      "                                                                                                         \r"
     ]
    },
    {
     "name": "stdout",
     "output_type": "stream",
     "text": [
      "Epoch [191/300] Loss P3: 0.3102 Loss ResNet101: 0.3664\n",
      "Prototype3 Encoder Test Accuracy: 86.81%\n",
      "ResNet101 Test Accuracy: 85.27%\n"
     ]
    },
    {
     "name": "stderr",
     "output_type": "stream",
     "text": [
      "                                                                                                         \r"
     ]
    },
    {
     "name": "stdout",
     "output_type": "stream",
     "text": [
      "Epoch [192/300] Loss P3: 0.3076 Loss ResNet101: 0.3645\n",
      "Prototype3 Encoder Test Accuracy: 87.07%\n",
      "ResNet101 Test Accuracy: 84.75%\n"
     ]
    },
    {
     "name": "stderr",
     "output_type": "stream",
     "text": [
      "                                                                                                         \r"
     ]
    },
    {
     "name": "stdout",
     "output_type": "stream",
     "text": [
      "Epoch [193/300] Loss P3: 0.3085 Loss ResNet101: 0.3621\n",
      "Prototype3 Encoder Test Accuracy: 87.07%\n",
      "ResNet101 Test Accuracy: 84.98%\n"
     ]
    },
    {
     "name": "stderr",
     "output_type": "stream",
     "text": [
      "                                                                                                         \r"
     ]
    },
    {
     "name": "stdout",
     "output_type": "stream",
     "text": [
      "Epoch [194/300] Loss P3: 0.3108 Loss ResNet101: 0.3627\n",
      "Prototype3 Encoder Test Accuracy: 86.66%\n",
      "ResNet101 Test Accuracy: 85.13%\n"
     ]
    },
    {
     "name": "stderr",
     "output_type": "stream",
     "text": [
      "                                                                                                         \r"
     ]
    },
    {
     "name": "stdout",
     "output_type": "stream",
     "text": [
      "Epoch [195/300] Loss P3: 0.3086 Loss ResNet101: 0.3555\n",
      "Prototype3 Encoder Test Accuracy: 86.99%\n",
      "ResNet101 Test Accuracy: 85.50%\n"
     ]
    },
    {
     "name": "stderr",
     "output_type": "stream",
     "text": [
      "                                                                                                         \r"
     ]
    },
    {
     "name": "stdout",
     "output_type": "stream",
     "text": [
      "Epoch [196/300] Loss P3: 0.3029 Loss ResNet101: 0.3516\n",
      "Prototype3 Encoder Test Accuracy: 87.17%\n",
      "ResNet101 Test Accuracy: 85.03%\n"
     ]
    },
    {
     "name": "stderr",
     "output_type": "stream",
     "text": [
      "                                                                                                         \r"
     ]
    },
    {
     "name": "stdout",
     "output_type": "stream",
     "text": [
      "Epoch [197/300] Loss P3: 0.3000 Loss ResNet101: 0.3573\n",
      "Prototype3 Encoder Test Accuracy: 86.56%\n",
      "ResNet101 Test Accuracy: 85.12%\n"
     ]
    },
    {
     "name": "stderr",
     "output_type": "stream",
     "text": [
      "                                                                                                         \r"
     ]
    },
    {
     "name": "stdout",
     "output_type": "stream",
     "text": [
      "Epoch [198/300] Loss P3: 0.3017 Loss ResNet101: 0.3475\n",
      "Prototype3 Encoder Test Accuracy: 86.97%\n",
      "ResNet101 Test Accuracy: 85.27%\n"
     ]
    },
    {
     "name": "stderr",
     "output_type": "stream",
     "text": [
      "                                                                                                         \r"
     ]
    },
    {
     "name": "stdout",
     "output_type": "stream",
     "text": [
      "Epoch [199/300] Loss P3: 0.3003 Loss ResNet101: 0.3487\n",
      "Prototype3 Encoder Test Accuracy: 87.00%\n",
      "ResNet101 Test Accuracy: 85.17%\n"
     ]
    },
    {
     "name": "stderr",
     "output_type": "stream",
     "text": [
      "                                                                                                         \r"
     ]
    },
    {
     "name": "stdout",
     "output_type": "stream",
     "text": [
      "Epoch [200/300] Loss P3: 0.2943 Loss ResNet101: 0.3470\n",
      "Prototype3 Encoder Test Accuracy: 86.83%\n",
      "ResNet101 Test Accuracy: 85.24%\n"
     ]
    },
    {
     "name": "stderr",
     "output_type": "stream",
     "text": [
      "                                                                                                         \r"
     ]
    },
    {
     "name": "stdout",
     "output_type": "stream",
     "text": [
      "Epoch [201/300] Loss P3: 0.2958 Loss ResNet101: 0.3428\n",
      "Prototype3 Encoder Test Accuracy: 87.04%\n",
      "ResNet101 Test Accuracy: 85.72%\n"
     ]
    },
    {
     "name": "stderr",
     "output_type": "stream",
     "text": [
      "                                                                                                         \r"
     ]
    },
    {
     "name": "stdout",
     "output_type": "stream",
     "text": [
      "Epoch [202/300] Loss P3: 0.2898 Loss ResNet101: 0.3390\n",
      "Prototype3 Encoder Test Accuracy: 86.52%\n",
      "ResNet101 Test Accuracy: 85.30%\n"
     ]
    },
    {
     "name": "stderr",
     "output_type": "stream",
     "text": [
      "                                                                                                         \r"
     ]
    },
    {
     "name": "stdout",
     "output_type": "stream",
     "text": [
      "Epoch [203/300] Loss P3: 0.2896 Loss ResNet101: 0.3424\n",
      "Prototype3 Encoder Test Accuracy: 86.81%\n",
      "ResNet101 Test Accuracy: 85.16%\n"
     ]
    },
    {
     "name": "stderr",
     "output_type": "stream",
     "text": [
      "                                                                                                         \r"
     ]
    },
    {
     "name": "stdout",
     "output_type": "stream",
     "text": [
      "Epoch [204/300] Loss P3: 0.2904 Loss ResNet101: 0.3385\n",
      "Prototype3 Encoder Test Accuracy: 86.90%\n",
      "ResNet101 Test Accuracy: 85.33%\n"
     ]
    },
    {
     "name": "stderr",
     "output_type": "stream",
     "text": [
      "                                                                                                         \r"
     ]
    },
    {
     "name": "stdout",
     "output_type": "stream",
     "text": [
      "Epoch [205/300] Loss P3: 0.2891 Loss ResNet101: 0.3405\n",
      "Prototype3 Encoder Test Accuracy: 86.89%\n",
      "ResNet101 Test Accuracy: 85.51%\n"
     ]
    },
    {
     "name": "stderr",
     "output_type": "stream",
     "text": [
      "                                                                                                         \r"
     ]
    },
    {
     "name": "stdout",
     "output_type": "stream",
     "text": [
      "Epoch [206/300] Loss P3: 0.2920 Loss ResNet101: 0.3315\n",
      "Prototype3 Encoder Test Accuracy: 86.95%\n",
      "ResNet101 Test Accuracy: 85.47%\n"
     ]
    },
    {
     "name": "stderr",
     "output_type": "stream",
     "text": [
      "                                                                                                         \r"
     ]
    },
    {
     "name": "stdout",
     "output_type": "stream",
     "text": [
      "Epoch [207/300] Loss P3: 0.2881 Loss ResNet101: 0.3328\n",
      "Prototype3 Encoder Test Accuracy: 86.97%\n",
      "ResNet101 Test Accuracy: 85.79%\n"
     ]
    },
    {
     "name": "stderr",
     "output_type": "stream",
     "text": [
      "                                                                                                         \r"
     ]
    },
    {
     "name": "stdout",
     "output_type": "stream",
     "text": [
      "Epoch [208/300] Loss P3: 0.2888 Loss ResNet101: 0.3394\n",
      "Prototype3 Encoder Test Accuracy: 87.17%\n",
      "ResNet101 Test Accuracy: 85.04%\n"
     ]
    },
    {
     "name": "stderr",
     "output_type": "stream",
     "text": [
      "                                                                                                         \r"
     ]
    },
    {
     "name": "stdout",
     "output_type": "stream",
     "text": [
      "Epoch [209/300] Loss P3: 0.2849 Loss ResNet101: 0.3312\n",
      "Prototype3 Encoder Test Accuracy: 87.13%\n",
      "ResNet101 Test Accuracy: 85.50%\n"
     ]
    },
    {
     "name": "stderr",
     "output_type": "stream",
     "text": [
      "                                                                                                         \r"
     ]
    },
    {
     "name": "stdout",
     "output_type": "stream",
     "text": [
      "Epoch [210/300] Loss P3: 0.2809 Loss ResNet101: 0.3211\n",
      "Prototype3 Encoder Test Accuracy: 86.94%\n",
      "ResNet101 Test Accuracy: 85.42%\n"
     ]
    },
    {
     "name": "stderr",
     "output_type": "stream",
     "text": [
      "                                                                                                         \r"
     ]
    },
    {
     "name": "stdout",
     "output_type": "stream",
     "text": [
      "Epoch [211/300] Loss P3: 0.2883 Loss ResNet101: 0.3314\n",
      "Prototype3 Encoder Test Accuracy: 87.35%\n",
      "ResNet101 Test Accuracy: 85.67%\n"
     ]
    },
    {
     "name": "stderr",
     "output_type": "stream",
     "text": [
      "                                                                                                         \r"
     ]
    },
    {
     "name": "stdout",
     "output_type": "stream",
     "text": [
      "Epoch [212/300] Loss P3: 0.2818 Loss ResNet101: 0.3249\n",
      "Prototype3 Encoder Test Accuracy: 87.12%\n",
      "ResNet101 Test Accuracy: 85.57%\n"
     ]
    },
    {
     "name": "stderr",
     "output_type": "stream",
     "text": [
      "                                                                                                         \r"
     ]
    },
    {
     "name": "stdout",
     "output_type": "stream",
     "text": [
      "Epoch [213/300] Loss P3: 0.2834 Loss ResNet101: 0.3210\n",
      "Prototype3 Encoder Test Accuracy: 86.73%\n",
      "ResNet101 Test Accuracy: 85.61%\n"
     ]
    },
    {
     "name": "stderr",
     "output_type": "stream",
     "text": [
      "                                                                                                         \r"
     ]
    },
    {
     "name": "stdout",
     "output_type": "stream",
     "text": [
      "Epoch [214/300] Loss P3: 0.2775 Loss ResNet101: 0.3212\n",
      "Prototype3 Encoder Test Accuracy: 87.29%\n",
      "ResNet101 Test Accuracy: 85.57%\n"
     ]
    },
    {
     "name": "stderr",
     "output_type": "stream",
     "text": [
      "                                                                                                         \r"
     ]
    },
    {
     "name": "stdout",
     "output_type": "stream",
     "text": [
      "Epoch [215/300] Loss P3: 0.2795 Loss ResNet101: 0.3199\n",
      "Prototype3 Encoder Test Accuracy: 86.94%\n",
      "ResNet101 Test Accuracy: 85.08%\n"
     ]
    },
    {
     "name": "stderr",
     "output_type": "stream",
     "text": [
      "                                                                                                         \r"
     ]
    },
    {
     "name": "stdout",
     "output_type": "stream",
     "text": [
      "Epoch [216/300] Loss P3: 0.2763 Loss ResNet101: 0.3215\n",
      "Prototype3 Encoder Test Accuracy: 87.13%\n",
      "ResNet101 Test Accuracy: 85.44%\n"
     ]
    },
    {
     "name": "stderr",
     "output_type": "stream",
     "text": [
      "                                                                                                         \r"
     ]
    },
    {
     "name": "stdout",
     "output_type": "stream",
     "text": [
      "Epoch [217/300] Loss P3: 0.2768 Loss ResNet101: 0.3203\n",
      "Prototype3 Encoder Test Accuracy: 87.29%\n",
      "ResNet101 Test Accuracy: 85.38%\n"
     ]
    },
    {
     "name": "stderr",
     "output_type": "stream",
     "text": [
      "                                                                                                         \r"
     ]
    },
    {
     "name": "stdout",
     "output_type": "stream",
     "text": [
      "Epoch [218/300] Loss P3: 0.2780 Loss ResNet101: 0.3190\n",
      "Prototype3 Encoder Test Accuracy: 87.03%\n",
      "ResNet101 Test Accuracy: 85.54%\n"
     ]
    },
    {
     "name": "stderr",
     "output_type": "stream",
     "text": [
      "                                                                                                         \r"
     ]
    },
    {
     "name": "stdout",
     "output_type": "stream",
     "text": [
      "Epoch [219/300] Loss P3: 0.2746 Loss ResNet101: 0.3110\n",
      "Prototype3 Encoder Test Accuracy: 87.15%\n",
      "ResNet101 Test Accuracy: 85.33%\n"
     ]
    },
    {
     "name": "stderr",
     "output_type": "stream",
     "text": [
      "                                                                                                         \r"
     ]
    },
    {
     "name": "stdout",
     "output_type": "stream",
     "text": [
      "Epoch [220/300] Loss P3: 0.2717 Loss ResNet101: 0.3115\n",
      "Prototype3 Encoder Test Accuracy: 87.16%\n",
      "ResNet101 Test Accuracy: 85.35%\n"
     ]
    },
    {
     "name": "stderr",
     "output_type": "stream",
     "text": [
      "                                                                                                         \r"
     ]
    },
    {
     "name": "stdout",
     "output_type": "stream",
     "text": [
      "Epoch [221/300] Loss P3: 0.2710 Loss ResNet101: 0.3106\n",
      "Prototype3 Encoder Test Accuracy: 87.30%\n",
      "ResNet101 Test Accuracy: 85.24%\n"
     ]
    },
    {
     "name": "stderr",
     "output_type": "stream",
     "text": [
      "                                                                                                         \r"
     ]
    },
    {
     "name": "stdout",
     "output_type": "stream",
     "text": [
      "Epoch [222/300] Loss P3: 0.2735 Loss ResNet101: 0.3122\n",
      "Prototype3 Encoder Test Accuracy: 87.15%\n",
      "ResNet101 Test Accuracy: 85.28%\n"
     ]
    },
    {
     "name": "stderr",
     "output_type": "stream",
     "text": [
      "                                                                                                         \r"
     ]
    },
    {
     "name": "stdout",
     "output_type": "stream",
     "text": [
      "Epoch [223/300] Loss P3: 0.2679 Loss ResNet101: 0.3100\n",
      "Prototype3 Encoder Test Accuracy: 86.96%\n",
      "ResNet101 Test Accuracy: 85.80%\n"
     ]
    },
    {
     "name": "stderr",
     "output_type": "stream",
     "text": [
      "                                                                                                         \r"
     ]
    },
    {
     "name": "stdout",
     "output_type": "stream",
     "text": [
      "Epoch [224/300] Loss P3: 0.2717 Loss ResNet101: 0.3090\n",
      "Prototype3 Encoder Test Accuracy: 87.19%\n",
      "ResNet101 Test Accuracy: 85.68%\n"
     ]
    },
    {
     "name": "stderr",
     "output_type": "stream",
     "text": [
      "                                                                                                         \r"
     ]
    },
    {
     "name": "stdout",
     "output_type": "stream",
     "text": [
      "Epoch [225/300] Loss P3: 0.2682 Loss ResNet101: 0.3023\n",
      "Prototype3 Encoder Test Accuracy: 87.19%\n",
      "ResNet101 Test Accuracy: 85.43%\n"
     ]
    },
    {
     "name": "stderr",
     "output_type": "stream",
     "text": [
      "                                                                                                         \r"
     ]
    },
    {
     "name": "stdout",
     "output_type": "stream",
     "text": [
      "Epoch [226/300] Loss P3: 0.2705 Loss ResNet101: 0.3013\n",
      "Prototype3 Encoder Test Accuracy: 87.31%\n",
      "ResNet101 Test Accuracy: 85.28%\n"
     ]
    },
    {
     "name": "stderr",
     "output_type": "stream",
     "text": [
      "                                                                                                         \r"
     ]
    },
    {
     "name": "stdout",
     "output_type": "stream",
     "text": [
      "Epoch [227/300] Loss P3: 0.2724 Loss ResNet101: 0.3067\n",
      "Prototype3 Encoder Test Accuracy: 87.16%\n",
      "ResNet101 Test Accuracy: 85.16%\n"
     ]
    },
    {
     "name": "stderr",
     "output_type": "stream",
     "text": [
      "                                                                                                         \r"
     ]
    },
    {
     "name": "stdout",
     "output_type": "stream",
     "text": [
      "Epoch [228/300] Loss P3: 0.2659 Loss ResNet101: 0.2992\n",
      "Prototype3 Encoder Test Accuracy: 87.05%\n",
      "ResNet101 Test Accuracy: 85.46%\n"
     ]
    },
    {
     "name": "stderr",
     "output_type": "stream",
     "text": [
      "                                                                                                         \r"
     ]
    },
    {
     "name": "stdout",
     "output_type": "stream",
     "text": [
      "Epoch [229/300] Loss P3: 0.2640 Loss ResNet101: 0.2983\n",
      "Prototype3 Encoder Test Accuracy: 86.93%\n",
      "ResNet101 Test Accuracy: 85.31%\n"
     ]
    },
    {
     "name": "stderr",
     "output_type": "stream",
     "text": [
      "                                                                                                         \r"
     ]
    },
    {
     "name": "stdout",
     "output_type": "stream",
     "text": [
      "Epoch [230/300] Loss P3: 0.2638 Loss ResNet101: 0.3023\n",
      "Prototype3 Encoder Test Accuracy: 87.27%\n",
      "ResNet101 Test Accuracy: 85.62%\n"
     ]
    },
    {
     "name": "stderr",
     "output_type": "stream",
     "text": [
      "                                                                                                         \r"
     ]
    },
    {
     "name": "stdout",
     "output_type": "stream",
     "text": [
      "Epoch [231/300] Loss P3: 0.2614 Loss ResNet101: 0.2959\n",
      "Prototype3 Encoder Test Accuracy: 87.32%\n",
      "ResNet101 Test Accuracy: 85.47%\n"
     ]
    },
    {
     "name": "stderr",
     "output_type": "stream",
     "text": [
      "                                                                                                         \r"
     ]
    },
    {
     "name": "stdout",
     "output_type": "stream",
     "text": [
      "Epoch [232/300] Loss P3: 0.2651 Loss ResNet101: 0.2961\n",
      "Prototype3 Encoder Test Accuracy: 87.57%\n",
      "ResNet101 Test Accuracy: 85.50%\n"
     ]
    },
    {
     "name": "stderr",
     "output_type": "stream",
     "text": [
      "                                                                                                         \r"
     ]
    },
    {
     "name": "stdout",
     "output_type": "stream",
     "text": [
      "Epoch [233/300] Loss P3: 0.2603 Loss ResNet101: 0.2965\n",
      "Prototype3 Encoder Test Accuracy: 87.50%\n",
      "ResNet101 Test Accuracy: 85.47%\n"
     ]
    },
    {
     "name": "stderr",
     "output_type": "stream",
     "text": [
      "                                                                                                         \r"
     ]
    },
    {
     "name": "stdout",
     "output_type": "stream",
     "text": [
      "Epoch [234/300] Loss P3: 0.2634 Loss ResNet101: 0.2939\n",
      "Prototype3 Encoder Test Accuracy: 87.36%\n",
      "ResNet101 Test Accuracy: 85.62%\n"
     ]
    },
    {
     "name": "stderr",
     "output_type": "stream",
     "text": [
      "                                                                                                         \r"
     ]
    },
    {
     "name": "stdout",
     "output_type": "stream",
     "text": [
      "Epoch [235/300] Loss P3: 0.2606 Loss ResNet101: 0.2945\n",
      "Prototype3 Encoder Test Accuracy: 87.38%\n",
      "ResNet101 Test Accuracy: 85.57%\n"
     ]
    },
    {
     "name": "stderr",
     "output_type": "stream",
     "text": [
      "                                                                                                         \r"
     ]
    },
    {
     "name": "stdout",
     "output_type": "stream",
     "text": [
      "Epoch [236/300] Loss P3: 0.2603 Loss ResNet101: 0.2915\n",
      "Prototype3 Encoder Test Accuracy: 87.21%\n",
      "ResNet101 Test Accuracy: 85.40%\n"
     ]
    },
    {
     "name": "stderr",
     "output_type": "stream",
     "text": [
      "                                                                                                         \r"
     ]
    },
    {
     "name": "stdout",
     "output_type": "stream",
     "text": [
      "Epoch [237/300] Loss P3: 0.2530 Loss ResNet101: 0.2871\n",
      "Prototype3 Encoder Test Accuracy: 87.29%\n",
      "ResNet101 Test Accuracy: 85.48%\n"
     ]
    },
    {
     "name": "stderr",
     "output_type": "stream",
     "text": [
      "                                                                                                         \r"
     ]
    },
    {
     "name": "stdout",
     "output_type": "stream",
     "text": [
      "Epoch [238/300] Loss P3: 0.2518 Loss ResNet101: 0.2869\n",
      "Prototype3 Encoder Test Accuracy: 87.42%\n",
      "ResNet101 Test Accuracy: 85.45%\n"
     ]
    },
    {
     "name": "stderr",
     "output_type": "stream",
     "text": [
      "                                                                                                         \r"
     ]
    },
    {
     "name": "stdout",
     "output_type": "stream",
     "text": [
      "Epoch [239/300] Loss P3: 0.2565 Loss ResNet101: 0.2854\n",
      "Prototype3 Encoder Test Accuracy: 87.44%\n",
      "ResNet101 Test Accuracy: 85.18%\n"
     ]
    },
    {
     "name": "stderr",
     "output_type": "stream",
     "text": [
      "                                                                                                         \r"
     ]
    },
    {
     "name": "stdout",
     "output_type": "stream",
     "text": [
      "Epoch [240/300] Loss P3: 0.2543 Loss ResNet101: 0.2867\n",
      "Prototype3 Encoder Test Accuracy: 87.50%\n",
      "ResNet101 Test Accuracy: 85.52%\n"
     ]
    },
    {
     "name": "stderr",
     "output_type": "stream",
     "text": [
      "                                                                                                         \r"
     ]
    },
    {
     "name": "stdout",
     "output_type": "stream",
     "text": [
      "Epoch [241/300] Loss P3: 0.2530 Loss ResNet101: 0.2804\n",
      "Prototype3 Encoder Test Accuracy: 87.53%\n",
      "ResNet101 Test Accuracy: 85.63%\n"
     ]
    },
    {
     "name": "stderr",
     "output_type": "stream",
     "text": [
      "                                                                                                         \r"
     ]
    },
    {
     "name": "stdout",
     "output_type": "stream",
     "text": [
      "Epoch [242/300] Loss P3: 0.2540 Loss ResNet101: 0.2863\n",
      "Prototype3 Encoder Test Accuracy: 87.27%\n",
      "ResNet101 Test Accuracy: 85.49%\n"
     ]
    },
    {
     "name": "stderr",
     "output_type": "stream",
     "text": [
      "                                                                                                         \r"
     ]
    },
    {
     "name": "stdout",
     "output_type": "stream",
     "text": [
      "Epoch [243/300] Loss P3: 0.2546 Loss ResNet101: 0.2827\n",
      "Prototype3 Encoder Test Accuracy: 87.43%\n",
      "ResNet101 Test Accuracy: 85.59%\n"
     ]
    },
    {
     "name": "stderr",
     "output_type": "stream",
     "text": [
      "                                                                                                         \r"
     ]
    },
    {
     "name": "stdout",
     "output_type": "stream",
     "text": [
      "Epoch [244/300] Loss P3: 0.2521 Loss ResNet101: 0.2806\n",
      "Prototype3 Encoder Test Accuracy: 87.43%\n",
      "ResNet101 Test Accuracy: 85.53%\n"
     ]
    },
    {
     "name": "stderr",
     "output_type": "stream",
     "text": [
      "                                                                                                         \r"
     ]
    },
    {
     "name": "stdout",
     "output_type": "stream",
     "text": [
      "Epoch [245/300] Loss P3: 0.2478 Loss ResNet101: 0.2800\n",
      "Prototype3 Encoder Test Accuracy: 87.47%\n",
      "ResNet101 Test Accuracy: 85.46%\n"
     ]
    },
    {
     "name": "stderr",
     "output_type": "stream",
     "text": [
      "                                                                                                         \r"
     ]
    },
    {
     "name": "stdout",
     "output_type": "stream",
     "text": [
      "Epoch [246/300] Loss P3: 0.2404 Loss ResNet101: 0.2711\n",
      "Prototype3 Encoder Test Accuracy: 87.55%\n",
      "ResNet101 Test Accuracy: 85.54%\n"
     ]
    },
    {
     "name": "stderr",
     "output_type": "stream",
     "text": [
      "                                                                                                         \r"
     ]
    },
    {
     "name": "stdout",
     "output_type": "stream",
     "text": [
      "Epoch [247/300] Loss P3: 0.2536 Loss ResNet101: 0.2830\n",
      "Prototype3 Encoder Test Accuracy: 87.43%\n",
      "ResNet101 Test Accuracy: 85.55%\n"
     ]
    },
    {
     "name": "stderr",
     "output_type": "stream",
     "text": [
      "                                                                                                         \r"
     ]
    },
    {
     "name": "stdout",
     "output_type": "stream",
     "text": [
      "Epoch [248/300] Loss P3: 0.2537 Loss ResNet101: 0.2857\n",
      "Prototype3 Encoder Test Accuracy: 87.35%\n",
      "ResNet101 Test Accuracy: 85.28%\n"
     ]
    },
    {
     "name": "stderr",
     "output_type": "stream",
     "text": [
      "                                                                                                         \r"
     ]
    },
    {
     "name": "stdout",
     "output_type": "stream",
     "text": [
      "Epoch [249/300] Loss P3: 0.2468 Loss ResNet101: 0.2709\n",
      "Prototype3 Encoder Test Accuracy: 87.45%\n",
      "ResNet101 Test Accuracy: 85.59%\n"
     ]
    },
    {
     "name": "stderr",
     "output_type": "stream",
     "text": [
      "                                                                                                         \r"
     ]
    },
    {
     "name": "stdout",
     "output_type": "stream",
     "text": [
      "Epoch [250/300] Loss P3: 0.2498 Loss ResNet101: 0.2769\n",
      "Prototype3 Encoder Test Accuracy: 87.53%\n",
      "ResNet101 Test Accuracy: 85.03%\n"
     ]
    },
    {
     "name": "stderr",
     "output_type": "stream",
     "text": [
      "                                                                                                         \r"
     ]
    },
    {
     "name": "stdout",
     "output_type": "stream",
     "text": [
      "Epoch [251/300] Loss P3: 0.2461 Loss ResNet101: 0.2759\n",
      "Prototype3 Encoder Test Accuracy: 87.72%\n",
      "ResNet101 Test Accuracy: 85.58%\n"
     ]
    },
    {
     "name": "stderr",
     "output_type": "stream",
     "text": [
      "                                                                                                         \r"
     ]
    },
    {
     "name": "stdout",
     "output_type": "stream",
     "text": [
      "Epoch [252/300] Loss P3: 0.2459 Loss ResNet101: 0.2684\n",
      "Prototype3 Encoder Test Accuracy: 87.54%\n",
      "ResNet101 Test Accuracy: 85.40%\n"
     ]
    },
    {
     "name": "stderr",
     "output_type": "stream",
     "text": [
      "                                                                                                         \r"
     ]
    },
    {
     "name": "stdout",
     "output_type": "stream",
     "text": [
      "Epoch [253/300] Loss P3: 0.2438 Loss ResNet101: 0.2757\n",
      "Prototype3 Encoder Test Accuracy: 87.44%\n",
      "ResNet101 Test Accuracy: 85.54%\n"
     ]
    },
    {
     "name": "stderr",
     "output_type": "stream",
     "text": [
      "                                                                                                         \r"
     ]
    },
    {
     "name": "stdout",
     "output_type": "stream",
     "text": [
      "Epoch [254/300] Loss P3: 0.2434 Loss ResNet101: 0.2706\n",
      "Prototype3 Encoder Test Accuracy: 87.49%\n",
      "ResNet101 Test Accuracy: 85.40%\n"
     ]
    },
    {
     "name": "stderr",
     "output_type": "stream",
     "text": [
      "                                                                                                         \r"
     ]
    },
    {
     "name": "stdout",
     "output_type": "stream",
     "text": [
      "Epoch [255/300] Loss P3: 0.2373 Loss ResNet101: 0.2695\n",
      "Prototype3 Encoder Test Accuracy: 87.49%\n",
      "ResNet101 Test Accuracy: 85.35%\n"
     ]
    },
    {
     "name": "stderr",
     "output_type": "stream",
     "text": [
      "                                                                                                         \r"
     ]
    },
    {
     "name": "stdout",
     "output_type": "stream",
     "text": [
      "Epoch [256/300] Loss P3: 0.2423 Loss ResNet101: 0.2726\n",
      "Prototype3 Encoder Test Accuracy: 87.49%\n",
      "ResNet101 Test Accuracy: 85.31%\n"
     ]
    },
    {
     "name": "stderr",
     "output_type": "stream",
     "text": [
      "                                                                                                         \r"
     ]
    },
    {
     "name": "stdout",
     "output_type": "stream",
     "text": [
      "Epoch [257/300] Loss P3: 0.2407 Loss ResNet101: 0.2653\n",
      "Prototype3 Encoder Test Accuracy: 87.54%\n",
      "ResNet101 Test Accuracy: 85.21%\n"
     ]
    },
    {
     "name": "stderr",
     "output_type": "stream",
     "text": [
      "                                                                                                         \r"
     ]
    },
    {
     "name": "stdout",
     "output_type": "stream",
     "text": [
      "Epoch [258/300] Loss P3: 0.2457 Loss ResNet101: 0.2670\n",
      "Prototype3 Encoder Test Accuracy: 87.54%\n",
      "ResNet101 Test Accuracy: 85.37%\n"
     ]
    },
    {
     "name": "stderr",
     "output_type": "stream",
     "text": [
      "                                                                                                         \r"
     ]
    },
    {
     "name": "stdout",
     "output_type": "stream",
     "text": [
      "Epoch [259/300] Loss P3: 0.2442 Loss ResNet101: 0.2654\n",
      "Prototype3 Encoder Test Accuracy: 87.60%\n",
      "ResNet101 Test Accuracy: 85.34%\n"
     ]
    },
    {
     "name": "stderr",
     "output_type": "stream",
     "text": [
      "                                                                                                         \r"
     ]
    },
    {
     "name": "stdout",
     "output_type": "stream",
     "text": [
      "Epoch [260/300] Loss P3: 0.2396 Loss ResNet101: 0.2658\n",
      "Prototype3 Encoder Test Accuracy: 87.59%\n",
      "ResNet101 Test Accuracy: 85.49%\n"
     ]
    },
    {
     "name": "stderr",
     "output_type": "stream",
     "text": [
      "                                                                                                         \r"
     ]
    },
    {
     "name": "stdout",
     "output_type": "stream",
     "text": [
      "Epoch [261/300] Loss P3: 0.2399 Loss ResNet101: 0.2671\n",
      "Prototype3 Encoder Test Accuracy: 87.49%\n",
      "ResNet101 Test Accuracy: 85.42%\n"
     ]
    },
    {
     "name": "stderr",
     "output_type": "stream",
     "text": [
      "                                                                                                         \r"
     ]
    },
    {
     "name": "stdout",
     "output_type": "stream",
     "text": [
      "Epoch [262/300] Loss P3: 0.2408 Loss ResNet101: 0.2702\n",
      "Prototype3 Encoder Test Accuracy: 87.47%\n",
      "ResNet101 Test Accuracy: 85.34%\n"
     ]
    },
    {
     "name": "stderr",
     "output_type": "stream",
     "text": [
      "                                                                                                         \r"
     ]
    },
    {
     "name": "stdout",
     "output_type": "stream",
     "text": [
      "Epoch [263/300] Loss P3: 0.2376 Loss ResNet101: 0.2640\n",
      "Prototype3 Encoder Test Accuracy: 87.36%\n",
      "ResNet101 Test Accuracy: 85.33%\n"
     ]
    },
    {
     "name": "stderr",
     "output_type": "stream",
     "text": [
      "                                                                                                         \r"
     ]
    },
    {
     "name": "stdout",
     "output_type": "stream",
     "text": [
      "Epoch [264/300] Loss P3: 0.2408 Loss ResNet101: 0.2667\n",
      "Prototype3 Encoder Test Accuracy: 87.50%\n",
      "ResNet101 Test Accuracy: 85.51%\n"
     ]
    },
    {
     "name": "stderr",
     "output_type": "stream",
     "text": [
      "                                                                                                         \r"
     ]
    },
    {
     "name": "stdout",
     "output_type": "stream",
     "text": [
      "Epoch [265/300] Loss P3: 0.2387 Loss ResNet101: 0.2661\n",
      "Prototype3 Encoder Test Accuracy: 87.54%\n",
      "ResNet101 Test Accuracy: 85.37%\n"
     ]
    },
    {
     "name": "stderr",
     "output_type": "stream",
     "text": [
      "                                                                                                         \r"
     ]
    },
    {
     "name": "stdout",
     "output_type": "stream",
     "text": [
      "Epoch [266/300] Loss P3: 0.2382 Loss ResNet101: 0.2626\n",
      "Prototype3 Encoder Test Accuracy: 87.42%\n",
      "ResNet101 Test Accuracy: 85.33%\n"
     ]
    },
    {
     "name": "stderr",
     "output_type": "stream",
     "text": [
      "                                                                                                         \r"
     ]
    },
    {
     "name": "stdout",
     "output_type": "stream",
     "text": [
      "Epoch [267/300] Loss P3: 0.2336 Loss ResNet101: 0.2612\n",
      "Prototype3 Encoder Test Accuracy: 87.47%\n",
      "ResNet101 Test Accuracy: 85.28%\n"
     ]
    },
    {
     "name": "stderr",
     "output_type": "stream",
     "text": [
      "                                                                                                         \r"
     ]
    },
    {
     "name": "stdout",
     "output_type": "stream",
     "text": [
      "Epoch [268/300] Loss P3: 0.2381 Loss ResNet101: 0.2601\n",
      "Prototype3 Encoder Test Accuracy: 87.45%\n",
      "ResNet101 Test Accuracy: 85.43%\n"
     ]
    },
    {
     "name": "stderr",
     "output_type": "stream",
     "text": [
      "                                                                                                         \r"
     ]
    },
    {
     "name": "stdout",
     "output_type": "stream",
     "text": [
      "Epoch [269/300] Loss P3: 0.2377 Loss ResNet101: 0.2604\n",
      "Prototype3 Encoder Test Accuracy: 87.47%\n",
      "ResNet101 Test Accuracy: 85.45%\n"
     ]
    },
    {
     "name": "stderr",
     "output_type": "stream",
     "text": [
      "                                                                                                         \r"
     ]
    },
    {
     "name": "stdout",
     "output_type": "stream",
     "text": [
      "Epoch [270/300] Loss P3: 0.2418 Loss ResNet101: 0.2598\n",
      "Prototype3 Encoder Test Accuracy: 87.38%\n",
      "ResNet101 Test Accuracy: 85.37%\n"
     ]
    },
    {
     "name": "stderr",
     "output_type": "stream",
     "text": [
      "                                                                                                         \r"
     ]
    },
    {
     "name": "stdout",
     "output_type": "stream",
     "text": [
      "Epoch [271/300] Loss P3: 0.2424 Loss ResNet101: 0.2673\n",
      "Prototype3 Encoder Test Accuracy: 87.38%\n",
      "ResNet101 Test Accuracy: 85.48%\n"
     ]
    },
    {
     "name": "stderr",
     "output_type": "stream",
     "text": [
      "                                                                                                         \r"
     ]
    },
    {
     "name": "stdout",
     "output_type": "stream",
     "text": [
      "Epoch [272/300] Loss P3: 0.2332 Loss ResNet101: 0.2599\n",
      "Prototype3 Encoder Test Accuracy: 87.48%\n",
      "ResNet101 Test Accuracy: 85.54%\n"
     ]
    },
    {
     "name": "stderr",
     "output_type": "stream",
     "text": [
      "                                                                                                         \r"
     ]
    },
    {
     "name": "stdout",
     "output_type": "stream",
     "text": [
      "Epoch [273/300] Loss P3: 0.2367 Loss ResNet101: 0.2576\n",
      "Prototype3 Encoder Test Accuracy: 87.43%\n",
      "ResNet101 Test Accuracy: 85.50%\n"
     ]
    },
    {
     "name": "stderr",
     "output_type": "stream",
     "text": [
      "                                                                                                         \r"
     ]
    },
    {
     "name": "stdout",
     "output_type": "stream",
     "text": [
      "Epoch [274/300] Loss P3: 0.2354 Loss ResNet101: 0.2620\n",
      "Prototype3 Encoder Test Accuracy: 87.40%\n",
      "ResNet101 Test Accuracy: 85.50%\n"
     ]
    },
    {
     "name": "stderr",
     "output_type": "stream",
     "text": [
      "                                                                                                         \r"
     ]
    },
    {
     "name": "stdout",
     "output_type": "stream",
     "text": [
      "Epoch [275/300] Loss P3: 0.2321 Loss ResNet101: 0.2609\n",
      "Prototype3 Encoder Test Accuracy: 87.36%\n",
      "ResNet101 Test Accuracy: 85.55%\n"
     ]
    },
    {
     "name": "stderr",
     "output_type": "stream",
     "text": [
      "                                                                                                         \r"
     ]
    },
    {
     "name": "stdout",
     "output_type": "stream",
     "text": [
      "Epoch [276/300] Loss P3: 0.2382 Loss ResNet101: 0.2620\n",
      "Prototype3 Encoder Test Accuracy: 87.58%\n",
      "ResNet101 Test Accuracy: 85.51%\n"
     ]
    },
    {
     "name": "stderr",
     "output_type": "stream",
     "text": [
      "                                                                                                         \r"
     ]
    },
    {
     "name": "stdout",
     "output_type": "stream",
     "text": [
      "Epoch [277/300] Loss P3: 0.2313 Loss ResNet101: 0.2542\n",
      "Prototype3 Encoder Test Accuracy: 87.41%\n",
      "ResNet101 Test Accuracy: 85.55%\n"
     ]
    },
    {
     "name": "stderr",
     "output_type": "stream",
     "text": [
      "                                                                                                         \r"
     ]
    },
    {
     "name": "stdout",
     "output_type": "stream",
     "text": [
      "Epoch [278/300] Loss P3: 0.2345 Loss ResNet101: 0.2583\n",
      "Prototype3 Encoder Test Accuracy: 87.46%\n",
      "ResNet101 Test Accuracy: 85.52%\n"
     ]
    },
    {
     "name": "stderr",
     "output_type": "stream",
     "text": [
      "                                                                                                         \r"
     ]
    },
    {
     "name": "stdout",
     "output_type": "stream",
     "text": [
      "Epoch [279/300] Loss P3: 0.2365 Loss ResNet101: 0.2624\n",
      "Prototype3 Encoder Test Accuracy: 87.52%\n",
      "ResNet101 Test Accuracy: 85.61%\n"
     ]
    },
    {
     "name": "stderr",
     "output_type": "stream",
     "text": [
      "                                                                                                         \r"
     ]
    },
    {
     "name": "stdout",
     "output_type": "stream",
     "text": [
      "Epoch [280/300] Loss P3: 0.2359 Loss ResNet101: 0.2673\n",
      "Prototype3 Encoder Test Accuracy: 87.41%\n",
      "ResNet101 Test Accuracy: 85.51%\n"
     ]
    },
    {
     "name": "stderr",
     "output_type": "stream",
     "text": [
      "                                                                                                         \r"
     ]
    },
    {
     "name": "stdout",
     "output_type": "stream",
     "text": [
      "Epoch [281/300] Loss P3: 0.2342 Loss ResNet101: 0.2591\n",
      "Prototype3 Encoder Test Accuracy: 87.44%\n",
      "ResNet101 Test Accuracy: 85.51%\n"
     ]
    },
    {
     "name": "stderr",
     "output_type": "stream",
     "text": [
      "                                                                                                         \r"
     ]
    },
    {
     "name": "stdout",
     "output_type": "stream",
     "text": [
      "Epoch [282/300] Loss P3: 0.2286 Loss ResNet101: 0.2531\n",
      "Prototype3 Encoder Test Accuracy: 87.33%\n",
      "ResNet101 Test Accuracy: 85.45%\n"
     ]
    },
    {
     "name": "stderr",
     "output_type": "stream",
     "text": [
      "                                                                                                         \r"
     ]
    },
    {
     "name": "stdout",
     "output_type": "stream",
     "text": [
      "Epoch [283/300] Loss P3: 0.2356 Loss ResNet101: 0.2581\n",
      "Prototype3 Encoder Test Accuracy: 87.44%\n",
      "ResNet101 Test Accuracy: 85.58%\n"
     ]
    },
    {
     "name": "stderr",
     "output_type": "stream",
     "text": [
      "                                                                                                         \r"
     ]
    },
    {
     "name": "stdout",
     "output_type": "stream",
     "text": [
      "Epoch [284/300] Loss P3: 0.2375 Loss ResNet101: 0.2583\n",
      "Prototype3 Encoder Test Accuracy: 87.55%\n",
      "ResNet101 Test Accuracy: 85.71%\n"
     ]
    },
    {
     "name": "stderr",
     "output_type": "stream",
     "text": [
      "                                                                                                         \r"
     ]
    },
    {
     "name": "stdout",
     "output_type": "stream",
     "text": [
      "Epoch [285/300] Loss P3: 0.2368 Loss ResNet101: 0.2595\n",
      "Prototype3 Encoder Test Accuracy: 87.54%\n",
      "ResNet101 Test Accuracy: 85.68%\n"
     ]
    },
    {
     "name": "stderr",
     "output_type": "stream",
     "text": [
      "                                                                                                         \r"
     ]
    },
    {
     "name": "stdout",
     "output_type": "stream",
     "text": [
      "Epoch [286/300] Loss P3: 0.2349 Loss ResNet101: 0.2568\n",
      "Prototype3 Encoder Test Accuracy: 87.38%\n",
      "ResNet101 Test Accuracy: 85.45%\n"
     ]
    },
    {
     "name": "stderr",
     "output_type": "stream",
     "text": [
      "                                                                                                         \r"
     ]
    },
    {
     "name": "stdout",
     "output_type": "stream",
     "text": [
      "Epoch [287/300] Loss P3: 0.2352 Loss ResNet101: 0.2607\n",
      "Prototype3 Encoder Test Accuracy: 87.45%\n",
      "ResNet101 Test Accuracy: 85.41%\n"
     ]
    },
    {
     "name": "stderr",
     "output_type": "stream",
     "text": [
      "                                                                                                         \r"
     ]
    },
    {
     "name": "stdout",
     "output_type": "stream",
     "text": [
      "Epoch [288/300] Loss P3: 0.2312 Loss ResNet101: 0.2519\n",
      "Prototype3 Encoder Test Accuracy: 87.43%\n",
      "ResNet101 Test Accuracy: 85.56%\n"
     ]
    },
    {
     "name": "stderr",
     "output_type": "stream",
     "text": [
      "                                                                                                         \r"
     ]
    },
    {
     "name": "stdout",
     "output_type": "stream",
     "text": [
      "Epoch [289/300] Loss P3: 0.2333 Loss ResNet101: 0.2591\n",
      "Prototype3 Encoder Test Accuracy: 87.38%\n",
      "ResNet101 Test Accuracy: 85.45%\n"
     ]
    },
    {
     "name": "stderr",
     "output_type": "stream",
     "text": [
      "                                                                                                         \r"
     ]
    },
    {
     "name": "stdout",
     "output_type": "stream",
     "text": [
      "Epoch [290/300] Loss P3: 0.2329 Loss ResNet101: 0.2616\n",
      "Prototype3 Encoder Test Accuracy: 87.36%\n",
      "ResNet101 Test Accuracy: 85.52%\n"
     ]
    },
    {
     "name": "stderr",
     "output_type": "stream",
     "text": [
      "                                                                                                         \r"
     ]
    },
    {
     "name": "stdout",
     "output_type": "stream",
     "text": [
      "Epoch [291/300] Loss P3: 0.2346 Loss ResNet101: 0.2589\n",
      "Prototype3 Encoder Test Accuracy: 87.36%\n",
      "ResNet101 Test Accuracy: 85.49%\n"
     ]
    },
    {
     "name": "stderr",
     "output_type": "stream",
     "text": [
      "                                                                                                         \r"
     ]
    },
    {
     "name": "stdout",
     "output_type": "stream",
     "text": [
      "Epoch [292/300] Loss P3: 0.2306 Loss ResNet101: 0.2559\n",
      "Prototype3 Encoder Test Accuracy: 87.39%\n",
      "ResNet101 Test Accuracy: 85.59%\n"
     ]
    },
    {
     "name": "stderr",
     "output_type": "stream",
     "text": [
      "                                                                                                         \r"
     ]
    },
    {
     "name": "stdout",
     "output_type": "stream",
     "text": [
      "Epoch [293/300] Loss P3: 0.2316 Loss ResNet101: 0.2552\n",
      "Prototype3 Encoder Test Accuracy: 87.52%\n",
      "ResNet101 Test Accuracy: 85.56%\n"
     ]
    },
    {
     "name": "stderr",
     "output_type": "stream",
     "text": [
      "                                                                                                         \r"
     ]
    },
    {
     "name": "stdout",
     "output_type": "stream",
     "text": [
      "Epoch [294/300] Loss P3: 0.2342 Loss ResNet101: 0.2530\n",
      "Prototype3 Encoder Test Accuracy: 87.49%\n",
      "ResNet101 Test Accuracy: 85.48%\n"
     ]
    },
    {
     "name": "stderr",
     "output_type": "stream",
     "text": [
      "                                                                                                         \r"
     ]
    },
    {
     "name": "stdout",
     "output_type": "stream",
     "text": [
      "Epoch [295/300] Loss P3: 0.2327 Loss ResNet101: 0.2564\n",
      "Prototype3 Encoder Test Accuracy: 87.32%\n",
      "ResNet101 Test Accuracy: 85.40%\n"
     ]
    },
    {
     "name": "stderr",
     "output_type": "stream",
     "text": [
      "                                                                                                         \r"
     ]
    },
    {
     "name": "stdout",
     "output_type": "stream",
     "text": [
      "Epoch [296/300] Loss P3: 0.2310 Loss ResNet101: 0.2569\n",
      "Prototype3 Encoder Test Accuracy: 87.39%\n",
      "ResNet101 Test Accuracy: 85.55%\n"
     ]
    },
    {
     "name": "stderr",
     "output_type": "stream",
     "text": [
      "                                                                                                         \r"
     ]
    },
    {
     "name": "stdout",
     "output_type": "stream",
     "text": [
      "Epoch [297/300] Loss P3: 0.2365 Loss ResNet101: 0.2613\n",
      "Prototype3 Encoder Test Accuracy: 87.28%\n",
      "ResNet101 Test Accuracy: 85.47%\n"
     ]
    },
    {
     "name": "stderr",
     "output_type": "stream",
     "text": [
      "                                                                                                         \r"
     ]
    },
    {
     "name": "stdout",
     "output_type": "stream",
     "text": [
      "Epoch [298/300] Loss P3: 0.2313 Loss ResNet101: 0.2562\n",
      "Prototype3 Encoder Test Accuracy: 87.48%\n",
      "ResNet101 Test Accuracy: 85.54%\n"
     ]
    },
    {
     "name": "stderr",
     "output_type": "stream",
     "text": [
      "                                                                                                         \r"
     ]
    },
    {
     "name": "stdout",
     "output_type": "stream",
     "text": [
      "Epoch [299/300] Loss P3: 0.2356 Loss ResNet101: 0.2560\n",
      "Prototype3 Encoder Test Accuracy: 87.58%\n",
      "ResNet101 Test Accuracy: 85.62%\n"
     ]
    },
    {
     "name": "stderr",
     "output_type": "stream",
     "text": [
      "                                                                                                         \r"
     ]
    },
    {
     "name": "stdout",
     "output_type": "stream",
     "text": [
      "Epoch [300/300] Loss P3: 0.2341 Loss ResNet101: 0.2608\n",
      "Prototype3 Encoder Test Accuracy: 87.50%\n",
      "ResNet101 Test Accuracy: 85.52%\n"
     ]
    }
   ],
   "source": [
    "import torch.nn as nn\n",
    "import torch.optim as optim\n",
    "import tqdm\n",
    "\n",
    "epochs = 300\n",
    "\n",
    "# Loss and optimizer\n",
    "criterion = nn.CrossEntropyLoss()\n",
    "# optimizer_p3 = optim.SGD(classifier_p3.parameters(), lr = 0.1, momentum=0.9, weight_decay=5e-4)\n",
    "# optimizer_resnet101 = optim.SGD(classifier_resnet101.parameters(), lr = 0.1, momentum=0.9, weight_decay=5e-4)\n",
    "optimizer_p3 = optim.AdamW(classifier_p3.parameters(), lr=1e-3, weight_decay=5e-4)\n",
    "optimizer_resnet101 = optim.AdamW(classifier_resnet101.parameters(), lr=1e-3, weight_decay=5e-4)\n",
    "scheduler_p3 = torch.optim.lr_scheduler.CosineAnnealingLR(optimizer_p3, T_max=epochs)\n",
    "scheduler_resnet101 = torch.optim.lr_scheduler.CosineAnnealingLR(optimizer_resnet101, T_max=epochs)\n",
    "# scheduler_p3 = torch.optim.lr_scheduler.StepLR(optimizer_p3, step_size=30, gamma=0.1)\n",
    "# scheduler_resnet101 = torch.optim.lr_scheduler.StepLR(optimizer_resnet101, step_size=30, gamma=0.1)\n",
    "\n",
    "# Training loop\n",
    "for epoch in range(epochs):\n",
    "    classifier_p3.train()\n",
    "    classifier_resnet101.train()\n",
    "    running_loss_p3 = 0.0\n",
    "    running_loss_resnet101 = 0.0\n",
    "    pbar = tqdm.tqdm(train_loader, leave=False)\n",
    "    for images, labels in pbar:\n",
    "        images, labels = images.to(device), labels.to(device)\n",
    "\n",
    "        loss_p3 = train_model(classifier_p3, optimizer_p3, images, labels, criterion)\n",
    "        loss_resnet101 = train_model(classifier_resnet101, optimizer_resnet101, images, labels, criterion)\n",
    "\n",
    "        running_loss_p3 += loss_p3 * images.size(0)\n",
    "        running_loss_resnet101 += loss_resnet101 * images.size(0)\n",
    "        pbar.set_description(f\"Epoch [{epoch+1}/{epochs}] Loss P3: {running_loss_p3 / ((pbar.n + 1) * batch_size):.4f} Loss ResNet101: {running_loss_resnet101 / ((pbar.n + 1) * batch_size):.4f}\")\n",
    "\n",
    "    epoch_loss_p3 = running_loss_p3 / len(train_loader.dataset)\n",
    "    epoch_loss_resnet101 = running_loss_resnet101 / len(train_loader.dataset)\n",
    "    print(f\"Epoch [{epoch+1}/{epochs}] Loss P3: {epoch_loss_p3:.4f} Loss ResNet101: {epoch_loss_resnet101:.4f}\")\n",
    "\n",
    "    # Scheduler step\n",
    "    scheduler_p3.step()\n",
    "    scheduler_resnet101.step()\n",
    "\n",
    "    # Evaluation\n",
    "    test_model(classifier_p3, \"Prototype3 Encoder\")\n",
    "    test_model(classifier_resnet101, \"ResNet101\")\n"
   ]
  },
  {
   "cell_type": "code",
   "execution_count": 23,
   "metadata": {},
   "outputs": [],
   "source": [
    "import re\n",
    "\n",
    "def parse_log_line(triplet):\n",
    "    \"\"\"Parses a 4-line log entry into metrics.\"\"\"\n",
    "    print(f\"Triplet: {triplet}\")\n",
    "    log_line = \" \".join(triplet)  # Combine 3 lines into a single string\n",
    "    pattern = (\n",
    "        r\"Epoch\\s*\\[(\\d+)/(\\d+)\\]\\s*\"\n",
    "        r\"Loss P3:\\s*([0-9.]+)\\s*\"\n",
    "        r\"Loss ResNet101:\\s*([0-9.]+).*?\"\n",
    "        r\"Prototype3 Encoder Test Accuracy:\\s*([0-9.]+)%\\s*\"\n",
    "        r\"ResNet101 Test Accuracy:\\s*([0-9.]+)%\"\n",
    "    )\n",
    "\n",
    "    match = re.search(pattern, log_line)\n",
    "    if match:\n",
    "        epoch_current = int(match.group(1))\n",
    "        epoch_total = int(match.group(2))\n",
    "        loss_p3 = float(match.group(3))\n",
    "        loss_resnet = float(match.group(4))\n",
    "        acc_p3 = float(match.group(5))\n",
    "        acc_resnet = float(match.group(6))\n",
    "        return epoch_current, loss_p3, loss_resnet, acc_p3, acc_resnet\n",
    "    else:\n",
    "        return None\n",
    "\n",
    "def chunk_lines(lines, chunk_size=4):\n",
    "    return [lines[i:i+chunk_size] for i in range(0, len(lines), chunk_size)]\n",
    "\n",
    "def extract_metrics_from_file(filepath):\n",
    "    with open(filepath, 'r') as f:\n",
    "        lines = [line.strip() for line in f.readlines()]\n",
    "\n",
    "    print(f\"Total lines in file: {len(lines)}\")\n",
    "    triplets = chunk_lines(lines, 4)\n",
    "    print(f\"Total sample points: {len(triplets)}\")\n",
    "\n",
    "    # Arrays to hold each metric\n",
    "    epochs = []\n",
    "    loss_p3_list = []\n",
    "    loss_resnet_list = []\n",
    "    acc_p3_list = []\n",
    "    acc_resnet_list = []\n",
    "\n",
    "    for triplet in triplets:\n",
    "        if len(triplet) == 4:\n",
    "            result = parse_log_line(triplet)\n",
    "            if result:\n",
    "                epoch, loss_p3, loss_resnet, acc_p3, acc_resnet = result\n",
    "                epochs.append(epoch)\n",
    "                loss_p3_list.append(loss_p3)\n",
    "                loss_resnet_list.append(loss_resnet)\n",
    "                acc_p3_list.append(acc_p3)\n",
    "                acc_resnet_list.append(acc_resnet)\n",
    "\n",
    "    return epochs, loss_p3_list, loss_resnet_list, acc_p3_list, acc_resnet_list"
   ]
  },
  {
   "cell_type": "code",
   "execution_count": 25,
   "metadata": {},
   "outputs": [
    {
     "name": "stdout",
     "output_type": "stream",
     "text": [
      "Total lines in file: 996\n",
      "Total sample points: 249\n",
      "Triplet: ['', 'Epoch [1/300] Loss P3: 2.1219 Loss ResNet101: 2.2419', 'Prototype3 Encoder Test Accuracy: 26.28%', 'ResNet101 Test Accuracy: 30.98%']\n",
      "Triplet: ['', 'Epoch [2/300] Loss P3: 1.9068 Loss ResNet101: 1.9833', 'Prototype3 Encoder Test Accuracy: 27.91%', 'ResNet101 Test Accuracy: 35.51%']\n",
      "Triplet: ['', 'Epoch [3/300] Loss P3: 1.8096 Loss ResNet101: 1.8937', 'Prototype3 Encoder Test Accuracy: 39.82%', 'ResNet101 Test Accuracy: 35.65%']\n",
      "Triplet: ['', 'Epoch [4/300] Loss P3: 1.7258 Loss ResNet101: 1.9030', 'Prototype3 Encoder Test Accuracy: 42.23%', 'ResNet101 Test Accuracy: 42.29%']\n",
      "Triplet: ['', 'Epoch [5/300] Loss P3: 1.6511 Loss ResNet101: 1.7927', 'Prototype3 Encoder Test Accuracy: 48.67%', 'ResNet101 Test Accuracy: 45.18%']\n",
      "Triplet: ['', 'Epoch [6/300] Loss P3: 1.5774 Loss ResNet101: 1.7535', 'Prototype3 Encoder Test Accuracy: 51.09%', 'ResNet101 Test Accuracy: 45.00%']\n",
      "Triplet: ['', 'Epoch [7/300] Loss P3: 1.5105 Loss ResNet101: 1.7347', 'Prototype3 Encoder Test Accuracy: 55.13%', 'ResNet101 Test Accuracy: 44.58%']\n",
      "Triplet: ['', 'Epoch [8/300] Loss P3: 1.4575 Loss ResNet101: 1.6873', 'Prototype3 Encoder Test Accuracy: 58.51%', 'ResNet101 Test Accuracy: 50.60%']\n",
      "Triplet: ['', 'Epoch [9/300] Loss P3: 1.4085 Loss ResNet101: 1.7101', 'Prototype3 Encoder Test Accuracy: 60.41%', 'ResNet101 Test Accuracy: 46.03%']\n",
      "Triplet: ['', 'Epoch [10/300] Loss P3: 1.3646 Loss ResNet101: 1.7697', 'Prototype3 Encoder Test Accuracy: 60.48%', 'ResNet101 Test Accuracy: 45.25%']\n",
      "Triplet: ['', 'Epoch [11/300] Loss P3: 1.3191 Loss ResNet101: 1.8279', 'Prototype3 Encoder Test Accuracy: 62.87%', 'ResNet101 Test Accuracy: 38.21%']\n",
      "Triplet: ['', 'Epoch [12/300] Loss P3: 1.2896 Loss ResNet101: 1.7082', 'Prototype3 Encoder Test Accuracy: 62.03%', 'ResNet101 Test Accuracy: 46.86%']\n",
      "Triplet: ['', 'Epoch [13/300] Loss P3: 1.2537 Loss ResNet101: 1.5981', 'Prototype3 Encoder Test Accuracy: 65.98%', 'ResNet101 Test Accuracy: 50.73%']\n",
      "Triplet: ['', 'Epoch [14/300] Loss P3: 1.2222 Loss ResNet101: 1.5675', 'Prototype3 Encoder Test Accuracy: 64.59%', 'ResNet101 Test Accuracy: 54.55%']\n",
      "Triplet: ['', 'Epoch [15/300] Loss P3: 1.2053 Loss ResNet101: 1.6198', 'Prototype3 Encoder Test Accuracy: 68.04%', 'ResNet101 Test Accuracy: 47.44%']\n",
      "Triplet: ['', 'Epoch [16/300] Loss P3: 1.1797 Loss ResNet101: 1.5913', 'Prototype3 Encoder Test Accuracy: 67.00%', 'ResNet101 Test Accuracy: 55.26%']\n",
      "Triplet: ['', 'Epoch [17/300] Loss P3: 1.1501 Loss ResNet101: 1.4910', 'Prototype3 Encoder Test Accuracy: 70.64%', 'ResNet101 Test Accuracy: 54.43%']\n",
      "Triplet: ['', 'Epoch [18/300] Loss P3: 1.1257 Loss ResNet101: 1.5011', 'Prototype3 Encoder Test Accuracy: 68.15%', 'ResNet101 Test Accuracy: 51.79%']\n",
      "Triplet: ['', 'Epoch [19/300] Loss P3: 1.0995 Loss ResNet101: 1.4509', 'Prototype3 Encoder Test Accuracy: 71.20%', 'ResNet101 Test Accuracy: 59.61%']\n",
      "Triplet: ['', 'Epoch [20/300] Loss P3: 1.0796 Loss ResNet101: 1.4334', 'Prototype3 Encoder Test Accuracy: 71.93%', 'ResNet101 Test Accuracy: 57.64%']\n",
      "Triplet: ['', 'Epoch [21/300] Loss P3: 1.0584 Loss ResNet101: 1.4465', 'Prototype3 Encoder Test Accuracy: 73.31%', 'ResNet101 Test Accuracy: 59.23%']\n",
      "Triplet: ['', 'Epoch [22/300] Loss P3: 1.0434 Loss ResNet101: 1.3695', 'Prototype3 Encoder Test Accuracy: 73.11%', 'ResNet101 Test Accuracy: 61.50%']\n",
      "Triplet: ['', 'Epoch [23/300] Loss P3: 1.0373 Loss ResNet101: 1.3209', 'Prototype3 Encoder Test Accuracy: 74.29%', 'ResNet101 Test Accuracy: 61.81%']\n",
      "Triplet: ['', 'Epoch [24/300] Loss P3: 1.0145 Loss ResNet101: 1.3044', 'Prototype3 Encoder Test Accuracy: 73.86%', 'ResNet101 Test Accuracy: 64.78%']\n",
      "Triplet: ['', 'Epoch [25/300] Loss P3: 0.9962 Loss ResNet101: 1.2851', 'Prototype3 Encoder Test Accuracy: 74.84%', 'ResNet101 Test Accuracy: 63.39%']\n",
      "Triplet: ['', 'Epoch [26/300] Loss P3: 0.9815 Loss ResNet101: 1.3019', 'Prototype3 Encoder Test Accuracy: 75.56%', 'ResNet101 Test Accuracy: 63.19%']\n",
      "Triplet: ['', 'Epoch [27/300] Loss P3: 0.9743 Loss ResNet101: 1.2296', 'Prototype3 Encoder Test Accuracy: 76.57%', 'ResNet101 Test Accuracy: 65.91%']\n",
      "Triplet: ['', 'Epoch [28/300] Loss P3: 0.9547 Loss ResNet101: 1.2595', 'Prototype3 Encoder Test Accuracy: 75.33%', 'ResNet101 Test Accuracy: 65.67%']\n",
      "Triplet: ['', 'Epoch [29/300] Loss P3: 0.9444 Loss ResNet101: 1.3189', 'Prototype3 Encoder Test Accuracy: 75.42%', 'ResNet101 Test Accuracy: 66.14%']\n",
      "Triplet: ['', 'Epoch [30/300] Loss P3: 0.9389 Loss ResNet101: 1.2253', 'Prototype3 Encoder Test Accuracy: 75.23%', 'ResNet101 Test Accuracy: 69.77%']\n",
      "Triplet: ['', 'Epoch [31/300] Loss P3: 0.9245 Loss ResNet101: 1.2200', 'Prototype3 Encoder Test Accuracy: 77.81%', 'ResNet101 Test Accuracy: 67.37%']\n",
      "Triplet: ['', 'Epoch [32/300] Loss P3: 0.9123 Loss ResNet101: 1.2093', 'Prototype3 Encoder Test Accuracy: 77.29%', 'ResNet101 Test Accuracy: 66.30%']\n",
      "Triplet: ['', 'Epoch [33/300] Loss P3: 0.8901 Loss ResNet101: 1.2028', 'Prototype3 Encoder Test Accuracy: 76.69%', 'ResNet101 Test Accuracy: 67.80%']\n",
      "Triplet: ['', 'Epoch [34/300] Loss P3: 0.8962 Loss ResNet101: 1.1645', 'Prototype3 Encoder Test Accuracy: 78.00%', 'ResNet101 Test Accuracy: 70.56%']\n",
      "Triplet: ['', 'Epoch [35/300] Loss P3: 0.8745 Loss ResNet101: 1.1256', 'Prototype3 Encoder Test Accuracy: 77.92%', 'ResNet101 Test Accuracy: 70.27%']\n",
      "Triplet: ['', 'Epoch [36/300] Loss P3: 0.8609 Loss ResNet101: 1.1171', 'Prototype3 Encoder Test Accuracy: 78.67%', 'ResNet101 Test Accuracy: 70.97%']\n",
      "Triplet: ['', 'Epoch [37/300] Loss P3: 0.8562 Loss ResNet101: 1.0981', 'Prototype3 Encoder Test Accuracy: 79.12%', 'ResNet101 Test Accuracy: 73.25%']\n",
      "Triplet: ['', 'Epoch [38/300] Loss P3: 0.8468 Loss ResNet101: 1.0858', 'Prototype3 Encoder Test Accuracy: 76.94%', 'ResNet101 Test Accuracy: 71.40%']\n",
      "Triplet: ['', 'Epoch [39/300] Loss P3: 0.8392 Loss ResNet101: 1.0637', 'Prototype3 Encoder Test Accuracy: 78.76%', 'ResNet101 Test Accuracy: 73.83%']\n",
      "Triplet: ['', 'Epoch [40/300] Loss P3: 0.8383 Loss ResNet101: 1.1608', 'Prototype3 Encoder Test Accuracy: 79.82%', 'ResNet101 Test Accuracy: 67.63%']\n",
      "Triplet: ['', 'Epoch [41/300] Loss P3: 0.8186 Loss ResNet101: 1.3106', 'Prototype3 Encoder Test Accuracy: 79.76%', 'ResNet101 Test Accuracy: 69.78%']\n",
      "Triplet: ['', 'Epoch [42/300] Loss P3: 0.8179 Loss ResNet101: 1.1677', 'Prototype3 Encoder Test Accuracy: 80.23%', 'ResNet101 Test Accuracy: 71.33%']\n",
      "Triplet: ['', 'Epoch [43/300] Loss P3: 0.8052 Loss ResNet101: 1.3867', 'Prototype3 Encoder Test Accuracy: 79.62%', 'ResNet101 Test Accuracy: 49.58%']\n",
      "Triplet: ['', 'Epoch [44/300] Loss P3: 0.8035 Loss ResNet101: 1.3377', 'Prototype3 Encoder Test Accuracy: 76.42%', 'ResNet101 Test Accuracy: 70.17%']\n",
      "Triplet: ['', 'Epoch [45/300] Loss P3: 0.7919 Loss ResNet101: 1.1613', 'Prototype3 Encoder Test Accuracy: 79.15%', 'ResNet101 Test Accuracy: 70.14%']\n",
      "Triplet: ['', 'Epoch [46/300] Loss P3: 0.7858 Loss ResNet101: 1.0795', 'Prototype3 Encoder Test Accuracy: 80.10%', 'ResNet101 Test Accuracy: 72.65%']\n",
      "Triplet: ['', 'Epoch [47/300] Loss P3: 0.7810 Loss ResNet101: 1.1440', 'Prototype3 Encoder Test Accuracy: 80.60%', 'ResNet101 Test Accuracy: 71.05%']\n",
      "Triplet: ['', 'Epoch [48/300] Loss P3: 0.7731 Loss ResNet101: 1.0419', 'Prototype3 Encoder Test Accuracy: 81.06%', 'ResNet101 Test Accuracy: 72.11%']\n",
      "Triplet: ['', 'Epoch [49/300] Loss P3: 0.7609 Loss ResNet101: 0.9868', 'Prototype3 Encoder Test Accuracy: 81.19%', 'ResNet101 Test Accuracy: 75.31%']\n",
      "Triplet: ['', 'Epoch [50/300] Loss P3: 0.7497 Loss ResNet101: 0.9863', 'Prototype3 Encoder Test Accuracy: 80.08%', 'ResNet101 Test Accuracy: 54.11%']\n",
      "Triplet: ['', 'Epoch [51/300] Loss P3: 0.7499 Loss ResNet101: 1.2628', 'Prototype3 Encoder Test Accuracy: 81.78%', 'ResNet101 Test Accuracy: 73.10%']\n",
      "Triplet: ['', 'Epoch [52/300] Loss P3: 0.7356 Loss ResNet101: 1.2120', 'Prototype3 Encoder Test Accuracy: 81.33%', 'ResNet101 Test Accuracy: 68.84%']\n",
      "Triplet: ['', 'Epoch [53/300] Loss P3: 0.7291 Loss ResNet101: 1.0977', 'Prototype3 Encoder Test Accuracy: 81.94%', 'ResNet101 Test Accuracy: 72.40%']\n",
      "Triplet: ['', 'Epoch [54/300] Loss P3: 0.7215 Loss ResNet101: 1.0181', 'Prototype3 Encoder Test Accuracy: 80.43%', 'ResNet101 Test Accuracy: 73.40%']\n",
      "Triplet: ['', 'Epoch [55/300] Loss P3: 0.7144 Loss ResNet101: 0.9810', 'Prototype3 Encoder Test Accuracy: 81.98%', 'ResNet101 Test Accuracy: 75.18%']\n",
      "Triplet: ['', 'Epoch [56/300] Loss P3: 0.7060 Loss ResNet101: 0.9603', 'Prototype3 Encoder Test Accuracy: 82.00%', 'ResNet101 Test Accuracy: 75.99%']\n",
      "Triplet: ['', 'Epoch [57/300] Loss P3: 0.6942 Loss ResNet101: 0.9506', 'Prototype3 Encoder Test Accuracy: 81.83%', 'ResNet101 Test Accuracy: 69.14%']\n",
      "Triplet: ['', 'Epoch [58/300] Loss P3: 0.6913 Loss ResNet101: 1.0959', 'Prototype3 Encoder Test Accuracy: 83.06%', 'ResNet101 Test Accuracy: 71.51%']\n",
      "Triplet: ['', 'Epoch [59/300] Loss P3: 0.6863 Loss ResNet101: 0.9482', 'Prototype3 Encoder Test Accuracy: 81.53%', 'ResNet101 Test Accuracy: 74.42%']\n",
      "Triplet: ['', 'Epoch [60/300] Loss P3: 0.6725 Loss ResNet101: 1.0121', 'Prototype3 Encoder Test Accuracy: 82.66%', 'ResNet101 Test Accuracy: 77.11%']\n",
      "Triplet: ['', 'Epoch [61/300] Loss P3: 0.6688 Loss ResNet101: 0.9453', 'Prototype3 Encoder Test Accuracy: 82.28%', 'ResNet101 Test Accuracy: 75.96%']\n",
      "Triplet: ['', 'Epoch [62/300] Loss P3: 0.6541 Loss ResNet101: 0.9006', 'Prototype3 Encoder Test Accuracy: 82.73%', 'ResNet101 Test Accuracy: 77.56%']\n",
      "Triplet: ['', 'Epoch [63/300] Loss P3: 0.6520 Loss ResNet101: 0.8868', 'Prototype3 Encoder Test Accuracy: 82.92%', 'ResNet101 Test Accuracy: 77.44%']\n",
      "Triplet: ['', 'Epoch [64/300] Loss P3: 0.6412 Loss ResNet101: 0.8653', 'Prototype3 Encoder Test Accuracy: 82.49%', 'ResNet101 Test Accuracy: 77.29%']\n",
      "Triplet: ['', 'Epoch [65/300] Loss P3: 0.6434 Loss ResNet101: 0.8543', 'Prototype3 Encoder Test Accuracy: 83.66%', 'ResNet101 Test Accuracy: 78.78%']\n",
      "Triplet: ['', 'Epoch [66/300] Loss P3: 0.6340 Loss ResNet101: 0.8462', 'Prototype3 Encoder Test Accuracy: 81.76%', 'ResNet101 Test Accuracy: 77.16%']\n",
      "Triplet: ['', 'Epoch [67/300] Loss P3: 0.6308 Loss ResNet101: 0.8383', 'Prototype3 Encoder Test Accuracy: 82.61%', 'ResNet101 Test Accuracy: 78.85%']\n",
      "Triplet: ['', 'Epoch [68/300] Loss P3: 0.6249 Loss ResNet101: 0.8352', 'Prototype3 Encoder Test Accuracy: 83.27%', 'ResNet101 Test Accuracy: 79.11%']\n",
      "Triplet: ['', 'Epoch [69/300] Loss P3: 0.6091 Loss ResNet101: 0.8102', 'Prototype3 Encoder Test Accuracy: 83.57%', 'ResNet101 Test Accuracy: 79.70%']\n",
      "Triplet: ['', 'Epoch [70/300] Loss P3: 0.6143 Loss ResNet101: 0.8137', 'Prototype3 Encoder Test Accuracy: 82.66%', 'ResNet101 Test Accuracy: 78.30%']\n",
      "Triplet: ['', 'Epoch [71/300] Loss P3: 0.6138 Loss ResNet101: 0.8057', 'Prototype3 Encoder Test Accuracy: 82.48%', 'ResNet101 Test Accuracy: 78.44%']\n",
      "Triplet: ['', 'Epoch [72/300] Loss P3: 0.6003 Loss ResNet101: 0.8014', 'Prototype3 Encoder Test Accuracy: 83.52%', 'ResNet101 Test Accuracy: 79.73%']\n",
      "Triplet: ['', 'Epoch [73/300] Loss P3: 0.6016 Loss ResNet101: 0.7946', 'Prototype3 Encoder Test Accuracy: 83.53%', 'ResNet101 Test Accuracy: 79.59%']\n",
      "Triplet: ['', 'Epoch [74/300] Loss P3: 0.6007 Loss ResNet101: 0.7855', 'Prototype3 Encoder Test Accuracy: 83.57%', 'ResNet101 Test Accuracy: 80.37%']\n",
      "Triplet: ['', 'Epoch [75/300] Loss P3: 0.5842 Loss ResNet101: 0.7755', 'Prototype3 Encoder Test Accuracy: 83.74%', 'ResNet101 Test Accuracy: 80.24%']\n",
      "Triplet: ['', 'Epoch [76/300] Loss P3: 0.5878 Loss ResNet101: 0.7723', 'Prototype3 Encoder Test Accuracy: 84.24%', 'ResNet101 Test Accuracy: 80.04%']\n",
      "Triplet: ['', 'Epoch [77/300] Loss P3: 0.5821 Loss ResNet101: 0.7654', 'Prototype3 Encoder Test Accuracy: 83.66%', 'ResNet101 Test Accuracy: 79.69%']\n",
      "Triplet: ['', 'Epoch [78/300] Loss P3: 0.5774 Loss ResNet101: 0.7594', 'Prototype3 Encoder Test Accuracy: 84.25%', 'ResNet101 Test Accuracy: 80.45%']\n",
      "Triplet: ['', 'Epoch [79/300] Loss P3: 0.5725 Loss ResNet101: 0.7523', 'Prototype3 Encoder Test Accuracy: 83.86%', 'ResNet101 Test Accuracy: 80.34%']\n",
      "Triplet: ['', 'Epoch [80/300] Loss P3: 0.5716 Loss ResNet101: 0.7434', 'Prototype3 Encoder Test Accuracy: 84.18%', 'ResNet101 Test Accuracy: 80.22%']\n",
      "Triplet: ['', 'Epoch [81/300] Loss P3: 0.5627 Loss ResNet101: 0.7312', 'Prototype3 Encoder Test Accuracy: 84.47%', 'ResNet101 Test Accuracy: 81.21%']\n",
      "Triplet: ['', 'Epoch [82/300] Loss P3: 0.5632 Loss ResNet101: 0.7314', 'Prototype3 Encoder Test Accuracy: 84.58%', 'ResNet101 Test Accuracy: 81.43%']\n",
      "Triplet: ['', 'Epoch [83/300] Loss P3: 0.5545 Loss ResNet101: 0.7167', 'Prototype3 Encoder Test Accuracy: 84.76%', 'ResNet101 Test Accuracy: 80.31%']\n",
      "Triplet: ['', 'Epoch [84/300] Loss P3: 0.5562 Loss ResNet101: 0.7175', 'Prototype3 Encoder Test Accuracy: 84.18%', 'ResNet101 Test Accuracy: 81.11%']\n",
      "Triplet: ['', 'Epoch [85/300] Loss P3: 0.5518 Loss ResNet101: 0.7067', 'Prototype3 Encoder Test Accuracy: 84.54%', 'ResNet101 Test Accuracy: 81.03%']\n",
      "Triplet: ['', 'Epoch [86/300] Loss P3: 0.5450 Loss ResNet101: 0.7072', 'Prototype3 Encoder Test Accuracy: 84.80%', 'ResNet101 Test Accuracy: 80.81%']\n",
      "Triplet: ['', 'Epoch [87/300] Loss P3: 0.5466 Loss ResNet101: 0.7099', 'Prototype3 Encoder Test Accuracy: 84.15%', 'ResNet101 Test Accuracy: 81.58%']\n",
      "Triplet: ['', 'Epoch [88/300] Loss P3: 0.5402 Loss ResNet101: 0.6925', 'Prototype3 Encoder Test Accuracy: 84.22%', 'ResNet101 Test Accuracy: 79.04%']\n",
      "Triplet: ['', 'Epoch [89/300] Loss P3: 0.5288 Loss ResNet101: 0.6899', 'Prototype3 Encoder Test Accuracy: 85.25%', 'ResNet101 Test Accuracy: 81.00%']\n",
      "Triplet: ['', 'Epoch [90/300] Loss P3: 0.5361 Loss ResNet101: 0.6799', 'Prototype3 Encoder Test Accuracy: 85.36%', 'ResNet101 Test Accuracy: 81.90%']\n",
      "Triplet: ['', 'Epoch [91/300] Loss P3: 0.5313 Loss ResNet101: 0.6800', 'Prototype3 Encoder Test Accuracy: 85.20%', 'ResNet101 Test Accuracy: 81.53%']\n",
      "Triplet: ['', 'Epoch [92/300] Loss P3: 0.5319 Loss ResNet101: 0.6723', 'Prototype3 Encoder Test Accuracy: 84.43%', 'ResNet101 Test Accuracy: 81.52%']\n",
      "Triplet: ['', 'Epoch [93/300] Loss P3: 0.5230 Loss ResNet101: 0.6753', 'Prototype3 Encoder Test Accuracy: 84.89%', 'ResNet101 Test Accuracy: 81.97%']\n",
      "Triplet: ['', 'Epoch [94/300] Loss P3: 0.5227 Loss ResNet101: 0.6594', 'Prototype3 Encoder Test Accuracy: 84.81%', 'ResNet101 Test Accuracy: 81.47%']\n",
      "Triplet: ['', 'Epoch [95/300] Loss P3: 0.5146 Loss ResNet101: 0.6532', 'Prototype3 Encoder Test Accuracy: 84.68%', 'ResNet101 Test Accuracy: 82.22%']\n",
      "Triplet: ['', 'Epoch [96/300] Loss P3: 0.5212 Loss ResNet101: 0.6535', 'Prototype3 Encoder Test Accuracy: 84.95%', 'ResNet101 Test Accuracy: 82.16%']\n",
      "Triplet: ['', 'Epoch [97/300] Loss P3: 0.5227 Loss ResNet101: 0.6447', 'Prototype3 Encoder Test Accuracy: 84.96%', 'ResNet101 Test Accuracy: 82.29%']\n",
      "Triplet: ['', 'Epoch [98/300] Loss P3: 0.5114 Loss ResNet101: 0.6418', 'Prototype3 Encoder Test Accuracy: 85.26%', 'ResNet101 Test Accuracy: 82.67%']\n",
      "Triplet: ['', 'Epoch [99/300] Loss P3: 0.5023 Loss ResNet101: 0.6355', 'Prototype3 Encoder Test Accuracy: 84.92%', 'ResNet101 Test Accuracy: 82.16%']\n",
      "Triplet: ['', 'Epoch [100/300] Loss P3: 0.4980 Loss ResNet101: 0.6278', 'Prototype3 Encoder Test Accuracy: 85.24%', 'ResNet101 Test Accuracy: 81.99%']\n",
      "Triplet: ['', 'Epoch [101/300] Loss P3: 0.4946 Loss ResNet101: 0.6284', 'Prototype3 Encoder Test Accuracy: 84.96%', 'ResNet101 Test Accuracy: 82.42%']\n",
      "Triplet: ['', 'Epoch [102/300] Loss P3: 0.4983 Loss ResNet101: 0.6311', 'Prototype3 Encoder Test Accuracy: 85.10%', 'ResNet101 Test Accuracy: 82.78%']\n",
      "Triplet: ['', 'Epoch [103/300] Loss P3: 0.4958 Loss ResNet101: 0.9476', 'Prototype3 Encoder Test Accuracy: 85.44%', 'ResNet101 Test Accuracy: 79.54%']\n",
      "Triplet: ['', 'Epoch [104/300] Loss P3: 0.4881 Loss ResNet101: 0.7558', 'Prototype3 Encoder Test Accuracy: 85.20%', 'ResNet101 Test Accuracy: 81.33%']\n",
      "Triplet: ['', 'Epoch [105/300] Loss P3: 0.4818 Loss ResNet101: 0.6720', 'Prototype3 Encoder Test Accuracy: 85.69%', 'ResNet101 Test Accuracy: 82.20%']\n",
      "Triplet: ['', 'Epoch [106/300] Loss P3: 0.4890 Loss ResNet101: 0.7129', 'Prototype3 Encoder Test Accuracy: 85.77%', 'ResNet101 Test Accuracy: 77.67%']\n",
      "Triplet: ['', 'Epoch [107/300] Loss P3: 0.4843 Loss ResNet101: 0.7316', 'Prototype3 Encoder Test Accuracy: 85.62%', 'ResNet101 Test Accuracy: 82.18%']\n",
      "Triplet: ['', 'Epoch [108/300] Loss P3: 0.4792 Loss ResNet101: 0.6398', 'Prototype3 Encoder Test Accuracy: 85.20%', 'ResNet101 Test Accuracy: 82.79%']\n",
      "Triplet: ['', 'Epoch [109/300] Loss P3: 0.4767 Loss ResNet101: 0.6220', 'Prototype3 Encoder Test Accuracy: 85.39%', 'ResNet101 Test Accuracy: 83.28%']\n",
      "Triplet: ['', 'Epoch [110/300] Loss P3: 0.4754 Loss ResNet101: 0.6034', 'Prototype3 Encoder Test Accuracy: 85.75%', 'ResNet101 Test Accuracy: 83.67%']\n",
      "Triplet: ['', 'Epoch [111/300] Loss P3: 0.4707 Loss ResNet101: 0.6052', 'Prototype3 Encoder Test Accuracy: 85.76%', 'ResNet101 Test Accuracy: 82.73%']\n",
      "Triplet: ['', 'Epoch [112/300] Loss P3: 0.4921 Loss ResNet101: 0.5851', 'Prototype3 Encoder Test Accuracy: 83.23%', 'ResNet101 Test Accuracy: 83.19%']\n",
      "Triplet: ['', 'Epoch [113/300] Loss P3: 0.5310 Loss ResNet101: 0.5826', 'Prototype3 Encoder Test Accuracy: 85.66%', 'ResNet101 Test Accuracy: 83.43%']\n",
      "Triplet: ['', 'Epoch [114/300] Loss P3: 0.4731 Loss ResNet101: 0.5766', 'Prototype3 Encoder Test Accuracy: 85.88%', 'ResNet101 Test Accuracy: 83.26%']\n",
      "Triplet: ['', 'Epoch [115/300] Loss P3: 0.4683 Loss ResNet101: 0.5770', 'Prototype3 Encoder Test Accuracy: 85.41%', 'ResNet101 Test Accuracy: 82.84%']\n",
      "Triplet: ['', 'Epoch [116/300] Loss P3: 0.4809 Loss ResNet101: 0.5794', 'Prototype3 Encoder Test Accuracy: 86.24%', 'ResNet101 Test Accuracy: 83.69%']\n",
      "Triplet: ['', 'Epoch [117/300] Loss P3: 0.4597 Loss ResNet101: 0.5667', 'Prototype3 Encoder Test Accuracy: 85.57%', 'ResNet101 Test Accuracy: 83.72%']\n",
      "Triplet: ['', 'Epoch [118/300] Loss P3: 0.4530 Loss ResNet101: 1.0379', 'Prototype3 Encoder Test Accuracy: 86.07%', 'ResNet101 Test Accuracy: 65.65%']\n",
      "Triplet: ['', 'Epoch [119/300] Loss P3: 0.4466 Loss ResNet101: 1.0032', 'Prototype3 Encoder Test Accuracy: 86.37%', 'ResNet101 Test Accuracy: 77.07%']\n",
      "Triplet: ['', 'Epoch [120/300] Loss P3: 0.4453 Loss ResNet101: 0.7870', 'Prototype3 Encoder Test Accuracy: 85.78%', 'ResNet101 Test Accuracy: 77.02%']\n",
      "Triplet: ['', 'Epoch [121/300] Loss P3: 0.4468 Loss ResNet101: 0.7289', 'Prototype3 Encoder Test Accuracy: 85.71%', 'ResNet101 Test Accuracy: 81.47%']\n",
      "Triplet: ['', 'Epoch [122/300] Loss P3: 0.4450 Loss ResNet101: 0.6437', 'Prototype3 Encoder Test Accuracy: 85.62%', 'ResNet101 Test Accuracy: 82.94%']\n",
      "Triplet: ['', 'Epoch [123/300] Loss P3: 0.4427 Loss ResNet101: 0.6512', 'Prototype3 Encoder Test Accuracy: 85.45%', 'ResNet101 Test Accuracy: 82.51%']\n",
      "Triplet: ['', 'Epoch [124/300] Loss P3: 0.4429 Loss ResNet101: 0.6014', 'Prototype3 Encoder Test Accuracy: 85.94%', 'ResNet101 Test Accuracy: 83.26%']\n",
      "Triplet: ['', 'Epoch [125/300] Loss P3: 0.4362 Loss ResNet101: 0.5883', 'Prototype3 Encoder Test Accuracy: 86.09%', 'ResNet101 Test Accuracy: 82.99%']\n",
      "Triplet: ['', 'Epoch [126/300] Loss P3: 0.4380 Loss ResNet101: 0.6164', 'Prototype3 Encoder Test Accuracy: 85.72%', 'ResNet101 Test Accuracy: 82.90%']\n",
      "Triplet: ['', 'Epoch [127/300] Loss P3: 0.4255 Loss ResNet101: 0.5882', 'Prototype3 Encoder Test Accuracy: 85.47%', 'ResNet101 Test Accuracy: 83.04%']\n",
      "Triplet: ['', 'Epoch [128/300] Loss P3: 0.4298 Loss ResNet101: 0.5682', 'Prototype3 Encoder Test Accuracy: 86.00%', 'ResNet101 Test Accuracy: 83.20%']\n",
      "Triplet: ['', 'Epoch [129/300] Loss P3: 0.4250 Loss ResNet101: 0.5500', 'Prototype3 Encoder Test Accuracy: 85.80%', 'ResNet101 Test Accuracy: 82.96%']\n",
      "Triplet: ['', 'Epoch [130/300] Loss P3: 0.4245 Loss ResNet101: 0.5530', 'Prototype3 Encoder Test Accuracy: 86.02%', 'ResNet101 Test Accuracy: 82.86%']\n",
      "Triplet: ['', 'Epoch [131/300] Loss P3: 0.4227 Loss ResNet101: 0.5382', 'Prototype3 Encoder Test Accuracy: 85.33%', 'ResNet101 Test Accuracy: 83.27%']\n",
      "Triplet: ['', 'Epoch [132/300] Loss P3: 0.4190 Loss ResNet101: 0.5320', 'Prototype3 Encoder Test Accuracy: 85.88%', 'ResNet101 Test Accuracy: 84.07%']\n",
      "Triplet: ['', 'Epoch [133/300] Loss P3: 0.4189 Loss ResNet101: 0.5347', 'Prototype3 Encoder Test Accuracy: 85.99%', 'ResNet101 Test Accuracy: 83.95%']\n",
      "Triplet: ['', 'Epoch [134/300] Loss P3: 0.4213 Loss ResNet101: 0.5324', 'Prototype3 Encoder Test Accuracy: 86.06%', 'ResNet101 Test Accuracy: 83.69%']\n",
      "Triplet: ['', 'Epoch [135/300] Loss P3: 0.4527 Loss ResNet101: 0.5234', 'Prototype3 Encoder Test Accuracy: 86.12%', 'ResNet101 Test Accuracy: 83.71%']\n",
      "Triplet: ['', 'Epoch [136/300] Loss P3: 0.4186 Loss ResNet101: 0.5252', 'Prototype3 Encoder Test Accuracy: 85.96%', 'ResNet101 Test Accuracy: 83.63%']\n",
      "Triplet: ['', 'Epoch [137/300] Loss P3: 0.4115 Loss ResNet101: 0.5129', 'Prototype3 Encoder Test Accuracy: 85.86%', 'ResNet101 Test Accuracy: 84.19%']\n",
      "Triplet: ['', 'Epoch [138/300] Loss P3: 0.4089 Loss ResNet101: 0.5167', 'Prototype3 Encoder Test Accuracy: 86.08%', 'ResNet101 Test Accuracy: 83.97%']\n",
      "Triplet: ['', 'Epoch [139/300] Loss P3: 0.4119 Loss ResNet101: 0.5185', 'Prototype3 Encoder Test Accuracy: 85.94%', 'ResNet101 Test Accuracy: 83.41%']\n",
      "Triplet: ['', 'Epoch [140/300] Loss P3: 0.4023 Loss ResNet101: 0.5101', 'Prototype3 Encoder Test Accuracy: 85.64%', 'ResNet101 Test Accuracy: 84.06%']\n",
      "Triplet: ['', 'Epoch [141/300] Loss P3: 0.4019 Loss ResNet101: 0.5053', 'Prototype3 Encoder Test Accuracy: 85.99%', 'ResNet101 Test Accuracy: 83.59%']\n",
      "Triplet: ['', 'Epoch [142/300] Loss P3: 0.3957 Loss ResNet101: 0.5017', 'Prototype3 Encoder Test Accuracy: 85.69%', 'ResNet101 Test Accuracy: 83.72%']\n",
      "Triplet: ['', 'Epoch [143/300] Loss P3: 0.3946 Loss ResNet101: 0.5021', 'Prototype3 Encoder Test Accuracy: 86.24%', 'ResNet101 Test Accuracy: 84.38%']\n",
      "Triplet: ['', 'Epoch [144/300] Loss P3: 0.3954 Loss ResNet101: 0.4985', 'Prototype3 Encoder Test Accuracy: 85.95%', 'ResNet101 Test Accuracy: 84.37%']\n",
      "Triplet: ['', 'Epoch [145/300] Loss P3: 0.3924 Loss ResNet101: 0.4950', 'Prototype3 Encoder Test Accuracy: 86.57%', 'ResNet101 Test Accuracy: 84.02%']\n",
      "Triplet: ['', 'Epoch [146/300] Loss P3: 0.3903 Loss ResNet101: 0.4924', 'Prototype3 Encoder Test Accuracy: 86.11%', 'ResNet101 Test Accuracy: 84.82%']\n",
      "Triplet: ['', 'Epoch [147/300] Loss P3: 0.3883 Loss ResNet101: 0.4857', 'Prototype3 Encoder Test Accuracy: 86.35%', 'ResNet101 Test Accuracy: 84.04%']\n",
      "Triplet: ['', 'Epoch [148/300] Loss P3: 0.3844 Loss ResNet101: 0.4807', 'Prototype3 Encoder Test Accuracy: 86.07%', 'ResNet101 Test Accuracy: 84.12%']\n",
      "Triplet: ['', 'Epoch [149/300] Loss P3: 0.3846 Loss ResNet101: 0.4869', 'Prototype3 Encoder Test Accuracy: 86.62%', 'ResNet101 Test Accuracy: 84.72%']\n",
      "Triplet: ['', 'Epoch [150/300] Loss P3: 0.3836 Loss ResNet101: 0.4785', 'Prototype3 Encoder Test Accuracy: 86.15%', 'ResNet101 Test Accuracy: 84.47%']\n",
      "Triplet: ['', 'Epoch [151/300] Loss P3: 0.3798 Loss ResNet101: 0.4759', 'Prototype3 Encoder Test Accuracy: 86.14%', 'ResNet101 Test Accuracy: 84.64%']\n",
      "Triplet: ['', 'Epoch [152/300] Loss P3: 0.3784 Loss ResNet101: 0.4731', 'Prototype3 Encoder Test Accuracy: 86.43%', 'ResNet101 Test Accuracy: 84.12%']\n",
      "Triplet: ['', 'Epoch [153/300] Loss P3: 0.3809 Loss ResNet101: 0.4710', 'Prototype3 Encoder Test Accuracy: 86.72%', 'ResNet101 Test Accuracy: 84.07%']\n",
      "Triplet: ['', 'Epoch [154/300] Loss P3: 0.3779 Loss ResNet101: 0.4667', 'Prototype3 Encoder Test Accuracy: 86.51%', 'ResNet101 Test Accuracy: 84.73%']\n",
      "Triplet: ['', 'Epoch [155/300] Loss P3: 0.3705 Loss ResNet101: 0.4610', 'Prototype3 Encoder Test Accuracy: 86.48%', 'ResNet101 Test Accuracy: 84.23%']\n",
      "Triplet: ['', 'Epoch [156/300] Loss P3: 0.3733 Loss ResNet101: 0.4655', 'Prototype3 Encoder Test Accuracy: 86.53%', 'ResNet101 Test Accuracy: 84.12%']\n",
      "Triplet: ['', 'Epoch [157/300] Loss P3: 0.3718 Loss ResNet101: 0.4532', 'Prototype3 Encoder Test Accuracy: 86.44%', 'ResNet101 Test Accuracy: 84.12%']\n",
      "Triplet: ['', 'Epoch [158/300] Loss P3: 0.3670 Loss ResNet101: 0.4509', 'Prototype3 Encoder Test Accuracy: 86.31%', 'ResNet101 Test Accuracy: 84.56%']\n",
      "Triplet: ['', 'Epoch [159/300] Loss P3: 0.3703 Loss ResNet101: 0.4577', 'Prototype3 Encoder Test Accuracy: 86.49%', 'ResNet101 Test Accuracy: 84.12%']\n",
      "Triplet: ['', 'Epoch [160/300] Loss P3: 0.3555 Loss ResNet101: 0.4484', 'Prototype3 Encoder Test Accuracy: 86.27%', 'ResNet101 Test Accuracy: 84.11%']\n",
      "Triplet: ['', 'Epoch [161/300] Loss P3: 0.3638 Loss ResNet101: 0.4442', 'Prototype3 Encoder Test Accuracy: 86.57%', 'ResNet101 Test Accuracy: 84.69%']\n",
      "Triplet: ['', 'Epoch [162/300] Loss P3: 0.3608 Loss ResNet101: 0.4378', 'Prototype3 Encoder Test Accuracy: 86.40%', 'ResNet101 Test Accuracy: 84.68%']\n",
      "Triplet: ['', 'Epoch [163/300] Loss P3: 0.3562 Loss ResNet101: 0.4359', 'Prototype3 Encoder Test Accuracy: 86.46%', 'ResNet101 Test Accuracy: 84.03%']\n",
      "Triplet: ['', 'Epoch [164/300] Loss P3: 0.3564 Loss ResNet101: 0.4309', 'Prototype3 Encoder Test Accuracy: 86.56%', 'ResNet101 Test Accuracy: 84.36%']\n",
      "Triplet: ['', 'Epoch [165/300] Loss P3: 0.3574 Loss ResNet101: 0.4379', 'Prototype3 Encoder Test Accuracy: 86.79%', 'ResNet101 Test Accuracy: 84.65%']\n",
      "Triplet: ['', 'Epoch [166/300] Loss P3: 0.3509 Loss ResNet101: 0.4298', 'Prototype3 Encoder Test Accuracy: 86.95%', 'ResNet101 Test Accuracy: 84.65%']\n",
      "Triplet: ['', 'Epoch [167/300] Loss P3: 0.3481 Loss ResNet101: 0.4274', 'Prototype3 Encoder Test Accuracy: 86.72%', 'ResNet101 Test Accuracy: 84.50%']\n",
      "Triplet: ['', 'Epoch [168/300] Loss P3: 0.3499 Loss ResNet101: 0.4223', 'Prototype3 Encoder Test Accuracy: 86.51%', 'ResNet101 Test Accuracy: 84.52%']\n",
      "Triplet: ['', 'Epoch [169/300] Loss P3: 0.3464 Loss ResNet101: 0.4244', 'Prototype3 Encoder Test Accuracy: 86.74%', 'ResNet101 Test Accuracy: 84.30%']\n",
      "Triplet: ['', 'Epoch [170/300] Loss P3: 0.3495 Loss ResNet101: 0.4197', 'Prototype3 Encoder Test Accuracy: 86.47%', 'ResNet101 Test Accuracy: 83.13%']\n",
      "Triplet: ['', 'Epoch [171/300] Loss P3: 0.3463 Loss ResNet101: 0.4217', 'Prototype3 Encoder Test Accuracy: 86.70%', 'ResNet101 Test Accuracy: 84.30%']\n",
      "Triplet: ['', 'Epoch [172/300] Loss P3: 0.3414 Loss ResNet101: 0.4097', 'Prototype3 Encoder Test Accuracy: 87.07%', 'ResNet101 Test Accuracy: 84.92%']\n",
      "Triplet: ['', 'Epoch [173/300] Loss P3: 0.3455 Loss ResNet101: 0.4124', 'Prototype3 Encoder Test Accuracy: 87.15%', 'ResNet101 Test Accuracy: 84.62%']\n",
      "Triplet: ['', 'Epoch [174/300] Loss P3: 0.3379 Loss ResNet101: 0.4150', 'Prototype3 Encoder Test Accuracy: 86.42%', 'ResNet101 Test Accuracy: 84.59%']\n",
      "Triplet: ['', 'Epoch [175/300] Loss P3: 0.3372 Loss ResNet101: 0.4076', 'Prototype3 Encoder Test Accuracy: 86.83%', 'ResNet101 Test Accuracy: 83.88%']\n",
      "Triplet: ['', 'Epoch [176/300] Loss P3: 0.3340 Loss ResNet101: 0.4038', 'Prototype3 Encoder Test Accuracy: 86.71%', 'ResNet101 Test Accuracy: 84.76%']\n",
      "Triplet: ['', 'Epoch [177/300] Loss P3: 0.3323 Loss ResNet101: 0.3956', 'Prototype3 Encoder Test Accuracy: 86.77%', 'ResNet101 Test Accuracy: 84.72%']\n",
      "Triplet: ['', 'Epoch [178/300] Loss P3: 0.3322 Loss ResNet101: 0.3965', 'Prototype3 Encoder Test Accuracy: 87.04%', 'ResNet101 Test Accuracy: 84.77%']\n",
      "Triplet: ['', 'Epoch [179/300] Loss P3: 0.3273 Loss ResNet101: 0.3884', 'Prototype3 Encoder Test Accuracy: 86.88%', 'ResNet101 Test Accuracy: 84.34%']\n",
      "Triplet: ['', 'Epoch [180/300] Loss P3: 0.3260 Loss ResNet101: 0.3938', 'Prototype3 Encoder Test Accuracy: 86.79%', 'ResNet101 Test Accuracy: 84.54%']\n",
      "Triplet: ['', 'Epoch [181/300] Loss P3: 0.3311 Loss ResNet101: 0.3876', 'Prototype3 Encoder Test Accuracy: 86.48%', 'ResNet101 Test Accuracy: 84.56%']\n",
      "Triplet: ['', 'Epoch [182/300] Loss P3: 0.3308 Loss ResNet101: 0.3908', 'Prototype3 Encoder Test Accuracy: 86.78%', 'ResNet101 Test Accuracy: 84.77%']\n",
      "Triplet: ['', 'Epoch [183/300] Loss P3: 0.3197 Loss ResNet101: 0.3779', 'Prototype3 Encoder Test Accuracy: 86.44%', 'ResNet101 Test Accuracy: 84.40%']\n",
      "Triplet: ['', 'Epoch [184/300] Loss P3: 0.3184 Loss ResNet101: 0.4112', 'Prototype3 Encoder Test Accuracy: 87.11%', 'ResNet101 Test Accuracy: 81.09%']\n",
      "Triplet: ['', 'Epoch [185/300] Loss P3: 0.3207 Loss ResNet101: 0.4049', 'Prototype3 Encoder Test Accuracy: 86.80%', 'ResNet101 Test Accuracy: 84.73%']\n",
      "Triplet: ['', 'Epoch [186/300] Loss P3: 0.3272 Loss ResNet101: 0.3835', 'Prototype3 Encoder Test Accuracy: 86.79%', 'ResNet101 Test Accuracy: 84.49%']\n",
      "Triplet: ['', 'Epoch [187/300] Loss P3: 0.3164 Loss ResNet101: 0.3790', 'Prototype3 Encoder Test Accuracy: 86.71%', 'ResNet101 Test Accuracy: 83.76%']\n",
      "Triplet: ['', 'Epoch [188/300] Loss P3: 0.3160 Loss ResNet101: 0.3844', 'Prototype3 Encoder Test Accuracy: 87.03%', 'ResNet101 Test Accuracy: 85.01%']\n",
      "Triplet: ['', 'Epoch [189/300] Loss P3: 0.3110 Loss ResNet101: 0.3641', 'Prototype3 Encoder Test Accuracy: 86.61%', 'ResNet101 Test Accuracy: 85.35%']\n",
      "Triplet: ['', 'Epoch [190/300] Loss P3: 0.3175 Loss ResNet101: 0.3651', 'Prototype3 Encoder Test Accuracy: 86.87%', 'ResNet101 Test Accuracy: 85.21%']\n",
      "Triplet: ['', 'Epoch [191/300] Loss P3: 0.3102 Loss ResNet101: 0.3664', 'Prototype3 Encoder Test Accuracy: 86.81%', 'ResNet101 Test Accuracy: 85.27%']\n",
      "Triplet: ['', 'Epoch [192/300] Loss P3: 0.3076 Loss ResNet101: 0.3645', 'Prototype3 Encoder Test Accuracy: 87.07%', 'ResNet101 Test Accuracy: 84.75%']\n",
      "Triplet: ['', 'Epoch [193/300] Loss P3: 0.3085 Loss ResNet101: 0.3621', 'Prototype3 Encoder Test Accuracy: 87.07%', 'ResNet101 Test Accuracy: 84.98%']\n",
      "Triplet: ['', 'Epoch [194/300] Loss P3: 0.3108 Loss ResNet101: 0.3627', 'Prototype3 Encoder Test Accuracy: 86.66%', 'ResNet101 Test Accuracy: 85.13%']\n",
      "Triplet: ['', 'Epoch [195/300] Loss P3: 0.3086 Loss ResNet101: 0.3555', 'Prototype3 Encoder Test Accuracy: 86.99%', 'ResNet101 Test Accuracy: 85.50%']\n",
      "Triplet: ['', 'Epoch [196/300] Loss P3: 0.3029 Loss ResNet101: 0.3516', 'Prototype3 Encoder Test Accuracy: 87.17%', 'ResNet101 Test Accuracy: 85.03%']\n",
      "Triplet: ['', 'Epoch [197/300] Loss P3: 0.3000 Loss ResNet101: 0.3573', 'Prototype3 Encoder Test Accuracy: 86.56%', 'ResNet101 Test Accuracy: 85.12%']\n",
      "Triplet: ['', 'Epoch [198/300] Loss P3: 0.3017 Loss ResNet101: 0.3475', 'Prototype3 Encoder Test Accuracy: 86.97%', 'ResNet101 Test Accuracy: 85.27%']\n",
      "Triplet: ['', 'Epoch [199/300] Loss P3: 0.3003 Loss ResNet101: 0.3487', 'Prototype3 Encoder Test Accuracy: 87.00%', 'ResNet101 Test Accuracy: 85.17%']\n",
      "Triplet: ['', 'Epoch [200/300] Loss P3: 0.2943 Loss ResNet101: 0.3470', 'Prototype3 Encoder Test Accuracy: 86.83%', 'ResNet101 Test Accuracy: 85.24%']\n",
      "Triplet: ['', 'Epoch [201/300] Loss P3: 0.2958 Loss ResNet101: 0.3428', 'Prototype3 Encoder Test Accuracy: 87.04%', 'ResNet101 Test Accuracy: 85.72%']\n",
      "Triplet: ['', 'Epoch [202/300] Loss P3: 0.2898 Loss ResNet101: 0.3390', 'Prototype3 Encoder Test Accuracy: 86.52%', 'ResNet101 Test Accuracy: 85.30%']\n",
      "Triplet: ['', 'Epoch [203/300] Loss P3: 0.2896 Loss ResNet101: 0.3424', 'Prototype3 Encoder Test Accuracy: 86.81%', 'ResNet101 Test Accuracy: 85.16%']\n",
      "Triplet: ['', 'Epoch [204/300] Loss P3: 0.2904 Loss ResNet101: 0.3385', 'Prototype3 Encoder Test Accuracy: 86.90%', 'ResNet101 Test Accuracy: 85.33%']\n",
      "Triplet: ['', 'Epoch [205/300] Loss P3: 0.2891 Loss ResNet101: 0.3405', 'Prototype3 Encoder Test Accuracy: 86.89%', 'ResNet101 Test Accuracy: 85.51%']\n",
      "Triplet: ['', 'Epoch [206/300] Loss P3: 0.2920 Loss ResNet101: 0.3315', 'Prototype3 Encoder Test Accuracy: 86.95%', 'ResNet101 Test Accuracy: 85.47%']\n",
      "Triplet: ['', 'Epoch [207/300] Loss P3: 0.2881 Loss ResNet101: 0.3328', 'Prototype3 Encoder Test Accuracy: 86.97%', 'ResNet101 Test Accuracy: 85.79%']\n",
      "Triplet: ['', 'Epoch [208/300] Loss P3: 0.2888 Loss ResNet101: 0.3394', 'Prototype3 Encoder Test Accuracy: 87.17%', 'ResNet101 Test Accuracy: 85.04%']\n",
      "Triplet: ['', 'Epoch [209/300] Loss P3: 0.2849 Loss ResNet101: 0.3312', 'Prototype3 Encoder Test Accuracy: 87.13%', 'ResNet101 Test Accuracy: 85.50%']\n",
      "Triplet: ['', 'Epoch [210/300] Loss P3: 0.2809 Loss ResNet101: 0.3211', 'Prototype3 Encoder Test Accuracy: 86.94%', 'ResNet101 Test Accuracy: 85.42%']\n",
      "Triplet: ['', 'Epoch [211/300] Loss P3: 0.2883 Loss ResNet101: 0.3314', 'Prototype3 Encoder Test Accuracy: 87.35%', 'ResNet101 Test Accuracy: 85.67%']\n",
      "Triplet: ['', 'Epoch [212/300] Loss P3: 0.2818 Loss ResNet101: 0.3249', 'Prototype3 Encoder Test Accuracy: 87.12%', 'ResNet101 Test Accuracy: 85.57%']\n",
      "Triplet: ['', 'Epoch [213/300] Loss P3: 0.2834 Loss ResNet101: 0.3210', 'Prototype3 Encoder Test Accuracy: 86.73%', 'ResNet101 Test Accuracy: 85.61%']\n",
      "Triplet: ['', 'Epoch [214/300] Loss P3: 0.2775 Loss ResNet101: 0.3212', 'Prototype3 Encoder Test Accuracy: 87.29%', 'ResNet101 Test Accuracy: 85.57%']\n",
      "Triplet: ['', 'Epoch [215/300] Loss P3: 0.2795 Loss ResNet101: 0.3199', 'Prototype3 Encoder Test Accuracy: 86.94%', 'ResNet101 Test Accuracy: 85.08%']\n",
      "Triplet: ['', 'Epoch [216/300] Loss P3: 0.2763 Loss ResNet101: 0.3215', 'Prototype3 Encoder Test Accuracy: 87.13%', 'ResNet101 Test Accuracy: 85.44%']\n",
      "Triplet: ['', 'Epoch [217/300] Loss P3: 0.2768 Loss ResNet101: 0.3203', 'Prototype3 Encoder Test Accuracy: 87.29%', 'ResNet101 Test Accuracy: 85.38%']\n",
      "Triplet: ['', 'Epoch [218/300] Loss P3: 0.2780 Loss ResNet101: 0.3190', 'Prototype3 Encoder Test Accuracy: 87.03%', 'ResNet101 Test Accuracy: 85.54%']\n",
      "Triplet: ['', 'Epoch [219/300] Loss P3: 0.2746 Loss ResNet101: 0.3110', 'Prototype3 Encoder Test Accuracy: 87.15%', 'ResNet101 Test Accuracy: 85.33%']\n",
      "Triplet: ['', 'Epoch [220/300] Loss P3: 0.2717 Loss ResNet101: 0.3115', 'Prototype3 Encoder Test Accuracy: 87.16%', 'ResNet101 Test Accuracy: 85.35%']\n",
      "Triplet: ['', 'Epoch [221/300] Loss P3: 0.2710 Loss ResNet101: 0.3106', 'Prototype3 Encoder Test Accuracy: 87.30%', 'ResNet101 Test Accuracy: 85.24%']\n",
      "Triplet: ['', 'Epoch [222/300] Loss P3: 0.2735 Loss ResNet101: 0.3122', 'Prototype3 Encoder Test Accuracy: 87.15%', 'ResNet101 Test Accuracy: 85.28%']\n",
      "Triplet: ['', 'Epoch [223/300] Loss P3: 0.2679 Loss ResNet101: 0.3100', 'Prototype3 Encoder Test Accuracy: 86.96%', 'ResNet101 Test Accuracy: 85.80%']\n",
      "Triplet: ['', 'Epoch [224/300] Loss P3: 0.2717 Loss ResNet101: 0.3090', 'Prototype3 Encoder Test Accuracy: 87.19%', 'ResNet101 Test Accuracy: 85.68%']\n",
      "Triplet: ['', 'Epoch [225/300] Loss P3: 0.2682 Loss ResNet101: 0.3023', 'Prototype3 Encoder Test Accuracy: 87.19%', 'ResNet101 Test Accuracy: 85.43%']\n",
      "Triplet: ['', 'Epoch [226/300] Loss P3: 0.2705 Loss ResNet101: 0.3013', 'Prototype3 Encoder Test Accuracy: 87.31%', 'ResNet101 Test Accuracy: 85.28%']\n",
      "Triplet: ['', 'Epoch [227/300] Loss P3: 0.2724 Loss ResNet101: 0.3067', 'Prototype3 Encoder Test Accuracy: 87.16%', 'ResNet101 Test Accuracy: 85.16%']\n",
      "Triplet: ['', 'Epoch [228/300] Loss P3: 0.2659 Loss ResNet101: 0.2992', 'Prototype3 Encoder Test Accuracy: 87.05%', 'ResNet101 Test Accuracy: 85.46%']\n",
      "Triplet: ['', 'Epoch [229/300] Loss P3: 0.2640 Loss ResNet101: 0.2983', 'Prototype3 Encoder Test Accuracy: 86.93%', 'ResNet101 Test Accuracy: 85.31%']\n",
      "Triplet: ['', 'Epoch [230/300] Loss P3: 0.2638 Loss ResNet101: 0.3023', 'Prototype3 Encoder Test Accuracy: 87.27%', 'ResNet101 Test Accuracy: 85.62%']\n",
      "Triplet: ['', 'Epoch [231/300] Loss P3: 0.2614 Loss ResNet101: 0.2959', 'Prototype3 Encoder Test Accuracy: 87.32%', 'ResNet101 Test Accuracy: 85.47%']\n",
      "Triplet: ['', 'Epoch [232/300] Loss P3: 0.2651 Loss ResNet101: 0.2961', 'Prototype3 Encoder Test Accuracy: 87.57%', 'ResNet101 Test Accuracy: 85.50%']\n",
      "Triplet: ['', 'Epoch [233/300] Loss P3: 0.2603 Loss ResNet101: 0.2965', 'Prototype3 Encoder Test Accuracy: 87.50%', 'ResNet101 Test Accuracy: 85.47%']\n",
      "Triplet: ['', 'Epoch [234/300] Loss P3: 0.2634 Loss ResNet101: 0.2939', 'Prototype3 Encoder Test Accuracy: 87.36%', 'ResNet101 Test Accuracy: 85.62%']\n",
      "Triplet: ['', 'Epoch [235/300] Loss P3: 0.2606 Loss ResNet101: 0.2945', 'Prototype3 Encoder Test Accuracy: 87.38%', 'ResNet101 Test Accuracy: 85.57%']\n",
      "Triplet: ['', 'Epoch [236/300] Loss P3: 0.2603 Loss ResNet101: 0.2915', 'Prototype3 Encoder Test Accuracy: 87.21%', 'ResNet101 Test Accuracy: 85.40%']\n",
      "Triplet: ['', 'Epoch [237/300] Loss P3: 0.2530 Loss ResNet101: 0.2871', 'Prototype3 Encoder Test Accuracy: 87.29%', 'ResNet101 Test Accuracy: 85.48%']\n",
      "Triplet: ['', 'Epoch [238/300] Loss P3: 0.2518 Loss ResNet101: 0.2869', 'Prototype3 Encoder Test Accuracy: 87.42%', 'ResNet101 Test Accuracy: 85.45%']\n",
      "Triplet: ['', 'Epoch [239/300] Loss P3: 0.2565 Loss ResNet101: 0.2854', 'Prototype3 Encoder Test Accuracy: 87.44%', 'ResNet101 Test Accuracy: 85.18%']\n",
      "Triplet: ['', 'Epoch [240/300] Loss P3: 0.2543 Loss ResNet101: 0.2867', 'Prototype3 Encoder Test Accuracy: 87.50%', 'ResNet101 Test Accuracy: 85.52%']\n",
      "Triplet: ['', 'Epoch [241/300] Loss P3: 0.2530 Loss ResNet101: 0.2804', 'Prototype3 Encoder Test Accuracy: 87.53%', 'ResNet101 Test Accuracy: 85.63%']\n",
      "Triplet: ['', 'Epoch [242/300] Loss P3: 0.2540 Loss ResNet101: 0.2863', 'Prototype3 Encoder Test Accuracy: 87.27%', 'ResNet101 Test Accuracy: 85.49%']\n",
      "Triplet: ['', 'Epoch [243/300] Loss P3: 0.2546 Loss ResNet101: 0.2827', 'Prototype3 Encoder Test Accuracy: 87.43%', 'ResNet101 Test Accuracy: 85.59%']\n",
      "Triplet: ['', 'Epoch [244/300] Loss P3: 0.2521 Loss ResNet101: 0.2806', 'Prototype3 Encoder Test Accuracy: 87.43%', 'ResNet101 Test Accuracy: 85.53%']\n",
      "Triplet: ['', 'Epoch [245/300] Loss P3: 0.2478 Loss ResNet101: 0.2800', 'Prototype3 Encoder Test Accuracy: 87.47%', 'ResNet101 Test Accuracy: 85.46%']\n",
      "Triplet: ['', 'Epoch [246/300] Loss P3: 0.2404 Loss ResNet101: 0.2711', 'Prototype3 Encoder Test Accuracy: 87.55%', 'ResNet101 Test Accuracy: 85.54%']\n",
      "Triplet: ['', 'Epoch [247/300] Loss P3: 0.2536 Loss ResNet101: 0.2830', 'Prototype3 Encoder Test Accuracy: 87.43%', 'ResNet101 Test Accuracy: 85.55%']\n",
      "Triplet: ['', 'Epoch [248/300] Loss P3: 0.2537 Loss ResNet101: 0.2857', 'Prototype3 Encoder Test Accuracy: 87.35%', 'ResNet101 Test Accuracy: 85.28%']\n",
      "Triplet: ['', 'Epoch [249/300] Loss P3: 0.2468 Loss ResNet101: 0.2709', 'Prototype3 Encoder Test Accuracy: 87.45%', 'ResNet101 Test Accuracy: 85.59%']\n",
      "Epochs: [1, 2, 3, 4, 5]\n",
      "Loss P3: [2.1219, 1.9068, 1.8096, 1.7258, 1.6511]\n",
      "Loss ResNet: [2.2419, 1.9833, 1.8937, 1.903, 1.7927]\n",
      "Acc P3: [26.28, 27.91, 39.82, 42.23, 48.67]\n",
      "Acc ResNet: [30.98, 35.51, 35.65, 42.29, 45.18]\n",
      "Total samples: 249\n"
     ]
    },
    {
     "data": {
      "text/plain": [
       "<matplotlib.legend.Legend at 0x1f60507d670>"
      ]
     },
     "execution_count": 25,
     "metadata": {},
     "output_type": "execute_result"
    },
    {
     "data": {
      "image/png": "[encoded data removed]",
      "text/plain": [
       "<Figure size 1200x600 with 2 Axes>"
      ]
     },
     "metadata": {},
     "output_type": "display_data"
    }
   ],
   "source": [
    "import matplotlib.pyplot as plt\n",
    "%matplotlib inline\n",
    "import numpy as np\n",
    "import re\n",
    "\n",
    "file_path = 'benchmark_resnet101.txt'\n",
    "epochs, loss_p3, loss_resnet, acc_p3, acc_resnet = extract_metrics_from_file(file_path)\n",
    "\n",
    "print(f\"Epochs: {epochs[:5]}\")\n",
    "print(f\"Loss P3: {loss_p3[:5]}\")\n",
    "print(f\"Loss ResNet: {loss_resnet[:5]}\")\n",
    "print(f\"Acc P3: {acc_p3[:5]}\")\n",
    "print(f\"Acc ResNet: {acc_resnet[:5]}\")\n",
    "print(f\"Total samples: {len(acc_resnet)}\")\n",
    "plt.figure(figsize=(12, 6))\n",
    "plt.subplot(1, 2, 1)\n",
    "plt.plot(epochs, loss_p3, label='Loss P3', color='blue')\n",
    "plt.plot(epochs, loss_resnet, label='Loss ResNet', color='orange')\n",
    "plt.xlabel('Epochs')\n",
    "plt.ylabel('Loss')\n",
    "plt.title('Loss vs Epochs')\n",
    "plt.legend()\n",
    "plt.grid()\n",
    "plt.subplot(1, 2, 2)\n",
    "plt.plot(epochs, acc_p3, label='Acc P3', color='green')\n",
    "plt.plot(epochs, acc_resnet, label='Acc ResNet', color='red')\n",
    "plt.xlabel('Epochs')\n",
    "plt.ylabel('Accuracy')\n",
    "plt.title('Accuracy vs Epochs')\n",
    "plt.legend()\n"
   ]
  }
 ],
 "metadata": {
  "kernelspec": {
   "display_name": ".venv",
   "language": "python",
   "name": "python3"
  },
  "language_info": {
   "codemirror_mode": {
    "name": "ipython",
    "version": 3
   },
   "file_extension": ".py",
   "mimetype": "text/x-python",
   "name": "python",
   "nbconvert_exporter": "python",
   "pygments_lexer": "ipython3",
   "version": "3.12.10"
  }
 },
 "nbformat": 4,
 "nbformat_minor": 2
}
