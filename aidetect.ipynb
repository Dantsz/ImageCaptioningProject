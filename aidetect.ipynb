{
 "cells": [
  {
   "cell_type": "code",
   "execution_count": 2,
   "id": "331c1415",
   "metadata": {
    "id": "331c1415"
   },
   "outputs": [],
   "source": [
    "%load_ext autoreload\n",
    "%autoreload 2"
   ]
  },
  {
   "cell_type": "code",
   "execution_count": 9,
   "id": "0a3c60a7",
   "metadata": {
    "id": "0a3c60a7"
   },
   "outputs": [],
   "source": [
    "import kagglehub\n",
    "import polars as pl\n",
    "import os\n",
    "import torch\n",
    "import torch.nn as nn\n",
    "import torch.optim as optim\n",
    "from torchvision.transforms import v2\n",
    "from torchvision.models import VisionTransformer\n",
    "from PIL import Image\n",
    "import os\n",
    "from torch.utils.data import Dataset, DataLoader\n",
    "import numpy as np\n",
    "from matplotlib import pyplot as plt\n",
    "%matplotlib inline\n",
    "import time\n",
    "import tqdm"
   ]
  },
  {
   "cell_type": "markdown",
   "id": "bd48872d",
   "metadata": {
    "id": "bd48872d"
   },
   "source": [
    "# Fetch the dataset from Kaggle"
   ]
  },
  {
   "cell_type": "code",
   "execution_count": 4,
   "id": "eb8627dc",
   "metadata": {
    "colab": {
     "base_uri": "https://localhost:8080/"
    },
    "id": "eb8627dc",
    "outputId": "51867e01-ac56-4dae-ffde-b47021f188ea"
   },
   "outputs": [
    {
     "name": "stdout",
     "output_type": "stream",
     "text": [
      "Path to dataset files: /home/dan/.cache/kagglehub/datasets/shreyasraghav/shutterstock-dataset-for-ai-vs-human-gen-image/versions/2\n"
     ]
    }
   ],
   "source": [
    "\n",
    "# Download latest version\n",
    "path = kagglehub.dataset_download(\"shreyasraghav/shutterstock-dataset-for-ai-vs-human-gen-image\")\n",
    "print(\"Path to dataset files:\", path)\n",
    "train_data_path = os.path.join(path, \"train.csv\")"
   ]
  },
  {
   "cell_type": "markdown",
   "id": "d75b9953",
   "metadata": {
    "id": "d75b9953"
   },
   "source": [
    "# Create a dataloader"
   ]
  },
  {
   "cell_type": "code",
   "execution_count": 15,
   "id": "e79843eb",
   "metadata": {
    "id": "e79843eb"
   },
   "outputs": [],
   "source": [
    "class ImageDataset(Dataset):\n",
    "    def __init__(self, image_paths, labels, transform=None):\n",
    "        self.image_paths = image_paths\n",
    "        self.labels = labels\n",
    "        self.transform = transform\n",
    "\n",
    "    def __len__(self):\n",
    "        return len(self.image_paths)\n",
    "\n",
    "    def __getitem__(self, idx):\n",
    "        image_path = self.image_paths[idx]\n",
    "        image = Image.open(image_path).convert(\"RGB\")  # Ensure RGB\n",
    "        label = torch.tensor([float(self.labels[idx])], dtype=torch.float)  # Binary labels\n",
    "\n",
    "        if self.transform:\n",
    "            image = self.transform(image)\n",
    "\n",
    "        return image, label\n",
    "\n",
    "def load_data(data: pl.DataFrame, train_ratio: float = 0.8) -> tuple[DataLoader, DataLoader]:\n",
    "    image_paths = data['path'].to_list()\n",
    "    labels = data['label'].to_list()\n",
    "\n",
    "    transform = v2.Compose([\n",
    "        #v2.Resize((224, 224)),\n",
    "        v2.RandomCrop((224, 224)),\n",
    "        v2.ToTensor(),\n",
    "        v2.Normalize(mean=[0.485, 0.456, 0.406], std=[0.229, 0.224, 0.225]),\n",
    "    ])\n",
    "\n",
    "    dataset = ImageDataset(image_paths, labels, transform=transform)\n",
    "    # make sure the lengths of train/test add up to the original\n",
    "    train_len = int(len(dataset) * train_ratio)\n",
    "    test_len = len(dataset) - train_len\n",
    "    train, test = torch.utils.data.random_split(dataset, [train_len, test_len])\n",
    "    dataloader_train = DataLoader(train, batch_size=32, shuffle=True)\n",
    "    dataloader_test = DataLoader(test, batch_size=32, shuffle=True)\n",
    "    return dataloader_train, dataloader_test"
   ]
  },
  {
   "cell_type": "markdown",
   "id": "8c597909",
   "metadata": {
    "id": "8c597909"
   },
   "source": [
    "# Setup the data loader"
   ]
  },
  {
   "cell_type": "code",
   "execution_count": 16,
   "id": "d2ed3fdf",
   "metadata": {
    "id": "d2ed3fdf"
   },
   "outputs": [],
   "source": [
    "# setup the polars dataframe containing the path and label of the images\n",
    "train_data = pl.read_csv(train_data_path)\n",
    "# prepend the path with the path to the dataset\n",
    "train_data = train_data.with_columns([pl.col(\"file_name\").map_elements(lambda s: os.path.join(path, s), return_dtype=str).alias(\"path\")])"
   ]
  },
  {
   "cell_type": "code",
   "execution_count": 17,
   "id": "17bbf863",
   "metadata": {
    "id": "17bbf863"
   },
   "outputs": [
    {
     "name": "stderr",
     "output_type": "stream",
     "text": [
      "/mnt/1EC2AF28C2AF035F/fac/M1/IP/aiimgdetect/.venv/lib/python3.12/site-packages/torchvision/transforms/v2/_deprecated.py:42: UserWarning: The transform `ToTensor()` is deprecated and will be removed in a future release. Instead, please use `v2.Compose([v2.ToImage(), v2.ToDtype(torch.float32, scale=True)])`.Output is equivalent up to float precision.\n",
      "  warnings.warn(\n"
     ]
    }
   ],
   "source": [
    "dataloader_train, dataloader_test = load_data(train_data)\n",
    "#display the first image\n",
    "# img, label = next(iter(dataloader))\n",
    "# print(img.shape, label.shape)\n",
    "# plt.imshow(img[0].permute(1, 2, 0))"
   ]
  },
  {
   "cell_type": "markdown",
   "id": "2fb69134",
   "metadata": {
    "id": "2fb69134"
   },
   "source": [
    "# Create the model architecture"
   ]
  },
  {
   "cell_type": "code",
   "execution_count": 18,
   "id": "95b97d10",
   "metadata": {
    "id": "95b97d10"
   },
   "outputs": [],
   "source": [
    "class BinaryViT(nn.Module):\n",
    "    def __init__(self):\n",
    "        super(BinaryViT, self).__init__()\n",
    "        self.vit = VisionTransformer(\n",
    "                    image_size=224,    # Input image size\n",
    "                    patch_size=16,     # Patch size\n",
    "                    hidden_dim=768,          # Embedding dimension\n",
    "                    num_layers=12,         # Number of transformer layers\n",
    "                    num_heads=12,         # Number of attention heads\n",
    "                    mlp_dim=3072,     # Feedforward MLP dimension\n",
    "                    dropout=0.1,      # Dropout probability\n",
    "                    num_classes=1  # Output classes\n",
    "                )\n",
    "    def forward(self, x):\n",
    "        x = self.vit(x)\n",
    "        return x\n",
    "\n",
    "class CNNAttempt(nn.Module):\n",
    "    def __init__(self):\n",
    "        super(CNNAttempt, self).__init__()\n",
    "        self.conv1 = nn.Conv2d(3, 32, kernel_size=3, stride=1, padding=1)\n",
    "        self.bn1 = nn.BatchNorm2d(32)\n",
    "        self.conv2 = nn.Conv2d(32, 64, kernel_size=3, stride=1, padding=1)\n",
    "        self.bn2 = nn.BatchNorm2d(64)\n",
    "        self.pool = nn.MaxPool2d(kernel_size=2, stride=2, padding=0)\n",
    "        self.fc1 = nn.Linear(64 * 56 * 56, 512)\n",
    "        self.fc2 = nn.Linear(512, 1)  # Binary output\n",
    "        self.act= nn.ReLU()\n",
    "        self.dropout = nn.Dropout(0.1)\n",
    "\n",
    "    def forward(self, x):\n",
    "        x = self.pool(self.act(self.bn1(self.conv1(x))))\n",
    "        x = self.dropout(x)\n",
    "        x = self.pool(self.act(self.bn2(self.conv2(x))))\n",
    "        x = self.dropout(x)\n",
    "        x = x.view(x.size(0), -1)\n",
    "        x = self.act(self.fc1(x))\n",
    "        x = self.fc2(x)\n",
    "        return x\n"
   ]
  },
  {
   "cell_type": "markdown",
   "id": "a3097b23",
   "metadata": {
    "id": "a3097b23"
   },
   "source": [
    "# Training"
   ]
  },
  {
   "cell_type": "code",
   "execution_count": 1,
   "id": "1c44fb22",
   "metadata": {
    "id": "1c44fb22"
   },
   "outputs": [
    {
     "ename": "NameError",
     "evalue": "name 'nn' is not defined",
     "output_type": "error",
     "traceback": [
      "\u001b[31m---------------------------------------------------------------------------\u001b[39m",
      "\u001b[31mNameError\u001b[39m                                 Traceback (most recent call last)",
      "\u001b[36mCell\u001b[39m\u001b[36m \u001b[39m\u001b[32mIn[1]\u001b[39m\u001b[32m, line 7\u001b[39m\n\u001b[32m      4\u001b[39m     accuracies  : \u001b[38;5;28mlist\u001b[39m[\u001b[38;5;28mfloat\u001b[39m]\n\u001b[32m      5\u001b[39m     losses      : \u001b[38;5;28mlist\u001b[39m[\u001b[38;5;28mfloat\u001b[39m]\n\u001b[32m----> \u001b[39m\u001b[32m7\u001b[39m \u001b[38;5;28;01mdef\u001b[39;00m\u001b[38;5;250m \u001b[39m\u001b[34mtrain\u001b[39m(model: \u001b[43mnn\u001b[49m.Module, dataloader, criterion, optimizer, epochs, device) -> TrainReport:\n\u001b[32m      8\u001b[39m     report = TrainReport([], [])\n\u001b[32m      9\u001b[39m     model.train()\n",
      "\u001b[31mNameError\u001b[39m: name 'nn' is not defined"
     ]
    }
   ],
   "source": [
    "from dataclasses import dataclass\n",
    "@dataclass\n",
    "class TrainReport:\n",
    "    accuracies  : list[float]\n",
    "    losses      : list[float]\n",
    "\n",
    "def train(model: nn.Module, dataloader, criterion, optimizer, epochs, device) -> TrainReport:\n",
    "    report = TrainReport([], [])\n",
    "    model.train()\n",
    "    for epoch in range(epochs):\n",
    "        running_loss = 0.0\n",
    "        for images, labels in tqdm.tqdm(dataloader, leave=False):\n",
    "            images, labels = images.to(device), labels.to(device)\n",
    "\n",
    "            optimizer.zero_grad()\n",
    "            outputs = model(images)\n",
    "            loss = criterion(outputs, labels)\n",
    "            loss.backward()\n",
    "            optimizer.step()\n",
    "\n",
    "            running_loss += loss.item()\n",
    "            report.losses.append(loss.item())\n",
    "            #outputs ar in range 0-1, for report just use 0.5 as threshold\n",
    "            report.accuracies.append(((outputs > 0.5) == labels).float().mean().item())\n",
    "\n",
    "        print(f\"Epoch {epoch+1}/{epochs}, Loss: {running_loss/len(dataloader)}\")\n",
    "    return report"
   ]
  },
  {
   "cell_type": "code",
   "execution_count": null,
   "id": "92d0949d",
   "metadata": {
    "colab": {
     "base_uri": "https://localhost:8080/"
    },
    "id": "92d0949d",
    "outputId": "5846bb4a-3e6c-414e-aa00-2da6cf6c5cd5"
   },
   "outputs": [
    {
     "name": "stdout",
     "output_type": "stream",
     "text": [
      "Using device: cpu\n",
      "Training...\n"
     ]
    },
    {
     "name": "stderr",
     "output_type": "stream",
     "text": [
      "                                             \r"
     ]
    },
    {
     "name": "stdout",
     "output_type": "stream",
     "text": [
      "Epoch 1/10, Loss: 0.7220007181167603\n"
     ]
    },
    {
     "name": "stderr",
     "output_type": "stream",
     "text": [
      "                                             \r"
     ]
    },
    {
     "name": "stdout",
     "output_type": "stream",
     "text": [
      "Epoch 2/10, Loss: 7.7525177001953125\n"
     ]
    },
    {
     "name": "stderr",
     "output_type": "stream",
     "text": [
      "                                             \r"
     ]
    },
    {
     "name": "stdout",
     "output_type": "stream",
     "text": [
      "Epoch 3/10, Loss: 1.242151141166687\n"
     ]
    },
    {
     "name": "stderr",
     "output_type": "stream",
     "text": [
      "                                             \r"
     ]
    },
    {
     "name": "stdout",
     "output_type": "stream",
     "text": [
      "Epoch 4/10, Loss: 4.694639205932617\n"
     ]
    },
    {
     "name": "stderr",
     "output_type": "stream",
     "text": [
      "                                             \r"
     ]
    },
    {
     "name": "stdout",
     "output_type": "stream",
     "text": [
      "Epoch 5/10, Loss: 0.9812393188476562\n"
     ]
    },
    {
     "name": "stderr",
     "output_type": "stream",
     "text": [
      "                                             \r"
     ]
    },
    {
     "name": "stdout",
     "output_type": "stream",
     "text": [
      "Epoch 6/10, Loss: 1.3351993560791016\n"
     ]
    },
    {
     "name": "stderr",
     "output_type": "stream",
     "text": [
      "                                             \r"
     ]
    },
    {
     "name": "stdout",
     "output_type": "stream",
     "text": [
      "Epoch 7/10, Loss: 1.0552270412445068\n"
     ]
    },
    {
     "name": "stderr",
     "output_type": "stream",
     "text": [
      "                                             \r"
     ]
    },
    {
     "name": "stdout",
     "output_type": "stream",
     "text": [
      "Epoch 8/10, Loss: 1.3842718601226807\n"
     ]
    },
    {
     "name": "stderr",
     "output_type": "stream",
     "text": [
      "                                             \r"
     ]
    },
    {
     "name": "stdout",
     "output_type": "stream",
     "text": [
      "Epoch 9/10, Loss: 1.2636377811431885\n"
     ]
    },
    {
     "name": "stderr",
     "output_type": "stream",
     "text": [
      "                                             "
     ]
    },
    {
     "name": "stdout",
     "output_type": "stream",
     "text": [
      "Epoch 10/10, Loss: 1.191901445388794\n",
      "Training took 18.00 seconds\n"
     ]
    },
    {
     "name": "stderr",
     "output_type": "stream",
     "text": [
      "\r"
     ]
    },
    {
     "ename": "",
     "evalue": "",
     "output_type": "error",
     "traceback": [
      "\u001b[1;31mThe Kernel crashed while executing code in the current cell or a previous cell. \n",
      "\u001b[1;31mPlease review the code in the cell(s) to identify a possible cause of the failure. \n",
      "\u001b[1;31mClick <a href='https://aka.ms/vscodeJupyterKernelCrash'>here</a> for more info. \n",
      "\u001b[1;31mView Jupyter <a href='command:jupyter.viewOutput'>log</a> for further details."
     ]
    }
   ],
   "source": [
    "data_for_train = torch.utils.data.Subset(dataloader_train.dataset, range(10_000))\n",
    "data_for_train = DataLoader(data_for_train, batch_size=64, shuffle=True)\n",
    "model = CNNAttempt()\n",
    "device = torch.device(\"cuda\" if torch.cuda.is_available() else \"cpu\")\n",
    "print(f\"Using device: {device}\")\n",
    "model.to(device)\n",
    "criterion = nn.BCEWithLogitsLoss()\n",
    "optimizer = optim.Adam(model.parameters(), lr=0.0001)\n",
    "print('Training...')\n",
    "start = time.time()\n",
    "report = train(model, data_for_train, criterion, optimizer, 10, device)\n",
    "print(f\"Training took {time.time()-start:.2f} seconds\")\n"
   ]
  },
  {
   "cell_type": "markdown",
   "id": "a90f606a",
   "metadata": {
    "id": "a90f606a"
   },
   "source": [
    "# Plots"
   ]
  },
  {
   "cell_type": "markdown",
   "id": "905b146d",
   "metadata": {
    "id": "905b146d"
   },
   "source": [
    "## Training loss and accuracy"
   ]
  },
  {
   "cell_type": "code",
   "execution_count": 24,
   "id": "da8928a6",
   "metadata": {
    "colab": {
     "base_uri": "https://localhost:8080/",
     "height": 362
    },
    "id": "da8928a6",
    "outputId": "edd8a394-9a0c-425a-b222-ea7e79cd5e34"
   },
   "outputs": [
    {
     "data": {
      "image/png": "[encoded data removed]",
      "text/plain": [
       "<Figure size 1200x400 with 2 Axes>"
      ]
     },
     "metadata": {},
     "output_type": "display_data"
    }
   ],
   "source": [
    "# plot the report loss and accuracy\n",
    "\n",
    "def plot_report(report: TrainReport):\n",
    "    fig, ax = plt.subplots(1, 2, figsize=(12, 4))\n",
    "    ax[0].plot(report.losses, color='red')\n",
    "    ax[0].set_title(\"Loss\")\n",
    "    ax[1].plot(report.accuracies)\n",
    "    ax[1].set_title(\"Accuracy\")\n",
    "    plt.show()\n",
    "\n",
    "plot_report(report)"
   ]
  },
  {
   "cell_type": "markdown",
   "id": "b2ccbab2",
   "metadata": {
    "id": "b2ccbab2"
   },
   "source": [
    "## Testing confusion matrix"
   ]
  },
  {
   "cell_type": "code",
   "execution_count": 27,
   "id": "7ac3b571",
   "metadata": {
    "colab": {
     "base_uri": "https://localhost:8080/",
     "height": 430
    },
    "id": "7ac3b571",
    "outputId": "3ac7963f-31c0-4f6d-ba68-c66b29f05b37"
   },
   "outputs": [
    {
     "data": {
      "image/png": "[encoded data removed]",
      "text/plain": [
       "<Figure size 640x480 with 2 Axes>"
      ]
     },
     "metadata": {},
     "output_type": "display_data"
    }
   ],
   "source": [
    "from seaborn import heatmap\n",
    "data_for_test = torch.utils.data.Subset(dataloader_test.dataset, range(10_000))\n",
    "data_for_test = DataLoader(data_for_test, batch_size=32, shuffle=True)\n",
    "# plot confusion matrix\n",
    "def plot_confusion_matrix(model, dataloader, device):\n",
    "    model.eval()\n",
    "    y_true = []\n",
    "    y_pred = []\n",
    "    for images, labels in dataloader:\n",
    "        images, labels = images.to(device), labels.to(device)\n",
    "        outputs = model(images)\n",
    "        y_true.extend(labels.cpu().numpy())\n",
    "        y_pred.extend((outputs > 0.5).cpu().numpy())\n",
    "    y_true = np.array(y_true)\n",
    "    y_pred = np.array(y_pred)\n",
    "    confusion_matrix = np.zeros((2, 2))\n",
    "    for i in range(2):\n",
    "        for j in range(2):\n",
    "            confusion_matrix[i, j] = np.sum((y_true == i) & (y_pred == j))\n",
    "    #plot confusion matrix, with\n",
    "    heatmap(confusion_matrix, annot=True)\n",
    "    plt.show()\n",
    "\n",
    "plot_confusion_matrix(model, data_for_test, device)\n"
   ]
  },
  {
   "cell_type": "markdown",
   "id": "9679f4da",
   "metadata": {
    "id": "9679f4da"
   },
   "source": [
    "# Metrics"
   ]
  },
  {
   "cell_type": "code",
   "execution_count": 29,
   "id": "a7a5fa4e",
   "metadata": {
    "colab": {
     "base_uri": "https://localhost:8080/"
    },
    "id": "a7a5fa4e",
    "outputId": "048ab635-60e0-43e3-cc98-c4e9b15d3151"
   },
   "outputs": [
    {
     "name": "stdout",
     "output_type": "stream",
     "text": [
      "Accuracy: 0.82, Precision: 0.98, Recall: 0.65\n"
     ]
    }
   ],
   "source": [
    "# compute scores\n",
    "def compute_scores(model, dataloader, device):\n",
    "    model.eval()\n",
    "    y_true = []\n",
    "    y_pred = []\n",
    "    for images, labels in dataloader:\n",
    "        images, labels = images.to(device), labels.to(device)\n",
    "        outputs = model(images)\n",
    "        y_true.extend(labels.cpu().numpy())\n",
    "        y_pred.extend((outputs > 0.5).cpu().numpy())\n",
    "    y_true = np.array(y_true)\n",
    "    y_pred = np.array(y_pred)\n",
    "    accuracy = np.mean(y_true == y_pred)\n",
    "    precision = np.sum((y_true == 1) & (y_pred == 1)) / np.sum(y_pred == 1)\n",
    "    recall = np.sum((y_true == 1) & (y_pred == 1)) / np.sum(y_true == 1)\n",
    "    return accuracy, precision, recall\n",
    "\n",
    "accuracy, precision, recall = compute_scores(model, data_for_test, device)\n",
    "print(f\"Accuracy: {accuracy:.2f}, Precision: {precision:.2f}, Recall: {recall:.2f}\")"
   ]
  },
  {
   "cell_type": "markdown",
   "id": "754b6558",
   "metadata": {
    "id": "754b6558"
   },
   "source": [
    "# Save the model"
   ]
  },
  {
   "cell_type": "code",
   "execution_count": 30,
   "id": "07c34bc0",
   "metadata": {
    "colab": {
     "base_uri": "https://localhost:8080/"
    },
    "id": "07c34bc0",
    "outputId": "49b375af-3e59-4755-8d2d-6396570694f1"
   },
   "outputs": [
    {
     "name": "stdout",
     "output_type": "stream",
     "text": [
      "Model saved as model.pth\n"
     ]
    }
   ],
   "source": [
    "torch.save(model.state_dict(), \"model.pth\")\n",
    "print(\"Model saved as model.pth\")"
   ]
  }
 ],
 "metadata": {
  "accelerator": "GPU",
  "colab": {
   "gpuType": "T4",
   "provenance": []
  },
  "kernelspec": {
   "display_name": ".venv",
   "language": "python",
   "name": "python3"
  },
  "language_info": {
   "codemirror_mode": {
    "name": "ipython",
    "version": 3
   },
   "file_extension": ".py",
   "mimetype": "text/x-python",
   "name": "python",
   "nbconvert_exporter": "python",
   "pygments_lexer": "ipython3",
   "version": "3.12.3"
  }
 },
 "nbformat": 4,
 "nbformat_minor": 5
}
