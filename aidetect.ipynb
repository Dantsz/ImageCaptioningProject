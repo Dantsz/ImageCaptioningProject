{
 "cells": [
  {
   "cell_type": "code",
   "execution_count": 2,
   "id": "331c1415",
   "metadata": {},
   "outputs": [],
   "source": [
    "%load_ext autoreload\n",
    "%autoreload 2"
   ]
  },
  {
   "cell_type": "code",
   "execution_count": 3,
   "id": "0a3c60a7",
   "metadata": {},
   "outputs": [
    {
     "name": "stderr",
     "output_type": "stream",
     "text": [
      "/mnt/1EC2AF28C2AF035F/fac/M1/IP/aiimgdetect/.venv/lib/python3.12/site-packages/tqdm/auto.py:21: TqdmWarning: IProgress not found. Please update jupyter and ipywidgets. See https://ipywidgets.readthedocs.io/en/stable/user_install.html\n",
      "  from .autonotebook import tqdm as notebook_tqdm\n"
     ]
    }
   ],
   "source": [
    "import kagglehub\n",
    "import polars as pl\n",
    "import os\n",
    "import torch\n",
    "import torch.nn as nn\n",
    "import torch.optim as optim\n",
    "from torchvision import transforms\n",
    "from torchvision.models import vit_b_16, ViT_B_16_Weights\n",
    "from PIL import Image\n",
    "import os\n",
    "from torch.utils.data import Dataset, DataLoader\n",
    "import numpy as np\n",
    "from matplotlib import pyplot as plt\n",
    "%matplotlib inline\n",
    "import time\n",
    "\n",
    "import dataloader as dl\n",
    "from model import BinaryViT"
   ]
  },
  {
   "cell_type": "markdown",
   "id": "bd48872d",
   "metadata": {},
   "source": [
    "# Fetch the dataset from Kaggle"
   ]
  },
  {
   "cell_type": "code",
   "execution_count": 4,
   "id": "eb8627dc",
   "metadata": {},
   "outputs": [
    {
     "name": "stdout",
     "output_type": "stream",
     "text": [
      "Path to dataset files: /home/dan/.cache/kagglehub/datasets/shreyasraghav/shutterstock-dataset-for-ai-vs-human-gen-image/versions/2\n"
     ]
    }
   ],
   "source": [
    "\n",
    "# Download latest version\n",
    "path = kagglehub.dataset_download(\"shreyasraghav/shutterstock-dataset-for-ai-vs-human-gen-image\")\n",
    "\n",
    "print(\"Path to dataset files:\", path)\n",
    "train_data_path = os.path.join(path, \"train.csv\")"
   ]
  },
  {
   "cell_type": "markdown",
   "id": "8c597909",
   "metadata": {},
   "source": [
    "# Setup the data loader"
   ]
  },
  {
   "cell_type": "code",
   "execution_count": 5,
   "id": "d2ed3fdf",
   "metadata": {},
   "outputs": [],
   "source": [
    "# setup the polars dataframe containing the path and label of the images\n",
    "train_data = pl.read_csv(train_data_path)\n",
    "# prepend the path with the path to the dataset\n",
    "train_data = train_data.with_columns([pl.col(\"file_name\").map_elements(lambda s: os.path.join(path, s), return_dtype=str).alias(\"path\")])"
   ]
  },
  {
   "cell_type": "code",
   "execution_count": 6,
   "id": "17bbf863",
   "metadata": {},
   "outputs": [],
   "source": [
    "dataloader = dl.load_data(train_data)\n",
    "#display the first image\n",
    "# img, label = next(iter(dataloader))\n",
    "# print(img.shape, label.shape)\n",
    "# plt.imshow(img[0].permute(1, 2, 0))"
   ]
  },
  {
   "cell_type": "markdown",
   "id": "a3097b23",
   "metadata": {},
   "source": [
    "# Training"
   ]
  },
  {
   "cell_type": "code",
   "execution_count": 9,
   "id": "1c44fb22",
   "metadata": {},
   "outputs": [],
   "source": [
    "from dataclasses import dataclass\n",
    "@dataclass\n",
    "class TrainReport:\n",
    "    accuracies  : list[float]\n",
    "    losses      : list[float]\n",
    "\n",
    "def train(model: nn.Module, dataloader, criterion, optimizer, epochs, device) -> TrainReport:\n",
    "    report = TrainReport([], [])\n",
    "    model.train()\n",
    "    for epoch in range(epochs):\n",
    "        running_loss = 0.0\n",
    "        for images, labels in dataloader:\n",
    "            images, labels = images.to(device), labels.to(device)\n",
    "\n",
    "            optimizer.zero_grad()\n",
    "            outputs = model(images)\n",
    "            loss = criterion(outputs, labels)\n",
    "            loss.backward()\n",
    "            optimizer.step()\n",
    "\n",
    "            running_loss += loss.item()\n",
    "            report.losses.append(loss.item())\n",
    "            report.accuracies.append((outputs.argmax(1) == labels).float().mean().item())\n",
    "\n",
    "        print(f\"Epoch {epoch+1}/{epochs}, Loss: {running_loss/len(dataloader)}\")"
   ]
  },
  {
   "cell_type": "code",
   "execution_count": 10,
   "id": "92d0949d",
   "metadata": {},
   "outputs": [
    {
     "name": "stdout",
     "output_type": "stream",
     "text": [
      "Training...\n",
      "Epoch 1/10, Loss: 2.7824938570149245\n",
      "Epoch 2/10, Loss: 0.7428660750389099\n",
      "Epoch 3/10, Loss: 0.680300161242485\n",
      "Epoch 4/10, Loss: 0.5195346131920815\n",
      "Epoch 5/10, Loss: 0.4087089017033577\n",
      "Epoch 6/10, Loss: 0.26569681577384474\n",
      "Epoch 7/10, Loss: 0.30899502013344315\n",
      "Epoch 8/10, Loss: 0.3363210613839328\n",
      "Epoch 9/10, Loss: 0.7763480836525559\n",
      "Epoch 10/10, Loss: 0.10216161543503403\n",
      "Training took 281.40 seconds\n"
     ]
    }
   ],
   "source": [
    "data_for_train = torch.utils.data.Subset(dataloader.dataset, range(10))\n",
    "model = BinaryViT()\n",
    "device = torch.device(\"cuda\" if torch.cuda.is_available() else \"cpu\")\n",
    "model.to(device)\n",
    "criterion = nn.CrossEntropyLoss()\n",
    "optimizer = optim.Adam(model.parameters(), lr=0.0001)\n",
    "print('Training...')\n",
    "start = time.time()\n",
    "train(model, data_for_train, criterion, optimizer, 10, device)\n",
    "print(f\"Training took {time.time()-start:.2f} seconds\")\n"
   ]
  }
 ],
 "metadata": {
  "kernelspec": {
   "display_name": ".venv",
   "language": "python",
   "name": "python3"
  },
  "language_info": {
   "codemirror_mode": {
    "name": "ipython",
    "version": 3
   },
   "file_extension": ".py",
   "mimetype": "text/x-python",
   "name": "python",
   "nbconvert_exporter": "python",
   "pygments_lexer": "ipython3",
   "version": "3.12.3"
  }
 },
 "nbformat": 4,
 "nbformat_minor": 5
}
