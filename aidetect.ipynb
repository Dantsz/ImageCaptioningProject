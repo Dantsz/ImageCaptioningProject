{
  "cells": [
    {
      "cell_type": "markdown",
      "metadata": {
        "id": "view-in-github",
        "colab_type": "text"
      },
      "source": [
        "<a href=\"https://colab.research.google.com/github/Dantsz/aiimgdetect/blob/main/aidetect.ipynb\" target=\"_parent\"><img src=\"https://colab.research.google.com/assets/colab-badge.svg\" alt=\"Open In Colab\"/></a>"
      ]
    },
    {
      "cell_type": "code",
      "execution_count": 1,
      "id": "331c1415",
      "metadata": {
        "id": "331c1415"
      },
      "outputs": [],
      "source": [
        "%load_ext autoreload\n",
        "%autoreload 2"
      ]
    },
    {
      "cell_type": "code",
      "execution_count": 15,
      "id": "0a3c60a7",
      "metadata": {
        "id": "0a3c60a7"
      },
      "outputs": [],
      "source": [
        "import kagglehub\n",
        "import polars as pl\n",
        "import os\n",
        "import torch\n",
        "import torch.nn as nn\n",
        "import torch.optim as optim\n",
        "from torchvision import transforms\n",
        "from torchvision.models import VisionTransformer\n",
        "from PIL import Image\n",
        "import os\n",
        "from torch.utils.data import Dataset, DataLoader\n",
        "import numpy as np\n",
        "from matplotlib import pyplot as plt\n",
        "%matplotlib inline\n",
        "import time\n",
        "import tqdm"
      ]
    },
    {
      "cell_type": "markdown",
      "id": "bd48872d",
      "metadata": {
        "id": "bd48872d"
      },
      "source": [
        "# Fetch the dataset from Kaggle"
      ]
    },
    {
      "cell_type": "code",
      "execution_count": 4,
      "id": "eb8627dc",
      "metadata": {
        "id": "eb8627dc",
        "outputId": "51867e01-ac56-4dae-ffde-b47021f188ea",
        "colab": {
          "base_uri": "https://localhost:8080/"
        }
      },
      "outputs": [
        {
          "output_type": "stream",
          "name": "stdout",
          "text": [
            "Resuming download from 1633681408 bytes (4084396648 bytes left)...\n",
            "Resuming download from https://www.kaggle.com/api/v1/datasets/download/shreyasraghav/shutterstock-dataset-for-ai-vs-human-gen-image?dataset_version_number=2 (1633681408/5718078056) bytes left.\n"
          ]
        },
        {
          "output_type": "stream",
          "name": "stderr",
          "text": [
            "100%|██████████| 5.33G/5.33G [03:20<00:00, 20.4MB/s]"
          ]
        },
        {
          "output_type": "stream",
          "name": "stdout",
          "text": [
            "Extracting files...\n"
          ]
        },
        {
          "output_type": "stream",
          "name": "stderr",
          "text": [
            "\n"
          ]
        },
        {
          "output_type": "stream",
          "name": "stdout",
          "text": [
            "Path to dataset files: /root/.cache/kagglehub/datasets/shreyasraghav/shutterstock-dataset-for-ai-vs-human-gen-image/versions/2\n"
          ]
        }
      ],
      "source": [
        "\n",
        "# Download latest version\n",
        "path = kagglehub.dataset_download(\"shreyasraghav/shutterstock-dataset-for-ai-vs-human-gen-image\")\n",
        "\n",
        "print(\"Path to dataset files:\", path)\n",
        "train_data_path = os.path.join(path, \"train.csv\")"
      ]
    },
    {
      "cell_type": "markdown",
      "id": "d75b9953",
      "metadata": {
        "id": "d75b9953"
      },
      "source": [
        "# Create a dataloader"
      ]
    },
    {
      "cell_type": "code",
      "execution_count": 5,
      "id": "e79843eb",
      "metadata": {
        "id": "e79843eb"
      },
      "outputs": [],
      "source": [
        "class ImageDataset(Dataset):\n",
        "    def __init__(self, image_paths, labels, transform=None):\n",
        "        self.image_paths = image_paths\n",
        "        self.labels = labels\n",
        "        self.transform = transform\n",
        "\n",
        "    def __len__(self):\n",
        "        return len(self.image_paths)\n",
        "\n",
        "    def __getitem__(self, idx):\n",
        "        image_path = self.image_paths[idx]\n",
        "        image = Image.open(image_path).convert(\"RGB\")  # Ensure RGB\n",
        "        label = torch.tensor([float(self.labels[idx])], dtype=torch.float)  # Binary labels\n",
        "\n",
        "        if self.transform:\n",
        "            image = self.transform(image)\n",
        "\n",
        "        return image, label\n",
        "\n",
        "def load_data(data: pl.DataFrame, train_ratio: float = 0.8) -> tuple[DataLoader, DataLoader]:\n",
        "    image_paths = data['path'].to_list()\n",
        "    labels = data['label'].to_list()\n",
        "\n",
        "    transform = transforms.Compose([\n",
        "        transforms.Resize((224, 224)),\n",
        "        transforms.ToTensor(),\n",
        "        transforms.Normalize(mean=[0.485, 0.456, 0.406], std=[0.229, 0.224, 0.225]),\n",
        "    ])\n",
        "\n",
        "    dataset = ImageDataset(image_paths, labels, transform=transform)\n",
        "    # make sure the lengths of train/test add up to the original\n",
        "    train_len = int(len(dataset) * train_ratio)\n",
        "    test_len = len(dataset) - train_len\n",
        "    train, test = torch.utils.data.random_split(dataset, [train_len, test_len])\n",
        "    dataloader_train = DataLoader(train, batch_size=32, shuffle=True)\n",
        "    dataloader_test = DataLoader(test, batch_size=32, shuffle=True)\n",
        "    return dataloader_train, dataloader_test"
      ]
    },
    {
      "cell_type": "markdown",
      "id": "8c597909",
      "metadata": {
        "id": "8c597909"
      },
      "source": [
        "# Setup the data loader"
      ]
    },
    {
      "cell_type": "code",
      "execution_count": 6,
      "id": "d2ed3fdf",
      "metadata": {
        "id": "d2ed3fdf"
      },
      "outputs": [],
      "source": [
        "# setup the polars dataframe containing the path and label of the images\n",
        "train_data = pl.read_csv(train_data_path)\n",
        "# prepend the path with the path to the dataset\n",
        "train_data = train_data.with_columns([pl.col(\"file_name\").map_elements(lambda s: os.path.join(path, s), return_dtype=str).alias(\"path\")])"
      ]
    },
    {
      "cell_type": "code",
      "execution_count": 7,
      "id": "17bbf863",
      "metadata": {
        "id": "17bbf863"
      },
      "outputs": [],
      "source": [
        "dataloader_train, dataloader_test = load_data(train_data)\n",
        "#display the first image\n",
        "# img, label = next(iter(dataloader))\n",
        "# print(img.shape, label.shape)\n",
        "# plt.imshow(img[0].permute(1, 2, 0))"
      ]
    },
    {
      "cell_type": "markdown",
      "id": "2fb69134",
      "metadata": {
        "id": "2fb69134"
      },
      "source": [
        "# Create the model architecture"
      ]
    },
    {
      "cell_type": "code",
      "execution_count": 8,
      "id": "95b97d10",
      "metadata": {
        "id": "95b97d10"
      },
      "outputs": [],
      "source": [
        "class BinaryViT(nn.Module):\n",
        "    def __init__(self):\n",
        "        super(BinaryViT, self).__init__()\n",
        "        self.vit = VisionTransformer(\n",
        "                    image_size=224,    # Input image size\n",
        "                    patch_size=16,     # Patch size\n",
        "                    hidden_dim=768,          # Embedding dimension\n",
        "                    num_layers=12,         # Number of transformer layers\n",
        "                    num_heads=12,         # Number of attention heads\n",
        "                    mlp_dim=3072,     # Feedforward MLP dimension\n",
        "                    dropout=0.1,      # Dropout probability\n",
        "                    num_classes=1  # Output classes\n",
        "                )\n",
        "    def forward(self, x):\n",
        "        x = self.vit(x)\n",
        "        return x\n"
      ]
    },
    {
      "cell_type": "markdown",
      "id": "a3097b23",
      "metadata": {
        "id": "a3097b23"
      },
      "source": [
        "# Training"
      ]
    },
    {
      "cell_type": "code",
      "execution_count": 19,
      "id": "1c44fb22",
      "metadata": {
        "id": "1c44fb22"
      },
      "outputs": [],
      "source": [
        "from dataclasses import dataclass\n",
        "@dataclass\n",
        "class TrainReport:\n",
        "    accuracies  : list[float]\n",
        "    losses      : list[float]\n",
        "\n",
        "def train(model: nn.Module, dataloader, criterion, optimizer, epochs, device) -> TrainReport:\n",
        "    report = TrainReport([], [])\n",
        "    model.train()\n",
        "    for epoch in range(epochs):\n",
        "        running_loss = 0.0\n",
        "        for images, labels in tqdm.tqdm(dataloader, leave=False):\n",
        "            images, labels = images.to(device), labels.to(device)\n",
        "\n",
        "            optimizer.zero_grad()\n",
        "            outputs = model(images)\n",
        "            loss = criterion(outputs, labels)\n",
        "            loss.backward()\n",
        "            optimizer.step()\n",
        "\n",
        "            running_loss += loss.item()\n",
        "            report.losses.append(loss.item())\n",
        "            #outputs ar in range 0-1, for report just use 0.5 as threshold\n",
        "            report.accuracies.append(((outputs > 0.5) == labels).float().mean().item())\n",
        "\n",
        "        print(f\"Epoch {epoch+1}/{epochs}, Loss: {running_loss/len(dataloader)}\")\n",
        "    return report"
      ]
    },
    {
      "cell_type": "code",
      "execution_count": 21,
      "id": "92d0949d",
      "metadata": {
        "id": "92d0949d",
        "outputId": "7b56aa53-84e4-4581-c0b3-ceefdbc67b5a",
        "colab": {
          "base_uri": "https://localhost:8080/"
        }
      },
      "outputs": [
        {
          "output_type": "stream",
          "name": "stdout",
          "text": [
            "Using device: cuda\n",
            "Training...\n"
          ]
        },
        {
          "output_type": "stream",
          "name": "stderr",
          "text": []
        },
        {
          "output_type": "stream",
          "name": "stdout",
          "text": [
            "Epoch 1/10, Loss: 0.7054256796836853\n"
          ]
        },
        {
          "output_type": "stream",
          "name": "stderr",
          "text": []
        },
        {
          "output_type": "stream",
          "name": "stdout",
          "text": [
            "Epoch 2/10, Loss: 0.703155642747879\n"
          ]
        },
        {
          "output_type": "stream",
          "name": "stderr",
          "text": []
        },
        {
          "output_type": "stream",
          "name": "stdout",
          "text": [
            "Epoch 3/10, Loss: 0.6865910887718201\n"
          ]
        },
        {
          "output_type": "stream",
          "name": "stderr",
          "text": []
        },
        {
          "output_type": "stream",
          "name": "stdout",
          "text": [
            "Epoch 4/10, Loss: 0.6366521060466767\n"
          ]
        },
        {
          "output_type": "stream",
          "name": "stderr",
          "text": []
        },
        {
          "output_type": "stream",
          "name": "stdout",
          "text": [
            "Epoch 5/10, Loss: 0.6836412787437439\n"
          ]
        },
        {
          "output_type": "stream",
          "name": "stderr",
          "text": []
        },
        {
          "output_type": "stream",
          "name": "stdout",
          "text": [
            "Epoch 6/10, Loss: 0.5704750061035156\n"
          ]
        },
        {
          "output_type": "stream",
          "name": "stderr",
          "text": []
        },
        {
          "output_type": "stream",
          "name": "stdout",
          "text": [
            "Epoch 7/10, Loss: 0.5785601675510407\n"
          ]
        },
        {
          "output_type": "stream",
          "name": "stderr",
          "text": []
        },
        {
          "output_type": "stream",
          "name": "stdout",
          "text": [
            "Epoch 8/10, Loss: 0.4848037511110306\n"
          ]
        },
        {
          "output_type": "stream",
          "name": "stderr",
          "text": []
        },
        {
          "output_type": "stream",
          "name": "stdout",
          "text": [
            "Epoch 9/10, Loss: 0.5825456768274307\n"
          ]
        },
        {
          "output_type": "stream",
          "name": "stderr",
          "text": [
            "                                               "
          ]
        },
        {
          "output_type": "stream",
          "name": "stdout",
          "text": [
            "Epoch 10/10, Loss: 0.6122713714838028\n",
            "Training took 7.37 seconds\n"
          ]
        },
        {
          "output_type": "stream",
          "name": "stderr",
          "text": [
            "\r"
          ]
        }
      ],
      "source": [
        "data_for_train = torch.utils.data.Subset(dataloader_train.dataset, range(10))\n",
        "data_for_train = DataLoader(data_for_train, batch_size=1, shuffle=True)\n",
        "model = BinaryViT()\n",
        "device = torch.device(\"cuda\" if torch.cuda.is_available() else \"cpu\")\n",
        "print(f\"Using device: {device}\")\n",
        "model.to(device)\n",
        "criterion = nn.BCEWithLogitsLoss()\n",
        "optimizer = optim.Adam(model.parameters(), lr=0.0001)\n",
        "print('Training...')\n",
        "start = time.time()\n",
        "report = train(model, data_for_train, criterion, optimizer, 10, device)\n",
        "print(f\"Training took {time.time()-start:.2f} seconds\")\n"
      ]
    },
    {
      "cell_type": "markdown",
      "id": "a90f606a",
      "metadata": {
        "id": "a90f606a"
      },
      "source": [
        "# Plots"
      ]
    },
    {
      "cell_type": "markdown",
      "id": "905b146d",
      "metadata": {
        "id": "905b146d"
      },
      "source": [
        "## Training loss and accuracy"
      ]
    },
    {
      "cell_type": "code",
      "execution_count": 11,
      "id": "da8928a6",
      "metadata": {
        "id": "da8928a6",
        "outputId": "a218d260-a4b7-4917-a6e6-cfc72721ca6c",
        "colab": {
          "base_uri": "https://localhost:8080/",
          "height": 391
        }
      },
      "outputs": [
        {
          "output_type": "display_data",
          "data": {
            "text/plain": [
              "<Figure size 1200x400 with 2 Axes>"
            ],
            "image/png": "[encoded data removed]"
          },
          "metadata": {}
        }
      ],
      "source": [
        "# plot the report loss and accuracy\n",
        "\n",
        "def plot_report(report: TrainReport):\n",
        "    fig, ax = plt.subplots(1, 2, figsize=(12, 4))\n",
        "    ax[0].plot(report.losses, color='red')\n",
        "    ax[0].set_title(\"Loss\")\n",
        "    ax[1].plot(report.accuracies)\n",
        "    ax[1].set_title(\"Accuracy\")\n",
        "    plt.show()\n",
        "\n",
        "plot_report(report)"
      ]
    },
    {
      "cell_type": "markdown",
      "id": "b2ccbab2",
      "metadata": {
        "id": "b2ccbab2"
      },
      "source": [
        "## Testing confusion matrix"
      ]
    },
    {
      "cell_type": "code",
      "execution_count": 12,
      "id": "7ac3b571",
      "metadata": {
        "id": "7ac3b571",
        "outputId": "475c78b3-2e61-414e-969e-9b79dfa506fc",
        "colab": {
          "base_uri": "https://localhost:8080/",
          "height": 435
        }
      },
      "outputs": [
        {
          "output_type": "display_data",
          "data": {
            "text/plain": [
              "<Figure size 640x480 with 2 Axes>"
            ],
            "image/png": "[encoded data removed]"
          },
          "metadata": {}
        }
      ],
      "source": [
        "from seaborn import heatmap\n",
        "data_for_test = torch.utils.data.Subset(dataloader_test.dataset, range(10))\n",
        "data_for_test = DataLoader(data_for_test, batch_size=32, shuffle=True)\n",
        "# plot confusion matrix\n",
        "def plot_confusion_matrix(model, dataloader, device):\n",
        "    model.eval()\n",
        "    y_true = []\n",
        "    y_pred = []\n",
        "    for images, labels in dataloader:\n",
        "        images, labels = images.to(device), labels.to(device)\n",
        "        outputs = model(images)\n",
        "        y_true.extend(labels.cpu().numpy())\n",
        "        y_pred.extend((outputs > 0.5).cpu().numpy())\n",
        "    y_true = np.array(y_true)\n",
        "    y_pred = np.array(y_pred)\n",
        "    confusion_matrix = np.zeros((2, 2))\n",
        "    for i in range(2):\n",
        "        for j in range(2):\n",
        "            confusion_matrix[i, j] = np.sum((y_true == i) & (y_pred == j))\n",
        "    #plot confusion matrix, with\n",
        "    heatmap(confusion_matrix, annot=True)\n",
        "    plt.show()\n",
        "\n",
        "plot_confusion_matrix(model, data_for_test, device)\n"
      ]
    },
    {
      "cell_type": "markdown",
      "id": "9679f4da",
      "metadata": {
        "id": "9679f4da"
      },
      "source": [
        "# Metrics"
      ]
    },
    {
      "cell_type": "code",
      "execution_count": 13,
      "id": "a7a5fa4e",
      "metadata": {
        "id": "a7a5fa4e",
        "outputId": "323a37cf-a48d-4094-f779-3fa9685ebf76",
        "colab": {
          "base_uri": "https://localhost:8080/"
        }
      },
      "outputs": [
        {
          "output_type": "stream",
          "name": "stdout",
          "text": [
            "Accuracy: 0.70, Precision: 0.71, Recall: 0.83\n"
          ]
        }
      ],
      "source": [
        "# compute scores\n",
        "def compute_scores(model, dataloader, device):\n",
        "    model.eval()\n",
        "    y_true = []\n",
        "    y_pred = []\n",
        "    for images, labels in dataloader:\n",
        "        images, labels = images.to(device), labels.to(device)\n",
        "        outputs = model(images)\n",
        "        y_true.extend(labels.cpu().numpy())\n",
        "        y_pred.extend((outputs > 0.5).cpu().numpy())\n",
        "    y_true = np.array(y_true)\n",
        "    y_pred = np.array(y_pred)\n",
        "    accuracy = np.mean(y_true == y_pred)\n",
        "    precision = np.sum((y_true == 1) & (y_pred == 1)) / np.sum(y_pred == 1)\n",
        "    recall = np.sum((y_true == 1) & (y_pred == 1)) / np.sum(y_true == 1)\n",
        "    return accuracy, precision, recall\n",
        "\n",
        "accuracy, precision, recall = compute_scores(model, data_for_test, device)\n",
        "print(f\"Accuracy: {accuracy:.2f}, Precision: {precision:.2f}, Recall: {recall:.2f}\")"
      ]
    },
    {
      "cell_type": "markdown",
      "id": "754b6558",
      "metadata": {
        "id": "754b6558"
      },
      "source": [
        "# Save the model"
      ]
    },
    {
      "cell_type": "code",
      "execution_count": 14,
      "id": "07c34bc0",
      "metadata": {
        "id": "07c34bc0",
        "outputId": "a180aa8c-3174-48ee-a784-0d6b08e7feb0",
        "colab": {
          "base_uri": "https://localhost:8080/"
        }
      },
      "outputs": [
        {
          "output_type": "stream",
          "name": "stdout",
          "text": [
            "Model saved as model.pth\n"
          ]
        }
      ],
      "source": [
        "torch.save(model.state_dict(), \"model.pth\")\n",
        "print(\"Model saved as model.pth\")"
      ]
    }
  ],
  "metadata": {
    "kernelspec": {
      "display_name": "Python 3",
      "name": "python3"
    },
    "language_info": {
      "codemirror_mode": {
        "name": "ipython",
        "version": 3
      },
      "file_extension": ".py",
      "mimetype": "text/x-python",
      "name": "python",
      "nbconvert_exporter": "python",
      "pygments_lexer": "ipython3",
      "version": "3.12.3"
    },
    "colab": {
      "provenance": [],
      "gpuType": "T4",
      "include_colab_link": true
    },
    "accelerator": "GPU"
  },
  "nbformat": 4,
  "nbformat_minor": 5
}