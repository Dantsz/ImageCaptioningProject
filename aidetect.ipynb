{
 "cells": [
  {
   "cell_type": "code",
   "execution_count": 19,
   "id": "331c1415",
   "metadata": {},
   "outputs": [
    {
     "name": "stdout",
     "output_type": "stream",
     "text": [
      "The autoreload extension is already loaded. To reload it, use:\n",
      "  %reload_ext autoreload\n"
     ]
    }
   ],
   "source": [
    "%load_ext autoreload\n",
    "%autoreload 2"
   ]
  },
  {
   "cell_type": "code",
   "execution_count": null,
   "id": "0a3c60a7",
   "metadata": {},
   "outputs": [],
   "source": [
    "import kagglehub\n",
    "import polars as pl\n",
    "import os\n",
    "import torch\n",
    "import torch.nn as nn\n",
    "import torch.optim as optim\n",
    "from torchvision import transforms\n",
    "from torchvision.models import VisionTransformer\n",
    "from PIL import Image\n",
    "import os\n",
    "from torch.utils.data import Dataset, DataLoader\n",
    "import numpy as np\n",
    "from matplotlib import pyplot as plt\n",
    "%matplotlib inline\n",
    "import time"
   ]
  },
  {
   "cell_type": "markdown",
   "id": "bd48872d",
   "metadata": {},
   "source": [
    "# Fetch the dataset from Kaggle"
   ]
  },
  {
   "cell_type": "code",
   "execution_count": 21,
   "id": "eb8627dc",
   "metadata": {},
   "outputs": [
    {
     "name": "stdout",
     "output_type": "stream",
     "text": [
      "Path to dataset files: /home/dan/.cache/kagglehub/datasets/shreyasraghav/shutterstock-dataset-for-ai-vs-human-gen-image/versions/2\n"
     ]
    }
   ],
   "source": [
    "\n",
    "# Download latest version\n",
    "path = kagglehub.dataset_download(\"shreyasraghav/shutterstock-dataset-for-ai-vs-human-gen-image\")\n",
    "\n",
    "print(\"Path to dataset files:\", path)\n",
    "train_data_path = os.path.join(path, \"train.csv\")"
   ]
  },
  {
   "cell_type": "markdown",
   "id": "d75b9953",
   "metadata": {},
   "source": [
    "# Create a dataloader"
   ]
  },
  {
   "cell_type": "code",
   "execution_count": 26,
   "id": "e79843eb",
   "metadata": {},
   "outputs": [],
   "source": [
    "class ImageDataset(Dataset):\n",
    "    def __init__(self, image_paths, labels, transform=None):\n",
    "        self.image_paths = image_paths\n",
    "        self.labels = labels\n",
    "        self.transform = transform\n",
    "\n",
    "    def __len__(self):\n",
    "        return len(self.image_paths)\n",
    "\n",
    "    def __getitem__(self, idx):\n",
    "        image_path = self.image_paths[idx]\n",
    "        image = Image.open(image_path).convert(\"RGB\")  # Ensure RGB\n",
    "        label = torch.tensor([float(self.labels[idx])], dtype=torch.float)  # Binary labels\n",
    "\n",
    "        if self.transform:\n",
    "            image = self.transform(image)\n",
    "            image = image.unsqueeze(0)  # Add batch dimension\n",
    "\n",
    "        return image, label\n",
    "\n",
    "def load_data(data: pl.DataFrame, train_ratio: float = 0.8) -> tuple[DataLoader, DataLoader]:\n",
    "    image_paths = data['path'].to_list()\n",
    "    labels = data['label'].to_list()\n",
    "\n",
    "    transform = transforms.Compose([\n",
    "        transforms.Resize((224, 224)),\n",
    "        transforms.ToTensor(),\n",
    "        transforms.Normalize(mean=[0.485, 0.456, 0.406], std=[0.229, 0.224, 0.225]),\n",
    "    ])\n",
    "\n",
    "    dataset = ImageDataset(image_paths, labels, transform=transform)\n",
    "    # make sure the lengths of train/test add up to the original\n",
    "    train_len = int(len(dataset) * train_ratio)\n",
    "    test_len = len(dataset) - train_len\n",
    "    train, test = torch.utils.data.random_split(dataset, [train_len, test_len])\n",
    "    dataloader_train = DataLoader(train, batch_size=32, shuffle=True)\n",
    "    dataloader_test = DataLoader(test, batch_size=32, shuffle=True)\n",
    "    return dataloader_train, dataloader_test"
   ]
  },
  {
   "cell_type": "markdown",
   "id": "8c597909",
   "metadata": {},
   "source": [
    "# Setup the data loader"
   ]
  },
  {
   "cell_type": "code",
   "execution_count": 27,
   "id": "d2ed3fdf",
   "metadata": {},
   "outputs": [],
   "source": [
    "# setup the polars dataframe containing the path and label of the images\n",
    "train_data = pl.read_csv(train_data_path)\n",
    "# prepend the path with the path to the dataset\n",
    "train_data = train_data.with_columns([pl.col(\"file_name\").map_elements(lambda s: os.path.join(path, s), return_dtype=str).alias(\"path\")])"
   ]
  },
  {
   "cell_type": "code",
   "execution_count": 28,
   "id": "17bbf863",
   "metadata": {},
   "outputs": [],
   "source": [
    "dataloader_train, dataloader_test = load_data(train_data)\n",
    "#display the first image\n",
    "# img, label = next(iter(dataloader))\n",
    "# print(img.shape, label.shape)\n",
    "# plt.imshow(img[0].permute(1, 2, 0))"
   ]
  },
  {
   "cell_type": "markdown",
   "id": "2fb69134",
   "metadata": {},
   "source": [
    "# Create the model architecture"
   ]
  },
  {
   "cell_type": "code",
   "execution_count": 35,
   "id": "95b97d10",
   "metadata": {},
   "outputs": [],
   "source": [
    "class BinaryViT(nn.Module):\n",
    "    def __init__(self):\n",
    "        super(BinaryViT, self).__init__()\n",
    "        self.vit = VisionTransformer(\n",
    "                    image_size=224,    # Input image size\n",
    "                    patch_size=16,     # Patch size\n",
    "                    hidden_dim=768,          # Embedding dimension\n",
    "                    num_layers=12,         # Number of transformer layers\n",
    "                    num_heads=12,         # Number of attention heads\n",
    "                    mlp_dim=3072,     # Feedforward MLP dimension\n",
    "                    dropout=0.1,      # Dropout probability\n",
    "                    num_classes=2  # Output classes\n",
    "                )\n",
    "        # replacing the head\n",
    "        self.vit.heads = nn.Sequential(nn.Linear(self.vit.hidden_dim, 1))\n",
    "    def forward(self, x):\n",
    "        x = self.vit(x).squeeze(1)\n",
    "        return x\n"
   ]
  },
  {
   "cell_type": "markdown",
   "id": "a3097b23",
   "metadata": {},
   "source": [
    "# Training"
   ]
  },
  {
   "cell_type": "code",
   "execution_count": 36,
   "id": "1c44fb22",
   "metadata": {},
   "outputs": [],
   "source": [
    "from dataclasses import dataclass\n",
    "@dataclass\n",
    "class TrainReport:\n",
    "    accuracies  : list[float]\n",
    "    losses      : list[float]\n",
    "\n",
    "def train(model: nn.Module, dataloader, criterion, optimizer, epochs, device) -> TrainReport:\n",
    "    report = TrainReport([], [])\n",
    "    model.train()\n",
    "    for epoch in range(epochs):\n",
    "        running_loss = 0.0\n",
    "        for images, labels in dataloader:\n",
    "            images, labels = images.to(device), labels.to(device)\n",
    "\n",
    "            optimizer.zero_grad()\n",
    "            outputs = model(images)\n",
    "            loss = criterion(outputs, labels)\n",
    "            loss.backward()\n",
    "            optimizer.step()\n",
    "\n",
    "            running_loss += loss.item()\n",
    "            report.losses.append(loss.item())\n",
    "            #outputs ar in range 0-1, for report just use 0.5 as threshold\n",
    "            report.accuracies.append(((outputs > 0.5) == labels).float().mean().item())\n",
    "\n",
    "        print(f\"Epoch {epoch+1}/{epochs}, Loss: {running_loss/len(dataloader)}\")\n",
    "    return report"
   ]
  },
  {
   "cell_type": "code",
   "execution_count": 37,
   "id": "92d0949d",
   "metadata": {},
   "outputs": [
    {
     "name": "stdout",
     "output_type": "stream",
     "text": [
      "Using device: cpu\n",
      "Training...\n",
      "Epoch 1/10, Loss: 1.1630346418474802\n",
      "Epoch 2/10, Loss: 1.9997870794890331\n",
      "Epoch 3/10, Loss: 0.3655889628396835\n",
      "Epoch 4/10, Loss: 0.4249731660151156\n",
      "Epoch 5/10, Loss: 0.19870849892540718\n",
      "Epoch 6/10, Loss: 0.26706328604486773\n",
      "Epoch 7/10, Loss: 0.30094072849351505\n",
      "Epoch 8/10, Loss: 0.09557003364971024\n",
      "Epoch 9/10, Loss: 0.12549252360549873\n",
      "Epoch 10/10, Loss: 0.02184515555672988\n",
      "Training took 262.09 seconds\n"
     ]
    }
   ],
   "source": [
    "data_for_train = torch.utils.data.Subset(dataloader_test.dataset, range(10))\n",
    "model = BinaryViT()\n",
    "device = torch.device(\"cuda\" if torch.cuda.is_available() else \"cpu\")\n",
    "print(f\"Using device: {device}\")\n",
    "model.to(device)\n",
    "criterion = nn.BCEWithLogitsLoss()\n",
    "optimizer = optim.Adam(model.parameters(), lr=0.0001)\n",
    "print('Training...')\n",
    "start = time.time()\n",
    "report = train(model, data_for_train, criterion, optimizer, 10, device)\n",
    "print(f\"Training took {time.time()-start:.2f} seconds\")\n"
   ]
  },
  {
   "cell_type": "markdown",
   "id": "a90f606a",
   "metadata": {},
   "source": [
    "# Plots"
   ]
  },
  {
   "cell_type": "code",
   "execution_count": 38,
   "id": "da8928a6",
   "metadata": {},
   "outputs": [
    {
     "data": {
      "image/png": "[encoded data removed]",
      "text/plain": [
       "<Figure size 1200x400 with 2 Axes>"
      ]
     },
     "metadata": {},
     "output_type": "display_data"
    }
   ],
   "source": [
    "# plot the report loss and accuracy\n",
    "\n",
    "def plot_report(report: TrainReport):\n",
    "    fig, ax = plt.subplots(1, 2, figsize=(12, 4))\n",
    "    ax[0].plot(report.losses, color='red')\n",
    "    ax[0].set_title(\"Loss\")\n",
    "    ax[1].plot(report.accuracies)\n",
    "    ax[1].set_title(\"Accuracy\")\n",
    "    plt.show()\n",
    "\n",
    "plot_report(report)"
   ]
  },
  {
   "cell_type": "markdown",
   "id": "754b6558",
   "metadata": {},
   "source": [
    "# Save the model"
   ]
  },
  {
   "cell_type": "code",
   "execution_count": 39,
   "id": "07c34bc0",
   "metadata": {},
   "outputs": [
    {
     "name": "stdout",
     "output_type": "stream",
     "text": [
      "Model saved as model.pth\n"
     ]
    }
   ],
   "source": [
    "torch.save(model.state_dict(), \"model.pth\")\n",
    "print(\"Model saved as model.pth\")"
   ]
  }
 ],
 "metadata": {
  "kernelspec": {
   "display_name": ".venv",
   "language": "python",
   "name": "python3"
  },
  "language_info": {
   "codemirror_mode": {
    "name": "ipython",
    "version": 3
   },
   "file_extension": ".py",
   "mimetype": "text/x-python",
   "name": "python",
   "nbconvert_exporter": "python",
   "pygments_lexer": "ipython3",
   "version": "3.12.3"
  }
 },
 "nbformat": 4,
 "nbformat_minor": 5
}
